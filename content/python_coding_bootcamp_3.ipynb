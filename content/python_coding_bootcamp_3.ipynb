{
 "cells": [
  {
   "cell_type": "markdown",
   "id": "8cb4ca82-5172-400b-b7c4-0e840dd1ea52",
   "metadata": {},
   "source": [
    "# Python coding bootcamp - Notebook 3\n",
    "\n",
    "1. Data management and processing\n",
    "2. Data visualization\n",
    "\n",
    "&copy; Francis WOLINSKI 2024"
   ]
  },
  {
   "cell_type": "markdown",
   "id": "90bdb7bc-add1-46f3-97fc-55fb17d43b8e",
   "metadata": {},
   "source": [
    "<div class=\"alert alert-danger\">\n",
    "    <h3><i class=\"fa fa-plus-square\"></i>  PART 1</h3>\n",
    "</div>"
   ]
  },
  {
   "cell_type": "code",
   "execution_count": null,
   "id": "81ab151c-09fd-4da6-a041-db7fb51a5698",
   "metadata": {},
   "outputs": [],
   "source": [
    "import numpy as np\n",
    "import pandas as pd\n",
    "\n",
    "# display options\n",
    "pd.set_option(\"display.min_rows\", 16)\n",
    "pd.set_option(\"display.max_columns\", 30)"
   ]
  },
  {
   "cell_type": "code",
   "execution_count": null,
   "id": "a801bb63-2189-4f72-aa1f-54878fd2c71e",
   "metadata": {},
   "outputs": [],
   "source": [
    "# loading the 2023 file\n",
    "\n",
    "df2023 = pd.read_csv('data/names/yob2023.txt', names=['name', 'gender', 'births'])\n",
    "name2023 = df2023.set_index(\"name\")\n",
    "name2023 = name2023.head(17_532)  # so that the index is unique"
   ]
  },
  {
   "cell_type": "code",
   "execution_count": null,
   "id": "234d0373-c86c-4953-97b3-0b05741d69c0",
   "metadata": {},
   "outputs": [],
   "source": [
    "# Import all data in a single DataFrame\n",
    "\n",
    "df = pd.read_pickle('names.pkl')  # load it from pickle format\n",
    "df.shape"
   ]
  },
  {
   "cell_type": "markdown",
   "id": "30e5fd9f-17a4-41c8-b37e-76e261c9ddd2",
   "metadata": {},
   "source": [
    "# 1. Data management and processing\n",
    "\n",
    "![image](./images/pandas2.png)\n",
    "\n",
    "#### Reminder\n",
    "\n",
    "A `Series` object can behave like a dictionary with an access by labels (refering to the index) and like a list with an access by positions (refering to the underlying 1-D array).\n",
    "\n",
    "The `.loc[]` operator is reserved to labels and the `.iloc[]` one to positions.\n",
    "\n",
    "A `DataFrame` object can behave like a dictionary with an access by labels (refering to the index or to the columns) and like a list of lists with an access by positions (refering to the underlying 2-D array).\n",
    "\n",
    "The `.loc[]` operator is reserved to labels and the `.iloc[]` one to positions. The first part denotes rows, and the second part if any denotes columns.\n",
    "\n",
    "\n",
    "## 1.1 Modifying data\n",
    "\n",
    "It is possible to use the `.loc[]` or `.iloc[]` operators to modify some values of a `Series` or a `DataFrame` object."
   ]
  },
  {
   "cell_type": "code",
   "execution_count": null,
   "id": "f07975db-8c03-4c6e-8d15-d5d4ea5ca897",
   "metadata": {},
   "outputs": [],
   "source": [
    "# head of name2020\n",
    "name2023.head()"
   ]
  },
  {
   "cell_type": "code",
   "execution_count": null,
   "id": "23284ee3-ccd9-468b-a17e-999f4fb55f54",
   "metadata": {},
   "outputs": [],
   "source": [
    "# modify a single cell\n",
    "name2023.loc[\"Olivia\", \"births\"] = 18000\n",
    "name2023.head()"
   ]
  },
  {
   "cell_type": "code",
   "execution_count": null,
   "id": "d7f6c926-de45-444d-96b7-db57fe43be43",
   "metadata": {},
   "outputs": [],
   "source": [
    "# modify several cells\n",
    "name2023.iloc[2:4, 1] = 13000\n",
    "name2023.head()"
   ]
  },
  {
   "cell_type": "markdown",
   "id": "209afc0d-6560-42f4-bea4-9dd0a4eb7a5c",
   "metadata": {},
   "source": [
    "Some useful methods also enable to modify data: e.g., `replace()` to replace a given value by another, also `clip()` to trim all numeric values according to given thresholds."
   ]
  },
  {
   "cell_type": "code",
   "execution_count": null,
   "id": "282d93ba-d30a-4a1c-979f-b4675373a130",
   "metadata": {},
   "outputs": [],
   "source": [
    "# example with replace\n",
    "name2023['births'].replace(13527, 14000)"
   ]
  },
  {
   "cell_type": "code",
   "execution_count": null,
   "id": "ecf41173-576a-4c52-8b19-0e030ea2e8f6",
   "metadata": {},
   "outputs": [],
   "source": [
    "# example with clip\n",
    "\n",
    "name2023['births'].clip(10, 15000)"
   ]
  },
  {
   "cell_type": "markdown",
   "id": "994a5a71-51d7-4965-9e22-e0889ce3d26b",
   "metadata": {},
   "source": [
    "## 1.2 Sorting and sampling data\n",
    "\n",
    "Few methods enable to sort data in `Series` and `DataFrame` objects.\n",
    "- The method `sort_values()` enables to sort a `Series` or a `DataFrame` object according to its values\n",
    "- The method `sort_index()` enables to sort a `Series` or a `DataFrame` object according to its index\n",
    "\n",
    "For `DataFrame` objects, the `sort_values()` method takes a column or a list of columns as argument for the sorting.\n",
    "\n",
    "To sort values within the reverse order, one should uses the option `ascending=False`.\n",
    "\n",
    "The sorting operation returns a copy of the initial object."
   ]
  },
  {
   "cell_type": "code",
   "execution_count": null,
   "id": "c8027a71-516f-4046-ab63-a69ddf5c2aaa",
   "metadata": {},
   "outputs": [],
   "source": [
    "# sort df according to births\n",
    "df.sort_values(\"births\").head(10)"
   ]
  },
  {
   "cell_type": "code",
   "execution_count": null,
   "id": "9f6b8eb5-ec60-4199-a20c-ba139ae62b64",
   "metadata": {},
   "outputs": [],
   "source": [
    "# sort df according to births in reverse order\n",
    "df.sort_values(\"births\", ascending=False).head(10)"
   ]
  },
  {
   "cell_type": "code",
   "execution_count": null,
   "id": "9cd228bf-ae7a-4a19-ae60-d5a878c79c39",
   "metadata": {},
   "outputs": [],
   "source": [
    "# sort df according to births then names\n",
    "df.sort_values([\"births\", \"name\"]).head(10)"
   ]
  },
  {
   "cell_type": "code",
   "execution_count": null,
   "id": "6dfadfb6-6c7b-4e86-aae4-291f4b3a9aa0",
   "metadata": {},
   "outputs": [],
   "source": [
    "# sort df according to births then names in reverse order\n",
    "df.sort_values([\"births\", \"name\"], ascending=[True, False]).head(10)"
   ]
  },
  {
   "cell_type": "code",
   "execution_count": null,
   "id": "9c81a74d-45f7-4619-9aad-418301089e98",
   "metadata": {},
   "outputs": [],
   "source": [
    "# sort index\n",
    "name2023.sort_index().head(10)"
   ]
  },
  {
   "cell_type": "markdown",
   "id": "07d590a1-6a86-48d5-b127-0c1511ab56bb",
   "metadata": {},
   "source": [
    "<div class=\"alert alert-success\">\n",
    "    <h3><i class=\"fa fa-edit\"></i> Exercise 1 &starf;</h3>\n",
    "    <ul>\n",
    "        <li>Sort the large <code>DataFrame</code> by name</li>\n",
    "        <li>Then sort the large <code>DataFrame</code> by name and year. Compare the results.</li>\n",
    "        <li>Make a new <code>DataFrame</code> from the large one by setting its index to name.</li>\n",
    "        <li>Change all Emma births to 0 and sort the new <code>DataFrame</code> object by births and year.</li>\n",
    "    </ul>\n",
    "</div>"
   ]
  },
  {
   "cell_type": "code",
   "execution_count": null,
   "id": "44066444-1ac9-46f4-8ae5-d5fb000e5811",
   "metadata": {},
   "outputs": [],
   "source": [
    "# %load notebook3/ex_01.py"
   ]
  },
  {
   "cell_type": "markdown",
   "id": "b4d9af61-d86f-4a67-a91b-c3e6c77e93d8",
   "metadata": {},
   "source": [
    "Other interesting methods exist such as `nsmallest()` and `nlargest()` which compute the n smallest and largest numerical values of columns."
   ]
  },
  {
   "cell_type": "code",
   "execution_count": null,
   "id": "54ae1e3c-3278-480d-8c02-99ea18387936",
   "metadata": {},
   "outputs": [],
   "source": [
    "# example with nlargest\n",
    "df.nlargest(10, 'births')"
   ]
  },
  {
   "cell_type": "code",
   "execution_count": null,
   "id": "2e8128ed-e2d8-456b-802f-36307bc45edf",
   "metadata": {},
   "outputs": [],
   "source": [
    "# example with nlargest\n",
    "df.nsmallest(10, 'births')"
   ]
  },
  {
   "cell_type": "markdown",
   "id": "ba7a9a64-28af-4a20-bfc8-bc0bd1ef1a70",
   "metadata": {},
   "source": [
    "<div class=\"alert alert-warning\" role=\"alert\">\n",
    "    <h3><i class=\"fa fa-question-circle\"></i> Question &starf;&starf;</h3>\n",
    "    <ul>\n",
    "        <li>The <code>nsmallest()</code> method can be simulated by combining 2 others methods, which ones?</li>\n",
    "        <li>The <code>nlargest()</code> method can be simulated by combining 2 others methods, which ones?</li>\n",
    "        <li>Compare the efficiency of the different methods.</li>\n",
    "    </ul>\n",
    "</div>"
   ]
  },
  {
   "cell_type": "markdown",
   "id": "12945b20-89ff-4d2c-91bd-8668af2986f0",
   "metadata": {},
   "source": [
    "There is also the `sample()` method which takes a random sample of a `DataFrame`.\n",
    "\n",
    "This method is based on the pseudo random number generator of the `numpy.random` library. If you need to replicate the same random example, for simulation purpose for instance, use the `seed()` function with the same seed integer to initialize the pseudo random number generator."
   ]
  },
  {
   "cell_type": "code",
   "execution_count": null,
   "id": "27c53461-efe0-4f3f-8768-ba1e93de12be",
   "metadata": {},
   "outputs": [],
   "source": [
    "# example with sample 1\n",
    "# at each time you run it you have different outputs\n",
    "df.sample(10)"
   ]
  },
  {
   "cell_type": "code",
   "execution_count": null,
   "id": "1cfe44c4-5689-43a9-bd66-1c94eacfda80",
   "metadata": {},
   "outputs": [],
   "source": [
    "# example with sample and initialization of the pseudo random number generator\n",
    "np.random.seed(0)\n",
    "df.sample(10)"
   ]
  },
  {
   "cell_type": "markdown",
   "id": "bed84339-cab3-4786-b4eb-7d0f299cd1d5",
   "metadata": {},
   "source": [
    "## 1.3 Casting data type\n",
    "\n",
    "The method `astype()` casts values from `Series` or `DataFrame` objects to the specified dtype: e.g., `bool`, `int`, `float`, `str`.\n",
    "\n",
    "Casting to `int` and `float` will in fact cast to the appropriate `pandas` dtypes `int32` and `float64`."
   ]
  },
  {
   "cell_type": "code",
   "execution_count": null,
   "id": "49bd25e4-24b9-4189-bb4b-36bfb5f3f2a0",
   "metadata": {},
   "outputs": [],
   "source": [
    "# example of casting a Series\n",
    "df['births'].astype(float).head()"
   ]
  },
  {
   "cell_type": "code",
   "execution_count": null,
   "id": "88499c85-2d44-4d95-9c08-db4b30090a92",
   "metadata": {},
   "outputs": [],
   "source": [
    "# example of casting a DataFrame\n",
    "df[['year', 'births']].astype(float).head()"
   ]
  },
  {
   "cell_type": "markdown",
   "id": "77277536-6dd7-42a6-8375-28ca3994f6b2",
   "metadata": {},
   "source": [
    "It is also possible to cast a categorical column to a dedicated categorical dtype which may be ordered or not. This is done by importing and instancing the `CategoricalDtype` class from **pandas**. After casting a column to a categorical dtype, the memory usage of the `DataFrame` is a bit lower."
   ]
  },
  {
   "cell_type": "code",
   "execution_count": null,
   "id": "5bd0377c-073d-4a8c-96a3-6bee40f6cde1",
   "metadata": {},
   "outputs": [],
   "source": [
    "# info before casting to category\n",
    "df.info()"
   ]
  },
  {
   "cell_type": "code",
   "execution_count": null,
   "id": "60071db9-290c-40da-bf4a-8019512ae623",
   "metadata": {},
   "outputs": [],
   "source": [
    "# copy the DataFrame\n",
    "df2 = df.copy()\n",
    "\n",
    "# instanciate a categorical dtype\n",
    "gender_dtype = pd.CategoricalDtype(categories=['F', 'M'], ordered=False)\n",
    "\n",
    "# cast gender column to new dtype\n",
    "df2['gender'] = df2['gender'].astype(gender_dtype)\n",
    "\n",
    "# info after casting to category\n",
    "df2.info()"
   ]
  },
  {
   "cell_type": "markdown",
   "id": "d86fd521-09a4-4ff6-9be1-324fd6281910",
   "metadata": {},
   "source": [
    "<div class=\"alert alert-warning\" role=\"alert\">\n",
    "    <h3><i class=\"fa fa-question-circle\"></i> Questions &starf;&starf;</h3>\n",
    "    <ul>\n",
    "        <li>Why does the memory usage go down after casting the gender to a categorical type?</li>\n",
    "        <li>Compare the efficiency of selecting a given gender when it is a string vs. it is a category. Why does the efficiency go up after casting the gender to a categorical type?</li>\n",
    "    </ul>\n",
    "</div>"
   ]
  },
  {
   "cell_type": "markdown",
   "id": "8c72d193-6078-4489-b776-f8bff392f6bb",
   "metadata": {},
   "source": [
    "<div class=\"alert alert-info\">\n",
    "    <h3><i class=\"fa fa-info-circle\"></i>  Tips</h3>\n",
    "    <ul>\n",
    "        <li>Ordered categorical type are useful when the alphabetical order of categories do not match with their meaning.</li>\n",
    "        <li>For instance, if a column contains risk values such as <code>Low</code>, <code>Medium</code> and <code>High</code>, sorting the risk values will use the alphabetical order (<code>High</code>, <code>Low</code>, <code>Medium</code>) and will <b>NOT</b> match the risk values.</li>\n",
    "        <li>To get categorical values correctly ordered, one needs to define an ordered categorical type, for instance:</li>\n",
    "        <code>risk_dtype = pd.CategoricalDtype(categories=['Low', 'Medium', 'High'], ordered=True)</code>\n",
    "        <li>Then, when sorting the risk values, they will be appropriately ordered.</li>\n",
    "    </ul>\n",
    "</div>"
   ]
  },
  {
   "cell_type": "markdown",
   "id": "f9333a47-1fbf-4c6d-94fd-05b8b6521d4d",
   "metadata": {},
   "source": [
    "## 1.4 Applying functional methods\n",
    "\n",
    "### 1.4.1 `Series` objects\n",
    "\n",
    "The method `map()` returns a new `Series` object by using element-wise correspondance (`dict` or `Series`) to each element."
   ]
  },
  {
   "cell_type": "code",
   "execution_count": null,
   "id": "0efad4e1-cf49-4183-946d-b59a9d1a2bd5",
   "metadata": {},
   "outputs": [],
   "source": [
    "# map for Series with a dictionary\n",
    "d = {'F': 'Female', 'M': 'Male'}\n",
    "df['gender'].map(d)"
   ]
  },
  {
   "cell_type": "code",
   "execution_count": null,
   "id": "f598313d-5b54-473b-b152-35d5917d8483",
   "metadata": {},
   "outputs": [],
   "source": [
    "# map for Series with a Series object\n",
    "s = pd.Series(['Female', 'Male'], index=['F', 'M'])\n",
    "s"
   ]
  },
  {
   "cell_type": "code",
   "execution_count": null,
   "id": "b29816ca-b1f5-4fb1-8ba3-5bab6560eb4b",
   "metadata": {},
   "outputs": [],
   "source": [
    "# index\n",
    "s.index"
   ]
  },
  {
   "cell_type": "code",
   "execution_count": null,
   "id": "d7fca427-2a84-4499-a749-0fdde373cbea",
   "metadata": {},
   "outputs": [],
   "source": [
    "# values\n",
    "s.values"
   ]
  },
  {
   "cell_type": "code",
   "execution_count": null,
   "id": "c477065d-3e6a-45ae-8ae8-c7fc93224eba",
   "metadata": {},
   "outputs": [],
   "source": [
    "# map for Series with a Series object\n",
    "df['gender'].map(s)"
   ]
  },
  {
   "cell_type": "markdown",
   "id": "af7eea12-62a9-4732-9dff-a878a88397a7",
   "metadata": {},
   "source": [
    "<div class=\"alert alert-info\">\n",
    "    <h3><i class=\"fa fa-info-circle\"></i>  Tips</h3>\n",
    "    <ul>\n",
    "        <li>This method is useful when one wants to normalize the column values according to another referential.</li>\n",
    "        <li>For instance, if one has a column with country names, this method can be used to map them to ISO codes.</li>\n",
    "    </ul>\n",
    "</div>"
   ]
  },
  {
   "cell_type": "markdown",
   "id": "11ea7e03-2872-48f4-812f-b4fd6270ca13",
   "metadata": {},
   "source": [
    "The method `apply()` returns a new `Series` object by invoking a function element-wise. The function can be either an existing Python or a function from a module, or a user-defined function such as a lambda or a standard Python function."
   ]
  },
  {
   "cell_type": "markdown",
   "id": "01c76344-7e09-4ab2-b4a7-e228acb52c72",
   "metadata": {},
   "source": [
    "<div class=\"alert alert-success\">\n",
    "    <h3><i class=\"fa fa-edit\"></i> Exercise 2 &starf;&starf;</h3>\n",
    "    <ul>\n",
    "        <li>Implement a function which rounds births up when above 1000: e.g., 12345 => 12K.</li>\n",
    "        <li>Apply your function on different extracts of <code>name2023['births']</code> (e.g., nlargest, sample).</li>\n",
    "    </ul>\n",
    "</div>"
   ]
  },
  {
   "cell_type": "code",
   "execution_count": null,
   "id": "9068dbb3-e573-44a2-94c8-6d7ca0aace8e",
   "metadata": {},
   "outputs": [],
   "source": [
    "# %load notebook3/ex_02.py"
   ]
  },
  {
   "cell_type": "markdown",
   "id": "14df025b-2c91-4ba3-93c6-c2369bc1ea8e",
   "metadata": {},
   "source": [
    "<div class=\"alert alert-success\">\n",
    "    <h3><i class=\"fa fa-edit\"></i> Exercise 3 &starf;&starf;&starf;</h3>\n",
    "    <ul>\n",
    "        <li>The word <code>Internationalization</code> is sometimes abbreviated into <code>I18n</code>, where 18 represents the number of letters between the first and the last letter.</li>\n",
    "        <li>Implement a <code>shorten()</code> function which turns a string into a new one with the first character, the last character and the number of characters in between (strings with 2 letters or less are let unchanged),<br /> e.g. <code>Al → Al, Emma → E2a, Olivia → O4a</code>.</li>\n",
    "        <li>Test your function with the word <code>Internationalization</code>.</li>\n",
    "        <li>Add a column <code>shortname</code> to <code>df2023</code> by applying your function on the column <code>name</code>.</li>\n",
    "        <li>Compare the number of different names and the number of different shortnames.</li>\n",
    "        <li>Which shortname is the most frequent?</li>\n",
    "        <li>Print the list of names in alphabetical order which correspond to this shortname.</li>\n",
    "    </ul>\n",
    "</div>"
   ]
  },
  {
   "cell_type": "code",
   "execution_count": null,
   "id": "46acd50e-59d7-423e-ad00-b777cdf5f704",
   "metadata": {},
   "outputs": [],
   "source": [
    "# %load notebook3/ex_03.py"
   ]
  },
  {
   "cell_type": "markdown",
   "id": "9e46e196-7fce-4ada-9405-fb0d016d0db8",
   "metadata": {},
   "source": [
    "<div class=\"alert alert-info\">\n",
    "    <h3><i class=\"fa fa-info-circle\"></i>  Tips</h3>\n",
    "    <ul>\n",
    "        <li>Using <code>apply()</code> might be less performant than using vectorisation that is available in <b>pandas</b> (or <b>NumPy</b>).</li>\n",
    "    </ul>\n",
    "</div>"
   ]
  },
  {
   "cell_type": "markdown",
   "id": "43339f50-64f7-4ec9-a3aa-7c6365b7fa1b",
   "metadata": {},
   "source": [
    "### 1.4.2 `DataFrame` objects\n",
    "\n",
    "The method `apply()` returns a new `DataFrame` object by invoking a function to each column (`axis=0` by default). It is possible to use the `axis=1` option to invoke the function by rows."
   ]
  },
  {
   "cell_type": "markdown",
   "id": "1fb807a4-96e9-4f62-b0d8-a4fae118697d",
   "metadata": {},
   "source": [
    "<div class=\"alert alert-info\">\n",
    "    <h3><i class=\"fa fa-info-circle\"></i>  Tips</h3>\n",
    "    <ul>\n",
    "        <li><code>apply(axis=0)</code> invokes a function to each <b>column</b> of a <code>DataFrame</code> object. For reducing functions, the result is <b>row-like</b>.</li>\n",
    "        <li><code>apply(axis=1)</code> invokes a function to each <b>row</b> of a <code>DataFrame</code> object. For reducing functions, the result is <b>column-like</b>.</li>\n",
    "    </ul>\n",
    "</div>"
   ]
  },
  {
   "cell_type": "markdown",
   "id": "dd3231fb-95c6-401c-90e1-ba09ad845340",
   "metadata": {},
   "source": [
    "## 1.5 Adding and reorganizing columns\n",
    "\n",
    "It is possible to add a new column to a `DataFrame` object either with a single value or another `Series` object which shares the same index (e.g., a map or a function applyied to an existing column, or again by combining several existing columns)."
   ]
  },
  {
   "cell_type": "code",
   "execution_count": null,
   "id": "88dc4ab5-698a-4284-9a9c-5e6535934d03",
   "metadata": {},
   "outputs": [],
   "source": [
    "# add a column with a single value\n",
    "df['length'] = 0\n",
    "df.head(10)"
   ]
  },
  {
   "cell_type": "code",
   "execution_count": null,
   "id": "d844b3fb-e0d5-4a36-b7a9-f18fa2d17814",
   "metadata": {},
   "outputs": [],
   "source": [
    "# add a Series as a new column\n",
    "df['length'] = df['name'].str.len()"
   ]
  },
  {
   "cell_type": "markdown",
   "id": "46b22753-255a-49a5-8b09-75ab416cb9a9",
   "metadata": {},
   "source": [
    "<div class=\"alert alert-success\">\n",
    "    <h3><i class=\"fa fa-edit\"></i> Exercise 4 &starf;</h3>\n",
    "    <p>Select the top 10 longest names in the df <code>DataFrame</code> and apply the <code>shorten()</code> function defined above..</p>\n",
    "</div>"
   ]
  },
  {
   "cell_type": "code",
   "execution_count": null,
   "id": "64def364-e0ca-484c-901e-14aa18181077",
   "metadata": {},
   "outputs": [],
   "source": [
    "# %load notebook3/ex_04.py"
   ]
  },
  {
   "cell_type": "markdown",
   "id": "b89e0216-7aca-4be0-af46-150a9c3328a8",
   "metadata": {},
   "source": [
    "<div class=\"alert alert-success\">\n",
    "    <h3><i class=\"fa fa-edit\"></i> Exercise 5 &starf;&starf;</h3>\n",
    "    <p>Add a column <code>initial</code> with the first letter of names in capital.</p>\n",
    "</div>"
   ]
  },
  {
   "cell_type": "code",
   "execution_count": null,
   "id": "99e57fe1-c645-45ea-ba04-5861640cb9bd",
   "metadata": {},
   "outputs": [],
   "source": [
    "# %load notebook3/ex_05.py"
   ]
  },
  {
   "cell_type": "markdown",
   "id": "2d1347ea-c6fb-4388-a9cf-4f5eea3ffcbd",
   "metadata": {},
   "source": [
    "<div class=\"alert alert-warning\" role=\"alert\">\n",
    "    <h3><i class=\"fa fa-question-circle\"></i> Question &starf;</h3>\n",
    "    <ul>\n",
    "        <li>Try to guess which is the most and the least frequent initial in the df <code>DataFrame</code>.</li>\n",
    "        <li>Compare your though with the value counts of the initial column.</li>\n",
    "    </ul>\n",
    "</div>"
   ]
  },
  {
   "cell_type": "markdown",
   "id": "d95e2092-93c1-414b-99ea-6eeb83170ede",
   "metadata": {},
   "source": [
    "Fancy indexing can be used to select some columns or to reorganize the full columns."
   ]
  },
  {
   "cell_type": "code",
   "execution_count": null,
   "id": "0c7e8eb8-6c22-4a8b-9996-1052425d4ab5",
   "metadata": {},
   "outputs": [],
   "source": [
    "# head\n",
    "df.head()"
   ]
  },
  {
   "cell_type": "code",
   "execution_count": null,
   "id": "13b86df2-08a2-4a79-8b21-1b9db06a2727",
   "metadata": {},
   "outputs": [],
   "source": [
    "# df with columns sorted in alphabetical order\n",
    "df[['births', 'gender', 'initial', 'length', 'name', 'year']].head()"
   ]
  },
  {
   "cell_type": "markdown",
   "id": "92978ce0-7e60-452c-b723-4720f21eddc6",
   "metadata": {},
   "source": [
    "The `rename()` method enables to rename columns (and also index). This method returns a copy of the initial object. All columns names can also be changed by modifying the columns attribute: e.g. `df.columns = [...]`. Of course the list of new labels should have the same size than the number of columns."
   ]
  },
  {
   "cell_type": "code",
   "execution_count": null,
   "id": "0706ac33-9a63-415f-9f8b-55d75556bca6",
   "metadata": {},
   "outputs": [],
   "source": [
    "# renaming columns with a mapping\n",
    "df.rename(columns={'name': 'first name', 'births': 'number of births'}).head()"
   ]
  },
  {
   "cell_type": "markdown",
   "id": "af2cda36-c5aa-452b-995a-726ee6f18c2f",
   "metadata": {},
   "source": [
    "## 1.6 Dropping values\n",
    "\n",
    "The `drop()` method enables to remove index in `Series` or `DataFrame` objects, or columns in `DataFrame` objects with the option `axis=1`. It returns a new object."
   ]
  },
  {
   "cell_type": "code",
   "execution_count": null,
   "id": "52cf87d1-b602-408b-95c6-e8236b2e591d",
   "metadata": {},
   "outputs": [],
   "source": [
    "# head of name2023\n",
    "name2023.head(10)"
   ]
  },
  {
   "cell_type": "markdown",
   "id": "24092242-a8b0-41cd-87da-fef04e584d4a",
   "metadata": {},
   "source": [
    "### 1.6.1 Dropping rows"
   ]
  },
  {
   "cell_type": "code",
   "execution_count": null,
   "id": "e227776a-c7a9-481e-bf70-d0dddbf2dbeb",
   "metadata": {},
   "outputs": [],
   "source": [
    "# drop index\n",
    "name2023.drop('Mia').head(10)"
   ]
  },
  {
   "cell_type": "markdown",
   "id": "3b3a06bc-4c6f-4632-8f37-b511b85ef82c",
   "metadata": {},
   "source": [
    "### 1.6.2 Dropping columns"
   ]
  },
  {
   "cell_type": "code",
   "execution_count": null,
   "id": "bbf28b78-a256-4198-aff2-3c87588762a5",
   "metadata": {},
   "outputs": [],
   "source": [
    "# drop column\n",
    "# single column DataFrame (not a Series object)\n",
    "name2023.drop('gender', axis=1).head(10)"
   ]
  },
  {
   "cell_type": "markdown",
   "id": "351e43b8-2d4e-40b1-aff6-c75c7078ace4",
   "metadata": {},
   "source": [
    "This is a `DataFrame` object. There is a big difference between a `DataFrame` object with a single column and a `Series` object."
   ]
  },
  {
   "cell_type": "code",
   "execution_count": null,
   "id": "cf428f85-6f1f-4fac-be02-f6719ed1211c",
   "metadata": {},
   "outputs": [],
   "source": [
    "# Series out of a DataFrame\n",
    "name2023['births']"
   ]
  },
  {
   "cell_type": "markdown",
   "id": "f96f78a6-d0f5-4840-aced-f54473217f66",
   "metadata": {},
   "source": [
    "<div class=\"alert alert-info\">\n",
    "    <h3><i class=\"fa fa-info-circle\"></i>  Tips</h3>\n",
    "    <ul>\n",
    "        <li>The method <code>to_frame()</code> transforms a <code>Series</code> object into a <code>DataFrame</code> one.</li>\n",
    "        <li>In Machine Learning, the <code>drop()</code> method is often use to build the features matrix from the whole dataset by dropping the target column.</li>\n",
    "    </ul>\n",
    "</div>"
   ]
  },
  {
   "cell_type": "code",
   "execution_count": null,
   "id": "549629a4-4ae8-4e4e-a369-ad5bb82d7d3f",
   "metadata": {},
   "outputs": [],
   "source": [
    "# Series to DataFrame\n",
    "name2023['births'].to_frame()"
   ]
  },
  {
   "cell_type": "markdown",
   "id": "1031035e-9e75-4c6b-b653-4cf729cf5327",
   "metadata": {},
   "source": [
    "### 1.6.3 Dropping duplicates\n",
    "\n",
    "It is also possible to remove possibly duplicated rows. The `duplicated()` method returns a boolean `Series` object denoting duplicated rows and the `drop_duplicates()` remove those dulicated rows."
   ]
  },
  {
   "cell_type": "code",
   "execution_count": null,
   "id": "f839ae81-ff5b-4df0-a840-f0d3143f1952",
   "metadata": {},
   "outputs": [],
   "source": [
    "# duplicated rows\n",
    "df.duplicated(subset=['year', 'name'])"
   ]
  },
  {
   "cell_type": "code",
   "execution_count": null,
   "id": "5220f60a-7909-42c0-ab6e-6f731411df5d",
   "metadata": {},
   "outputs": [],
   "source": [
    "# value counts of duplicated rows\n",
    "df.duplicated(subset=['year', 'name']).value_counts()"
   ]
  },
  {
   "cell_type": "code",
   "execution_count": null,
   "id": "196fff96-2432-4c88-bfd8-1d974552f7af",
   "metadata": {},
   "outputs": [],
   "source": [
    "# drop duplicated rows\n",
    "var = df.drop_duplicates(subset=['year', 'name'])\n",
    "var.shape"
   ]
  },
  {
   "cell_type": "markdown",
   "id": "b15d0f28-ac78-4234-bbeb-b97cd83f2be4",
   "metadata": {},
   "source": [
    "<div class=\"alert alert-info\">\n",
    "    <h3><i class=\"fa fa-info-circle\"></i>  Tips</h3>\n",
    "    <ul>\n",
    "        <li>The method <code>drop_duplicates()</code> return a <code>DataFrame</code> with duplicate rows removed.</li>\n",
    "        <li>If any, only columns passed in the <code>subset</code> argument are used to compare rows.</li>\n",
    "        <li>In addition, the <code>keep</code> argument can be set up to decide which duplicated rows to keep:</li>\n",
    "        <ul>\n",
    "            <li><code>first</code>: drop duplicates except for the first occurrence.</li>\n",
    "            <li><code>last</code>: drop duplicates except for the last occurrence.</li>\n",
    "            <li><code>False</code>: drop all duplicates.</li>\n",
    "        </ul>\n",
    "    </ul>\n",
    "</div>"
   ]
  },
  {
   "cell_type": "markdown",
   "id": "5eec7e87-32e0-4d73-8f48-0c812a737587",
   "metadata": {},
   "source": [
    "## 1.7 Pivoting data\n",
    "\n",
    "### 1.7.1 Cross table\n",
    "\n",
    "The `crosstab()` function computes a simple cross-tabulation of two factors (`Series` objects sharing the same index). The `margins=True` option computes the total of each lines and columns. The `normalize=...` option normalizes the result by dividing all values by the sum of values (`True`: all values, `'index'`: row values or `'columns'`: column values).\n",
    "\n",
    "The result is a `DataFrame` object: the index contains the different values of the first `Series` object and the columns contains the different values of the second `Series` object.\n",
    "\n",
    "Note that it is a function of the `pandas` module and not a method that applies on an object."
   ]
  },
  {
   "cell_type": "code",
   "execution_count": null,
   "id": "b67a716c-b17d-4563-a320-419e3cf91f58",
   "metadata": {},
   "outputs": [],
   "source": [
    "# counting length x gender\n",
    "pd.crosstab(df['length'], df['gender'])"
   ]
  },
  {
   "cell_type": "markdown",
   "id": "ff1547f8-2e94-4b5b-a388-9a09b6326e43",
   "metadata": {},
   "source": [
    "<div class=\"alert alert-success\">\n",
    "    <h3><i class=\"fa fa-edit\"></i> Exercise 6 &starf;</h3>\n",
    "    <p>Check the value of the crosstab for length = 6 and gender = 'F' by selecting in the <code>DataFrame</code> and counting the number of rows.</p>\n",
    "</div>"
   ]
  },
  {
   "cell_type": "code",
   "execution_count": null,
   "id": "8f1b0988-b957-4f1b-afe9-1d069893de69",
   "metadata": {},
   "outputs": [],
   "source": [
    "# %load notebook3/ex_06.py"
   ]
  },
  {
   "cell_type": "code",
   "execution_count": null,
   "id": "ffbac010-d4e4-4dcd-b500-892be038cd9c",
   "metadata": {},
   "outputs": [],
   "source": [
    "# counting length x gender + margins\n",
    "pd.crosstab(df['length'], df['gender'], margins=True)"
   ]
  },
  {
   "cell_type": "code",
   "execution_count": null,
   "id": "faffa118-a73e-448f-a7f6-3b714cd786ba",
   "metadata": {},
   "outputs": [],
   "source": [
    "# counting length x gender + normalize + margins\n",
    "pd.crosstab(df['length'], df['gender'], normalize=True, margins=True)"
   ]
  },
  {
   "cell_type": "markdown",
   "id": "755d7543-d388-4b73-a716-c34409ec3476",
   "metadata": {},
   "source": [
    "### 1.7.2 Pivot table\n",
    "\n",
    "The `pivot_table()` method applies to a `DataFrame` object and builds a synthetic table with aggregated values of a given column organised according to the values of one or several columns. It returns a new `DataFrame` object.\n",
    "\n",
    "The main arguments are:\n",
    "- `values`: column of the `DataFrame` object which values are to be aggregated and broken down\n",
    "- `index`: column(s) of the `DataFrame` object which values are to be used as the index of the pivot table\n",
    "- `columns`: column(s) of the `DataFrame` object which values are to be used as the columns of the pivot table\n",
    "- `aggfunc`: aggregation function to apply to the set of values to be aggregated.\n",
    "\n",
    "*Nota bene*: It is possible to use the `pivot_table()` method by specifying only one of the arguments `index` or `columns`.  In that case, the values are aggregated and broken down according to the values of the single axis that has been specified.\n",
    "\n",
    "For instance, if we have a `DataFrame` object with 3 columns `A`, `B` and `C`, we can pivot this object in a new `DataFrame` object, in which the index will be the different values (or modalities) of column `B`, the columns will be the different values (or modalities) of column `C` and cells will be filled with an aggregate of all values of column `A` for which value of `B` and value of `C` correspond.\n",
    "\n",
    "The possible values for computing the aggregation with `aggfunc` are: `'mean'` (by default), `'median'`, `'min'`, `'max'`, `'count'`, `'nunique'`, `'sum'` and any `lambda` or list of such values or functions.\n",
    "\n",
    "More options are available such as `margins=True`."
   ]
  },
  {
   "cell_type": "code",
   "execution_count": null,
   "id": "70c79658-de5e-41cc-85f2-3b2af028041a",
   "metadata": {},
   "outputs": [],
   "source": [
    "# pivot table with births and gender by year\n",
    "df.pivot_table(values='births',\n",
    "               index='year',\n",
    "               columns='gender',\n",
    "               aggfunc='sum')"
   ]
  },
  {
   "cell_type": "markdown",
   "id": "2b73844c-e5e7-4430-b3e0-28bca2af60c8",
   "metadata": {},
   "source": [
    "<div class=\"alert alert-success\">\n",
    "    <h3><i class=\"fa fa-edit\"></i> Exercise 7 &starf;</h3>\n",
    "    <p>Check the value of the pivot table for year = 1880 and gender = 'F' by selecting in the dataframe and summing the number of births.</p>\n",
    "</div>"
   ]
  },
  {
   "cell_type": "code",
   "execution_count": null,
   "id": "87397da9-6171-4f58-9326-e6beec880081",
   "metadata": {},
   "outputs": [],
   "source": [
    "# %load notebook3/ex_07.py"
   ]
  },
  {
   "cell_type": "code",
   "execution_count": null,
   "id": "f83ccae6-c42b-475d-9811-bbb39e0766c7",
   "metadata": {},
   "outputs": [],
   "source": [
    "# pivot table with births by year\n",
    "df.pivot_table(values='births',\n",
    "               index='year',\n",
    "               aggfunc='sum')"
   ]
  },
  {
   "cell_type": "markdown",
   "id": "7b7c2904-5fa8-45d0-8229-9aa76c1d3482",
   "metadata": {},
   "source": [
    "<div class=\"alert alert-success\">\n",
    "    <h3><i class=\"fa fa-edit\"></i> Exercise 8 &starf;&starf;</h3>\n",
    "    <ul>\n",
    "        <li>Build a pivot table with first name in alphabetical order by year and gender.</li>\n",
    "        <li>Build a pivot table with last name in alphabetical order by year and gender.</li>\n",
    "    </ul>\n",
    "</div>"
   ]
  },
  {
   "cell_type": "code",
   "execution_count": null,
   "id": "a75e5893-0595-4083-97c7-8f8b17135e8f",
   "metadata": {},
   "outputs": [],
   "source": [
    "# %load notebook3/ex_08.py"
   ]
  },
  {
   "cell_type": "markdown",
   "id": "1fd3f9b1-aea9-4b0c-b00e-cced9525818b",
   "metadata": {},
   "source": [
    "<div class=\"alert alert-success\">\n",
    "    <h3><i class=\"fa fa-edit\"></i> Exercise 9 &starf;&starf;&starf;</h3>\n",
    "    <ul>\n",
    "    <li>Build a pivot table with diversity of names (number of different names) by year and gender.</li>\n",
    "        <li>Check the value of the pivot table for year = 1880 and gender = 'F' by selecting in the DataFrame and counting the different names.</li>\n",
    "        <li>Compute the difference between diversity of female names and diversity of male names over years</li>\n",
    "        <li>Compute the maximum of this difference</li>\n",
    "        <li>Get the year</li>\n",
    "    </ul>\n",
    "</div>"
   ]
  },
  {
   "cell_type": "code",
   "execution_count": null,
   "id": "41826d9e-64ed-4527-a6bb-861c0744327c",
   "metadata": {},
   "outputs": [],
   "source": [
    "# %load notebook3/ex_09.py"
   ]
  },
  {
   "cell_type": "markdown",
   "id": "3eeb1951-8724-4914-863e-3c6d279070ea",
   "metadata": {},
   "source": [
    "<div class=\"alert alert-warning\">\n",
    "    <h3><i class=\"fa fa-book\"></i> Further reading</h3>\n",
    "    <ul>\n",
    "        <li><a href=\"https://docs.python.org/3/library/string.html#formatspec\" target=\"_blank\">Reshaping and pivot tables</a></li>\n",
    "    </ul>\n",
    "</div>"
   ]
  },
  {
   "cell_type": "markdown",
   "id": "056548b4-29e2-4598-82a1-80bdedcf2abf",
   "metadata": {},
   "source": [
    "## 1.8 Managing missing values\n",
    "\n",
    "The **pandas** module tackles missing values and provides different tools to handle them."
   ]
  },
  {
   "cell_type": "code",
   "execution_count": null,
   "id": "b3867fd8-3f9c-4eca-a597-1bc01cc0fdce",
   "metadata": {},
   "outputs": [],
   "source": [
    "# pivot table of a subset of df with name equals to mary\n",
    "selection = df.loc[(df['name'] == 'Mary')]\n",
    "tab = selection.pivot_table(values='births',\n",
    "                            index='year',\n",
    "                            columns='gender')\n",
    "tab"
   ]
  },
  {
   "cell_type": "markdown",
   "id": "01a09b89-ba7f-498a-99e8-6a3509b538a5",
   "metadata": {},
   "source": [
    "We can observed that the `NaN` value is displayed in some cell. \n",
    "\n",
    "Contrary to the `crosstab()` function which outputs `0` when there is no values for a combination of an index and a column, these `NaN` are introduced by the `pivot_table()` method in such cases."
   ]
  },
  {
   "cell_type": "code",
   "execution_count": null,
   "id": "539f0bdb-dfb0-47a1-94f2-e23e302846d2",
   "metadata": {},
   "outputs": [],
   "source": [
    "# crosstab of year by gender for names Mary\n",
    "pd.crosstab(selection['year'], selection['gender'])"
   ]
  },
  {
   "cell_type": "markdown",
   "id": "b8ab9667-1e4d-434f-b073-b900221e1445",
   "metadata": {},
   "source": [
    "`NaN` is the `numpy.nan` special value; `NaN` means \"Not a Number\". It is used by **pandas** to denote missing values."
   ]
  },
  {
   "cell_type": "code",
   "execution_count": null,
   "id": "c51324b3-00be-426c-abee-c284b63e3ad6",
   "metadata": {},
   "outputs": [],
   "source": [
    "# a missing value\n",
    "x = tab.loc[2023, 'M']\n",
    "x"
   ]
  },
  {
   "cell_type": "code",
   "execution_count": null,
   "id": "48d64ad4-dc41-4f88-83b2-78bd6e922f85",
   "metadata": {},
   "outputs": [],
   "source": [
    "# nan is a float\n",
    "type(x)"
   ]
  },
  {
   "cell_type": "code",
   "execution_count": null,
   "id": "0f21d582-f7ec-4127-9ee6-8137e0280499",
   "metadata": {},
   "outputs": [],
   "source": [
    "# any arithmetic, logical or mathematical operation with nan returns nan\n",
    "# a kind of absorbing element\n",
    "x + 1"
   ]
  },
  {
   "cell_type": "code",
   "execution_count": null,
   "id": "4763e0a5-3257-4093-b90c-1f7b26a583ac",
   "metadata": {},
   "outputs": [],
   "source": [
    "# equality does not work\n",
    "x == x"
   ]
  },
  {
   "cell_type": "code",
   "execution_count": null,
   "id": "7beaaed6-6c45-4def-8e1e-62c65c8ec76b",
   "metadata": {},
   "outputs": [],
   "source": [
    "# any function with nan returns nan\n",
    "np.sqrt(x)"
   ]
  },
  {
   "cell_type": "markdown",
   "id": "838ca217-275c-4880-97eb-225e1a95738d",
   "metadata": {},
   "source": [
    "The `pandas` module contains several methods to deal with missing values en `Series` or `DataFrame` objects:\n",
    "- `isna()` test whether each value is nan\n",
    "- `notna()` test whether each value is not nan\n",
    "- `dropna()` remove rows or columns with nan\n",
    "- `fillna()` replace nan values by another value"
   ]
  },
  {
   "cell_type": "code",
   "execution_count": null,
   "id": "d8b38b0c-f1f2-4390-8995-05449d13e4df",
   "metadata": {},
   "outputs": [],
   "source": [
    "# testing nan\n",
    "tab.isna()"
   ]
  },
  {
   "cell_type": "code",
   "execution_count": null,
   "id": "9cc0f215-dd83-4638-a3dc-07c11f02c432",
   "metadata": {},
   "outputs": [],
   "source": [
    "# testing not nan\n",
    "tab.notna()"
   ]
  },
  {
   "cell_type": "markdown",
   "id": "4d061fdc-2b5e-4369-83d5-ee619d7f2ac7",
   "metadata": {},
   "source": [
    "One can combine these null tests and the logical operators `any()` or `all()` to select or reject rows or columns with `NaN`."
   ]
  },
  {
   "cell_type": "code",
   "execution_count": null,
   "id": "a3889f45-433f-44be-8309-8533fb07cf80",
   "metadata": {},
   "outputs": [],
   "source": [
    "# rows with at least a nan\n",
    "tab.loc[tab.isna().any(axis=1)]"
   ]
  },
  {
   "cell_type": "code",
   "execution_count": null,
   "id": "f291c701-f8ca-4325-b531-f4a4e68560fc",
   "metadata": {},
   "outputs": [],
   "source": [
    "# columns with no nan\n",
    "tab.loc[:, tab.notna().all(axis=0)]"
   ]
  },
  {
   "cell_type": "code",
   "execution_count": null,
   "id": "8b980fa4-c70e-49ef-a183-e377aa0e51eb",
   "metadata": {},
   "outputs": [],
   "source": [
    "# dropping nan\n",
    "tab.dropna()"
   ]
  },
  {
   "cell_type": "code",
   "execution_count": null,
   "id": "fb1cf255-9899-4594-8b98-68c11f254125",
   "metadata": {},
   "outputs": [],
   "source": [
    "# dropping nan by column\n",
    "tab.dropna(axis=1)"
   ]
  },
  {
   "cell_type": "code",
   "execution_count": null,
   "id": "871b7d54-cd45-4431-aae6-fd92ca21c285",
   "metadata": {},
   "outputs": [],
   "source": [
    "# replacing nan\n",
    "tab.fillna(0)"
   ]
  },
  {
   "cell_type": "markdown",
   "id": "c3322b0e-5369-4227-ad25-43ad2f8c59b7",
   "metadata": {},
   "source": [
    "<div class=\"alert alert-success\">\n",
    "    <h3><i class=\"fa fa-edit\"></i> Exercise 10 &starf;&starf;&starf;</h3>\n",
    "    <ul>\n",
    "        <li>Implement a function which takes a name as argument and produces a pivot table with the distribution of its births across years and genders.</li>\n",
    "        <li>The output must only show integers.</li>\n",
    "        <li>Test it with the name Kim.</li>\n",
    "        <li>For the name Kim, select the rows where there is at least a 0 (there are different ways to produce the logical condition).</li>\n",
    "    </ul>\n",
    "</div>"
   ]
  },
  {
   "cell_type": "code",
   "execution_count": null,
   "id": "fdfdc516-8de0-4a85-a94e-1427d68e223d",
   "metadata": {},
   "outputs": [],
   "source": [
    "# %load notebook3/ex_10.py"
   ]
  },
  {
   "cell_type": "markdown",
   "id": "2bab8d77-b7cc-454d-bf10-9b850d89be87",
   "metadata": {},
   "source": [
    "<div class=\"alert alert-warning\">\n",
    "    <h3><i class=\"fa fa-book\"></i> Further reading</h3>\n",
    "    <ul>\n",
    "        <li>Other filling options or methods exists (<code>ffill</code>, <code>bfill</code>, <code>ìnterpolate()</code>), see: <a href='http://pandas.pydata.org/pandas-docs/stable/missing_data.html'>Working with missing data</a></li>\n",
    "        <li>The <code>read_csv()</code> function has some options to deal with missing values when importing data (<code>na_values</code>, <code>keep_default_na</code>, <code>na_filter</code>), see: <a href='https://pandas.pydata.org/pandas-docs/stable/generated/pandas.read_csv.html'>Documentation pandas.read_csv</a></li>\n",
    "    </ul>\n",
    "</div>"
   ]
  },
  {
   "cell_type": "markdown",
   "id": "920eb23f-a22b-45bb-a0bf-065b6c8545eb",
   "metadata": {},
   "source": [
    "<div class=\"alert alert-danger\">\n",
    "    <h3><i class=\"fa fa-plus-square\"></i>  PART 2</h3>\n",
    "</div>"
   ]
  },
  {
   "cell_type": "code",
   "execution_count": null,
   "id": "0b4c5a9f-acb6-4ac9-852e-f97a53319282",
   "metadata": {},
   "outputs": [],
   "source": [
    "# imports\n",
    "import numpy as np\n",
    "import pandas as pd\n",
    "import matplotlib.pyplot as plt\n",
    "\n",
    "# display options\n",
    "pd.set_option(\"display.min_rows\", 16)\n",
    "pd.set_option(\"display.max_columns\", 30)"
   ]
  },
  {
   "cell_type": "code",
   "execution_count": null,
   "id": "00bd3ce4-25fc-4768-8f8e-df951bf076fd",
   "metadata": {},
   "outputs": [],
   "source": [
    "# loading the 2023 file\n",
    "df2023 = pd.read_csv('data/names/yob2023.txt', names=['name', 'gender', 'births'])\n",
    "name2023 = df2023.set_index(\"name\")\n",
    "name2023 = name2023.head(17_532)  # so that the index is unique"
   ]
  },
  {
   "cell_type": "code",
   "execution_count": null,
   "id": "1e022c8a-0ce3-42e4-a41b-193def234fdc",
   "metadata": {},
   "outputs": [],
   "source": [
    "# Import all data in a single DataFrame\n",
    "\n",
    "df = pd.read_pickle('names.pkl')  # load it from pickle format\n",
    "df.shape"
   ]
  },
  {
   "cell_type": "markdown",
   "id": "2efd9f69-86bc-4422-b0c7-90b5748843cc",
   "metadata": {},
   "source": [
    "# 2. Data visualisation\n",
    "\n",
    "![image](./images/matplotlib.png)\n",
    "\n",
    "A `Series` or a `DataFrame` object handles the `plot` accessor, derived from the `matplotlib.pyplot` module which provides graphical functionalities.\n",
    "\n",
    "Then, different kinds of graphics are available using the appropriate methods.\n",
    "\n",
    "plotting methods| graphic\n",
    "-|-\n",
    "line() | line plot\n",
    "bar() | vertical bar plot\n",
    "barh() | horizontal bar plot\n",
    "hist() | histogram\n",
    "box() | boxplot\n",
    "kde() | Kernel Density Estimation plot\n",
    "density() | same as ‘kde’\n",
    "area() | area plot\n",
    "pie() | pie plot\n",
    "scatter() | scatter plot\n",
    "hexbin() | hexagone plot\n",
    "\n",
    "The scales of X and Y axis are automatically adjusted to the data. By default, the X axis scale corresponds to the index of the object."
   ]
  },
  {
   "cell_type": "markdown",
   "id": "df98641f-75b5-439e-ad3d-fd032db706d5",
   "metadata": {},
   "source": [
    "<div class=\"alert alert-info\">\n",
    "    <h3><i class=\"fa fa-info-circle\"></i>  Tips</h3>\n",
    "    <ul>\n",
    "        <li><code>matplotlib</code> instructions return systematically a string representing the object resulting the operation. A way to prevent from displaying those strings is to terminate the instructions by a semi-column: <code>;</code>.</li>\n",
    "    </ul>\n",
    "</div>"
   ]
  },
  {
   "cell_type": "markdown",
   "id": "9bc57b1f-b933-4902-ab92-9d9e02bdf8e1",
   "metadata": {},
   "source": [
    "<div class=\"alert alert-warning\">\n",
    "    <h3><i class=\"fa fa-book\"></i> Further reading</h3>\n",
    "    <ul>\n",
    "        <li><a href=\"https://pandas.pydata.org/pandas-docs/stable/user_guide/visualization.html\">Visualization</a></li>\n",
    "    </ul>\n",
    "</div>"
   ]
  },
  {
   "cell_type": "markdown",
   "id": "a9f0a0f8-e40b-400b-bb43-5e600e670bd8",
   "metadata": {},
   "source": [
    "## 2.1 Curves"
   ]
  },
  {
   "cell_type": "code",
   "execution_count": null,
   "id": "c98f07ec-df7b-4ebd-9b1e-27f043b5f2ce",
   "metadata": {},
   "outputs": [],
   "source": [
    "# plot Emma (F)\n",
    "\n",
    "var = df.loc[(df['name'] == 'Emma') & (df['gender'] == 'F')]\n",
    "var = var.set_index('year')\n",
    "var.plot(title='Number of births for Emma (F)');"
   ]
  },
  {
   "cell_type": "markdown",
   "id": "65202d48-ad60-4cd0-9357-2133736c26bb",
   "metadata": {},
   "source": [
    "The `matplotlib` module handles different kinds of linestyles, markers and colors:\n",
    "- 4 kinds of lines: `'-'` (solid), `'--'` (dashed), `':'` (dotted), `'-.'` (dashdot)\n",
    "- 35 point marks: see the variable `matplotlib.lines.Line2D.markers`\n",
    "- 8 predefined colors: `'b'` (blue), `'g'` (green), `'r'` (red), `'c'` (cyan), `'m'` (magenta), `'y'` (yellow), `'k'` (black), `'w'` (white)\n",
    "\n",
    "For colors only, you may pass an array of colors when plotting several columns of a `DataFrame`."
   ]
  },
  {
   "cell_type": "markdown",
   "id": "7fe35bc9-1367-4981-aea1-0726984c29ca",
   "metadata": {},
   "source": [
    "<div class=\"alert alert-warning\">\n",
    "    <h3><i class=\"fa fa-book\"></i> Further reading</h3>\n",
    "    <ul>\n",
    "        <li>The matplotlib module handles many color formats: i.e, RGB and RGBA in tuple of float values or strings of hexa numbers, grey scale, X11/CSS4, xkcd, Tableau 10, CN color spec, etc.</li>\n",
    "        <li>See: <a href='https://matplotlib.org/api/colors_api.html'>Documentation matplotlib.colors</a></li>\n",
    "    </ul>\n",
    "</div>"
   ]
  },
  {
   "cell_type": "markdown",
   "id": "6157bda2-d4f7-4e69-897e-9ad278a9f82d",
   "metadata": {},
   "source": [
    "<div class=\"alert alert-success\">\n",
    "    <h3><i class=\"fa fa-edit\"></i> Exercise 11 &starf;</h3>\n",
    "    <p>Implement a function which plots the births across years for a given name and gender and test it.<p>\n",
    "    <pre>\n",
    "    \n",
    "    def plot_name(name, gender):\n",
    "        pass\n",
    "    </pre>\n",
    "</div>"
   ]
  },
  {
   "cell_type": "code",
   "execution_count": null,
   "id": "66f608d9-9b8d-4a8d-a845-6df27c597bd2",
   "metadata": {},
   "outputs": [],
   "source": [
    "# %load notebook3/ex_11.py"
   ]
  },
  {
   "cell_type": "markdown",
   "id": "4369bb7e-d657-4523-ad01-5528d310714f",
   "metadata": {},
   "source": [
    "<div class=\"alert alert-success\">\n",
    "    <h3><i class=\"fa fa-edit\"></i> Exercise 12</h3>\n",
    "    <ul>\n",
    "        <li>Get the pivot table of births by year and gender and plot it.</li>\n",
    "    </ul>\n",
    "</div>"
   ]
  },
  {
   "cell_type": "code",
   "execution_count": null,
   "id": "9809e785-eddf-4e29-9fea-5ef7bfbb9870",
   "metadata": {},
   "outputs": [],
   "source": [
    "# %load notebook3/ex_12.py"
   ]
  },
  {
   "cell_type": "markdown",
   "id": "ae195dd8-0ec1-44f9-b147-84e978f03f11",
   "metadata": {},
   "source": [
    "<div class=\"alert alert-success\">\n",
    "    <h3><i class=\"fa fa-edit\"></i> Exercise 13</h3>\n",
    "    <ul>\n",
    "        <li>Get the pivot table of diversity of names by year and gender and plot it.</li>\n",
    "    </ul>\n",
    "</div>"
   ]
  },
  {
   "cell_type": "code",
   "execution_count": null,
   "id": "50e6efbd-d763-488d-9173-a9fa933bdb31",
   "metadata": {},
   "outputs": [],
   "source": [
    "# %load notebook3/ex_13.py"
   ]
  },
  {
   "cell_type": "markdown",
   "id": "52eadbba-2c3f-4b98-a704-2ecc4064aef6",
   "metadata": {},
   "source": [
    "## 2.2 Bars\n",
    "\n",
    "### 2.2.1 Vertical bars"
   ]
  },
  {
   "cell_type": "code",
   "execution_count": null,
   "id": "7af2013f-c257-468c-8a16-5bc4a2d59d46",
   "metadata": {},
   "outputs": [],
   "source": [
    "# selection of 7 first data\n",
    "var = df[['name', 'births']].head(7)\n",
    "var.plot(kind='bar', x='name', y='births');"
   ]
  },
  {
   "cell_type": "markdown",
   "id": "8c0f5528-f508-41c1-ba8d-5e09e04a0175",
   "metadata": {},
   "source": [
    "<div class=\"alert alert-warning\">\n",
    "    <h3><i class=\"fa fa-edit\"></i> Stylization exercise</h3>\n",
    "    <ul>\n",
    "    <li>Use the argument <code>rot=60</code> to rotate the names.</li>\n",
    "    </ul>\n",
    "</div>"
   ]
  },
  {
   "cell_type": "markdown",
   "id": "62c66a0c-c58c-412d-8693-e06fe2cc7315",
   "metadata": {},
   "source": [
    "### 2.2.2 Horizontal bars"
   ]
  },
  {
   "cell_type": "code",
   "execution_count": null,
   "id": "f2dfcc97-5c0a-46b1-b67d-3cdbe678ddeb",
   "metadata": {},
   "outputs": [],
   "source": [
    "# selection of 7 first data\n",
    "var = df[['name', 'births']].head(7)\n",
    "var.plot(kind='barh', x='name', y='births');"
   ]
  },
  {
   "cell_type": "markdown",
   "id": "6c2954f8-a35a-48ed-b5fc-8165e128bf26",
   "metadata": {},
   "source": [
    "<div class=\"alert alert-warning\">\n",
    "    <h3><i class=\"fa fa-edit\"></i> Stylization exercise</h3>\n",
    "    <p>Switch the color of bars to gray by using the <code>color=</code> option and display the bar for the name Emma in red.</p>\n",
    "</div>"
   ]
  },
  {
   "cell_type": "markdown",
   "id": "2cd24930-5af0-44e0-9351-a53236dc9940",
   "metadata": {},
   "source": [
    "### 2.2.3 Multiple bars"
   ]
  },
  {
   "cell_type": "code",
   "execution_count": null,
   "id": "332b443e-fd3b-4322-917e-32a9260f2df8",
   "metadata": {},
   "outputs": [],
   "source": [
    "# evolution of births by names Adam and Eve for years 1880, 1940 and 2000\n",
    "var = df.loc[df['name'].isin(['Adam', 'Eve']) & (df['year'].isin([1880, 1940, 2000]))]\n",
    "var = var.pivot_table(index='name', columns='year', values='births')\n",
    "var.plot(kind='bar', rot=0);"
   ]
  },
  {
   "cell_type": "markdown",
   "id": "a3278bbf-2e73-429e-8200-1b4a231c1832",
   "metadata": {},
   "source": [
    "<div class=\"alert alert-warning\">\n",
    "    <h3><i class=\"fa fa-edit\"></i> Stylization exercise</h3>\n",
    "    <p>Display the comparison of births by years 1880, 1940 and 2000 for names Adam and Eve.</p>\n",
    "</div>"
   ]
  },
  {
   "cell_type": "markdown",
   "id": "d44ec004-912f-4cd2-bf89-942edabdb14a",
   "metadata": {},
   "source": [
    "### 2.2.4 Stacked bars"
   ]
  },
  {
   "cell_type": "code",
   "execution_count": null,
   "id": "d2e63197-c5f7-412c-8272-ee97647c88d2",
   "metadata": {},
   "outputs": [],
   "source": [
    "# comparison of births by names Adam and Eve for years 1880, 1940 and 2000\n",
    "var = df.loc[df['name'].isin(['Adam', 'Eve']) & (df['year'].isin([1880, 1940, 2000]))]\n",
    "var = var.pivot_table(index='name', columns='year', values='births')\n",
    "var.plot(kind='bar', stacked=True, rot=0);"
   ]
  },
  {
   "cell_type": "markdown",
   "id": "0e76fd3d-3fcd-4841-b2ce-6565768ca86b",
   "metadata": {},
   "source": [
    "<div class=\"alert alert-warning\">\n",
    "    <h3><i class=\"fa fa-edit\"></i> Stylization exercise</h3>\n",
    "    <p>Display the comparison of births by years 1880, 1940 and 2000 for names Adam and Eve. Tip: use <code>transpose()</code> or <code>T</code>.</p>\n",
    "</div>"
   ]
  },
  {
   "cell_type": "markdown",
   "id": "66a96c8d-6337-4774-8dda-50e138958cdc",
   "metadata": {},
   "source": [
    "## 2.3 Pies"
   ]
  },
  {
   "cell_type": "code",
   "execution_count": null,
   "id": "03ef357d-bf38-465f-96fc-2d3b5fe21bb7",
   "metadata": {},
   "outputs": [],
   "source": [
    "# names by number of letters\n",
    "df['length'] = df['name'].apply(len)\n",
    "var = df['length'].value_counts()\n",
    "var"
   ]
  },
  {
   "cell_type": "code",
   "execution_count": null,
   "id": "1b126486-6c30-4b83-905c-650cecb214de",
   "metadata": {},
   "outputs": [],
   "source": [
    "# names by number of letters\n",
    "var = var[var > 10_000]\n",
    "var.plot(kind='pie');"
   ]
  },
  {
   "cell_type": "markdown",
   "id": "9c309da9-5507-4735-96ec-ab40bf3edfa8",
   "metadata": {},
   "source": [
    "<div class=\"alert alert-warning\">\n",
    "    <h3><i class=\"fa fa-edit\"></i> Stylization exercises</h3>\n",
    "    <ul>\n",
    "        <li>Display the % of values by using <code>autopct='%.1f%%'</code> option.</li>\n",
    "        <li>Display the % of values by using <code>autopct='%.1f%%'</code> option and modify the appearance of the % by using the <code>textprops={}</code> option where the textprops dictionary is filled with valid <code>Text</code> properties (for instance <code>color</code>, <code>fontweight</code>, see <a href=\"https://matplotlib.org/3.1.3/api/text_api.html#matplotlib.text.Text\">matplotlib.text.Text</a>).</li>\n",
    "        <li>Test the <code>explode=()</code> option which specifies the fraction of the radius with which to offset each wedge of the pie.</li>\n",
    "    </ul>\n",
    "</div>"
   ]
  },
  {
   "cell_type": "markdown",
   "id": "60c27559-8abe-4ac6-8960-e1a05ce4248a",
   "metadata": {},
   "source": [
    "## 2.4 Distributions\n",
    "\n",
    "Several methods enable to display distributions.\n",
    "\n",
    "### 2.4.1 Histograms"
   ]
  },
  {
   "cell_type": "code",
   "execution_count": null,
   "id": "9502db46-c754-43ea-b644-0120fa33d489",
   "metadata": {},
   "outputs": [],
   "source": [
    "# histogram of names length\n",
    "\n",
    "df[\"length\"] = df[\"name\"].str.len()\n",
    "var = df[\"length\"]\n",
    "var.plot(kind='hist');"
   ]
  },
  {
   "cell_type": "markdown",
   "id": "90d7c849-6530-470e-b72d-f87ca27258a6",
   "metadata": {},
   "source": [
    "The `bins` parameter enables to change the number of buckets (10 by default)."
   ]
  },
  {
   "cell_type": "markdown",
   "id": "a44f9a2f-d3c1-4fd1-8589-4fb8c7fbcfc0",
   "metadata": {},
   "source": [
    "<div class=\"alert alert-warning\">\n",
    "    <h3><i class=\"fa fa-edit\"></i> Stylization exercise</h3>\n",
    "    <p>Display the distribution using the appropriate number of bins for names of length between 2 and 15.</p>\n",
    "    <p>Display the distribution in step mode by using the <code>histtype='step'</code> option.</p>\n",
    "</div>"
   ]
  },
  {
   "cell_type": "code",
   "execution_count": null,
   "id": "1bf83bf6-5f83-478f-8d7b-61b9cb7ece8d",
   "metadata": {},
   "outputs": [],
   "source": [
    "# %load notebook4/ex_05.py"
   ]
  },
  {
   "cell_type": "markdown",
   "id": "0a9a1736-6bc6-4b86-b28b-978ffc800355",
   "metadata": {},
   "source": [
    "### 2.4.2 Boxes\n",
    "\n",
    "Display median, quartiles and range of values."
   ]
  },
  {
   "cell_type": "code",
   "execution_count": null,
   "id": "9868bcad-5265-4bee-94e9-05037f9fe0fa",
   "metadata": {},
   "outputs": [],
   "source": [
    "# boxplot of names length\n",
    "var = df[\"length\"]\n",
    "var.plot(kind='box');"
   ]
  },
  {
   "cell_type": "markdown",
   "id": "b9bcd45c-4c3f-449d-bb3e-9b144c83d8c6",
   "metadata": {},
   "source": [
    "<div class=\"alert alert-warning\">\n",
    "    <h3><i class=\"fa fa-edit\"></i> Stylization exercise</h3>\n",
    "    <p>Display the boxplot without the outliers by using the <code>showfliers=False</code> option.</p>\n",
    "</div>"
   ]
  },
  {
   "cell_type": "markdown",
   "id": "a793dc78-25d6-435b-a9df-498cd2601103",
   "metadata": {},
   "source": [
    "### 2.4.3 Scatter"
   ]
  },
  {
   "cell_type": "code",
   "execution_count": null,
   "id": "8fc218a8-710d-408c-b8b6-24902d64522a",
   "metadata": {},
   "outputs": [],
   "source": [
    "# select two years\n",
    "year1 = 2022\n",
    "year2 = 2023\n",
    "var = df.loc[df[\"year\"].isin([year1, year2])]\n",
    "var = var.pivot_table(values=\"births\",\n",
    "                      index=\"name\",\n",
    "                      columns=\"year\")\n",
    "var.head(5)"
   ]
  },
  {
   "cell_type": "code",
   "execution_count": null,
   "id": "5c546e2e-75dd-48cb-8a79-34e9d5abe1a3",
   "metadata": {},
   "outputs": [],
   "source": [
    "# scatter plot births for year1 vs year2\n",
    "var.plot(kind='scatter', x=year1, y=year2);"
   ]
  },
  {
   "cell_type": "markdown",
   "id": "5f2b2b55-dc42-4d8f-81bb-cfc538bee983",
   "metadata": {},
   "source": [
    "<div class=\"alert alert-warning\">\n",
    "    <h3><i class=\"fa fa-edit\"></i> Stylization exercises</h3>\n",
    "    <ul>\n",
    "        <li>Modify the size of the plots by using the <code>s=</code> option.</li>\n",
    "        <li>Switch the markers of the plots to crosses by using the <code>marker=</code> option.</li>\n",
    "        <li>Modify the color of the plots so that they are blue if 2023 birth is above 2022 birth and red otherwise (you need to build a Series object with \"b\" and \"r\" according to the comparison of 2023 and 2022 years).</li>\n",
    "    </ul>\n",
    "</div>"
   ]
  },
  {
   "cell_type": "markdown",
   "id": "b15b29ee-c093-4566-a484-e8a3730b183b",
   "metadata": {},
   "source": [
    "## 2.5 Seaborn API (discretional section)\n",
    "\n",
    "![image](./images/seaborn.png)\n",
    "\n",
    "**seaborn** is an extension of **matplotlib** which defines circa 25 dedicated statistical graphics for relational, categorical, distribution, regression and matrix plots as well as multi-plot grids\n",
    "\n",
    "We present here some of the available graphics. Most of them include a large number of parameters, refer to documentation: https://seaborn.pydata.org/api.html"
   ]
  },
  {
   "cell_type": "code",
   "execution_count": null,
   "id": "f39638d5-fc54-4da2-af82-b4d5195a34db",
   "metadata": {},
   "outputs": [],
   "source": [
    "# import\n",
    "\n",
    "import matplotlib.pyplot as plt\n",
    "import seaborn as sns"
   ]
  },
  {
   "cell_type": "markdown",
   "id": "8a0152f3-a2bc-4494-aa43-8243b0d35ed0",
   "metadata": {},
   "source": [
    "### 2.5.1 countplot\n",
    "\n",
    "Show the counts of observations in each categorical bin using bars."
   ]
  },
  {
   "cell_type": "code",
   "execution_count": null,
   "id": "0c0910bf-6d71-428c-8479-46e856db9ce0",
   "metadata": {},
   "outputs": [],
   "source": [
    "df2023['initial'] = df2023['name'].str[0]\n",
    "sns.countplot(data=df2023, x='initial');"
   ]
  },
  {
   "cell_type": "markdown",
   "id": "c619462f-ddfc-4e11-b0ae-76d103064b6c",
   "metadata": {},
   "source": [
    "<div class=\"alert alert-warning\">\n",
    "    <h3><i class=\"fa fa-edit\"></i> Stylization exercise</h3>\n",
    "    <p>Display the countplot for terminal letters in the alphabetical order.</p>\n",
    "</div>"
   ]
  },
  {
   "cell_type": "markdown",
   "id": "ba20fb04-922e-402f-88b4-2f20c276df85",
   "metadata": {},
   "source": [
    "### 2.5.2 barplot\n",
    "\n",
    "Show point estimates and confidence intervals as rectangular bars."
   ]
  },
  {
   "cell_type": "code",
   "execution_count": null,
   "id": "1084b132-5733-4660-92a6-cc968b89751b",
   "metadata": {},
   "outputs": [],
   "source": [
    "# seaborn barplot with births for decades\n",
    "\n",
    "plt.figure(figsize=(8, 5))\n",
    "var = df.loc[df['year'] % 10 == 0]\n",
    "sns.barplot(data=var, x='year', y='births', palette='Blues');"
   ]
  },
  {
   "cell_type": "markdown",
   "id": "eef37ee1-7f1b-4ba0-b07d-ab111d225c79",
   "metadata": {},
   "source": [
    "<div class=\"alert alert-warning\">\n",
    "    <h3><i class=\"fa fa-edit\"></i> Stylization exercise</h3>\n",
    "    <ul>\n",
    "        <li>Display the barplot split by a second variable (e.g., gender) by using the <code>hue=</code> option.</li>\n",
    "        <li>You may also change the colors for each gender by using the <code>palette=</code> option with a tuple of colors.</li>\n",
    "    </ul>\n",
    "</div>"
   ]
  },
  {
   "cell_type": "markdown",
   "id": "6e96e8ca-a69b-4d68-bf60-e99d2fdd6848",
   "metadata": {},
   "source": [
    "### 2.5.3 distplot\n",
    "\n",
    "Flexibly plot a univariate distribution of observations."
   ]
  },
  {
   "cell_type": "code",
   "execution_count": null,
   "id": "173c7abe-78cc-4a02-8014-2469dcf79308",
   "metadata": {},
   "outputs": [],
   "source": [
    "# seaborn distplot\n",
    "# 'ratio' comes from Exercise 5:\n",
    "\n",
    "var = df.loc[df['year'] % 10 == 0]\n",
    "s2 = ratio[(ratio > 0.01) & (ratio < 0.99)]\n",
    "sns.displot(s2, kde=False, bins=10);"
   ]
  },
  {
   "cell_type": "markdown",
   "id": "85b11661-c156-44eb-8a94-334efc6466e4",
   "metadata": {},
   "source": [
    "<div class=\"alert alert-warning\">\n",
    "    <h3><i class=\"fa fa-edit\"></i> Stylization exercise</h3>\n",
    "    <p>You can add a rugplot to the displot by using the <code>rug=</code> option.</p>\n",
    "</div>"
   ]
  },
  {
   "cell_type": "markdown",
   "id": "9f7009d1-3d64-49b5-a95c-daa9b6a81643",
   "metadata": {},
   "source": [
    "### 2.5.4 regplot\n",
    "\n",
    "Plot data and a linear regression model fit."
   ]
  },
  {
   "cell_type": "code",
   "execution_count": null,
   "id": "ff93c563-d67d-4014-8706-3f85b90a11b3",
   "metadata": {},
   "outputs": [],
   "source": [
    "# select years year1 and year2\n",
    "year1 = 2023\n",
    "year2 = 2022\n",
    "var = df.loc[df[\"year\"].isin([year1, year2])]\n",
    "var = var.pivot_table(values=\"births\",\n",
    "                      index=\"name\",\n",
    "                      columns=\"year\")\n",
    "var = var.rename(columns={2023: \"2023\", 2022: \"2022\"})  # seaborn bug if colomun names are integers\n",
    "sns.regplot(x=\"2023\", y=\"2022\", data=var);"
   ]
  },
  {
   "cell_type": "markdown",
   "id": "46347a43-1a5c-49a1-9124-f2bc335ec737",
   "metadata": {},
   "source": [
    "<div class=\"alert alert-warning\">\n",
    "    <h3><i class=\"fa fa-edit\"></i> Stylization exercise</h3>\n",
    "    <ul>\n",
    "        <li>Switch the markers of the plots to triangles by using the <code>marker=</code> option. Test with other markers.</li>\n",
    "        <li>Change the attributes of the line by using the <code>line_kws={}</code> option where the line_kws dictionary is filled with valid Line2D properties (for instance, <code>color</code>, <code>linestyle</code>, see <a href=\"https://matplotlib.org/3.1.3/api/_as_gen/matplotlib.lines.Line2D.html#matplotlib.lines.Line2D\">matplotlib.lines.Line2D</a>).</li>\n",
    "    </ul>\n",
    "</div>"
   ]
  },
  {
   "cell_type": "markdown",
   "id": "a1bfc6eb-b581-4b72-a7bc-a3eca434eb52",
   "metadata": {},
   "source": [
    "### 2.5.5 stripplot\n",
    "\n",
    "Draw a scatterplot where one variable is categorical."
   ]
  },
  {
   "cell_type": "code",
   "execution_count": null,
   "id": "0053f68d-70ad-4404-8e77-6d9da0d85e97",
   "metadata": {},
   "outputs": [],
   "source": [
    "# stripplot\n",
    "df2023['terminal'] = df2023['name'].apply(lambda x: x[-1].upper())\n",
    "letters = list('NAEHIYR')\n",
    "var = df2023.loc[df2023['terminal'].isin(letters)]\n",
    "sns.stripplot(data=var, x='terminal', y='births');"
   ]
  },
  {
   "cell_type": "markdown",
   "id": "951b1d8c-511a-4155-8c5c-6c4c4204277d",
   "metadata": {},
   "source": [
    "<div class=\"alert alert-warning\">\n",
    "    <h3><i class=\"fa fa-edit\"></i> Stylization exercise</h3>\n",
    "    <ul>\n",
    "        <li>Switch x and y in the graphic above.</li>\n",
    "    </ul>\n",
    "</div>"
   ]
  },
  {
   "cell_type": "markdown",
   "id": "582ed8a8-9d28-4c6d-9faf-d7a963e213dd",
   "metadata": {},
   "source": [
    "<div class=\"alert alert-success\">\n",
    "    <h3><i class=\"fa fa-edit\"></i> Exercise 14 &starf;&starf;&starf;</h3>\n",
    "    <ul>\n",
    "        <li>Retrieve the <code>shorten()</code> function that we have defined in exercise 3.</li>\n",
    "        <li>Make a stripplot chart with the top ten shortnames from df2023 and the births.</li>       \n",
    "    </ul>\n",
    "</div>"
   ]
  },
  {
   "cell_type": "code",
   "execution_count": null,
   "id": "02e2afe7-4073-4178-9c86-136f088ed0a4",
   "metadata": {},
   "outputs": [],
   "source": [
    "# %load notebook3/ex_14.py"
   ]
  },
  {
   "cell_type": "markdown",
   "id": "7e2e8f1e-81bb-4b5f-a5cf-d0ff0da9e51a",
   "metadata": {},
   "source": [
    "### 2.5.6 heatmap\n",
    "\n",
    "Plot rectangular data as a color-encoded matrix"
   ]
  },
  {
   "cell_type": "code",
   "execution_count": null,
   "id": "e8105cdf-d643-4379-9536-1b6d0f8d0d27",
   "metadata": {},
   "outputs": [],
   "source": [
    "df2023['initial'] = df2023['name'].str[0]\n",
    "sns.heatmap(pd.crosstab(df2023['terminal'], df2023['initial']), cmap='Blues');"
   ]
  },
  {
   "cell_type": "markdown",
   "id": "92affc72-4f54-4243-a4c2-7ae0895eac36",
   "metadata": {},
   "source": [
    "<div class=\"alert alert-success\">\n",
    "    <h3><i class=\"fa fa-edit\"></i> Exercise 15 &starf;&starf;&starf;</h3>\n",
    "    <ul>\n",
    "        <li>Select the most 7 used initial letters in 2023.</li>\n",
    "        <li>Select the most 7 used terminal letters in 2023.</li>\n",
    "        <li>Make a crosstab counting the number of names according to their initial letters and terminal letters in the full df DataFrame for the most 7 used initial letters and terminal letters in 2023.</li>\n",
    "        <li>Make a heatmap with Blues colormap from this crosstab.</li>\n",
    "        <li>Add annotations within the cells with the <code>annot=True</code> option.</li>\n",
    "        <li>Switch the numbers to integers by using the option <code>fmt='5d'</code>.</li>\n",
    "    </ul>\n",
    "</div>"
   ]
  },
  {
   "cell_type": "code",
   "execution_count": null,
   "id": "135409e4-da48-4348-b394-3ac383ca0d6e",
   "metadata": {},
   "outputs": [],
   "source": [
    "# %load notebook3/ex_15.py"
   ]
  },
  {
   "cell_type": "markdown",
   "id": "55741dfa-c83a-4f48-85bd-e12c2e6d102d",
   "metadata": {},
   "source": [
    "<div class=\"alert alert-warning\">\n",
    "    <h3><i class=\"fa fa-edit\"></i> Stylization exercise</h3>\n",
    "    <ul>\n",
    "        <li>Switch the Blues colormap to another and reproduce the heatmap above.</li>\n",
    "    </ul>\n",
    "</div>"
   ]
  },
  {
   "cell_type": "markdown",
   "id": "2a98e5a5-31e1-48c5-8295-cb3d9ded3af0",
   "metadata": {},
   "source": [
    "<div class=\"alert alert-warning\">\n",
    "    <h3><i class=\"fa fa-book\"></i> Further reading</h3>\n",
    "    <ul>\n",
    "        <li>The <strong>matplotlib</strong> and <strong>seaborn</strong> modules manage also colormaps, i.e. palettes of colors associated with discrete or continuous data:</li>\n",
    "        <ul>\n",
    "            <li><a href=\"https://matplotlib.org/stable/tutorials/colors/colormaps.html\">Choosing Colormaps in Matplotlib</a></li>\n",
    "            <li><a href=\"https://seaborn.pydata.org/tutorial/color_palettes.html\">Choosing color palette in seaborn</a></li>\n",
    "        </ul>\n",
    "        <li>These modules manage also other palettes:</li>\n",
    "        <ul>\n",
    "            <li><a href=\"https://colorbrewer2.org/\">ColorBrewer</a></li>\n",
    "            <li><a href=\"https://xkcd.com/color/rgb/\">XKCD Color</a>, see also the blog: <a href=\"https://blog.xkcd.com/2010/05/03/color-survey-results/\">Color Survey Results</a></li>\n",
    "        </ul>\n",
    "    </ul>\n",
    "</div> "
   ]
  }
 ],
 "metadata": {
  "kernelspec": {
   "display_name": "Python 3 (ipykernel)",
   "language": "python",
   "name": "python3"
  },
  "language_info": {
   "codemirror_mode": {
    "name": "ipython",
    "version": 3
   },
   "file_extension": ".py",
   "mimetype": "text/x-python",
   "name": "python",
   "nbconvert_exporter": "python",
   "pygments_lexer": "ipython3",
   "version": "3.10.9"
  }
 },
 "nbformat": 4,
 "nbformat_minor": 5
}
