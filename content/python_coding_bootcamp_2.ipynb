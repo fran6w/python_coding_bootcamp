{
 "cells": [
  {
   "cell_type": "markdown",
   "metadata": {},
   "source": [
    "# Python coding bootcamp - Notebook 2\n",
    "\n",
    "- Introduction to **NumPy**\n",
    "- Introduction to **pandas**\n",
    "\n",
    "&copy; 2024 Francis WOLINSKI"
   ]
  },
  {
   "cell_type": "markdown",
   "metadata": {},
   "source": [
    "<div class=\"alert alert-danger\">\n",
    "    <h3><i class=\"fa fa-plus-square\"></i>  PART 1</h3>\n",
    "</div>"
   ]
  },
  {
   "cell_type": "markdown",
   "metadata": {},
   "source": [
    "![image](images/numpylogo.png)\n",
    "\n",
    "# Introduction to NumPy\n",
    "\n",
    "1. **NumPy**, the origins of data processing in Python\n",
    "2. **NumPy** and arrays\n",
    "3. Accessing and modifying values\n",
    "4. Broadcasting\n",
    "5. Universal functions\n",
    "6. Exemples with pictures\n",
    "7. Saving and loading arrays"
   ]
  },
  {
   "cell_type": "markdown",
   "metadata": {},
   "source": [
    "# 1. NumPy, the origins of data processing in Python\n",
    "\n",
    "- **NumPy** is the first data processing package in Python.\n",
    "- It is based on a set of functions coded in the C language\n",
    "- It combines a class, ndarray, and universal functions\n",
    "- The foundation of most data science packages\n",
    "\n",
    "**Numpy** uses arrays\n",
    "- a one-dimensional array is a vector\n",
    "- a two-dimensional array is a matrix\n",
    "- an array is equivalent to a tensor\n",
    "\n",
    "Arrays are used to work on unstructured data\n",
    "- an image is represented by a 3-dimensional array\n",
    "- a video is represented by a 4-dimensional array"
   ]
  },
  {
   "cell_type": "code",
   "execution_count": null,
   "metadata": {},
   "outputs": [],
   "source": [
    "# import\n",
    "\n",
    "import numpy as np"
   ]
  },
  {
   "cell_type": "markdown",
   "metadata": {},
   "source": [
    "# 2. NumPy and arrays\n",
    "\n",
    "- Arrays are central structures in data science. \n",
    "- **NumPy** arrays are used in the same way as vectors or matrices.\n",
    "- Arrays are created using the function `np.array()`, and can be created from a list or several lists.\n",
    "- Arrays only consist of one data type (in its classic form)"
   ]
  },
  {
   "cell_type": "markdown",
   "metadata": {},
   "source": [
    "### A little vocabulary\n",
    "\n",
    "- Dimensions are called `axis` (`axis=0`: rows, `axis=1`: columns)\n",
    "- The number of dimensions is accessed with `.ndim`.\n",
    "- The shape is accessed with `.shape`.\n",
    "- Size (`.size`) is the total number of elements in an array\n",
    "- Element type is accessed with `.dtype`."
   ]
  },
  {
   "cell_type": "markdown",
   "metadata": {},
   "source": [
    "Arrays can be created in a number of ways:"
   ]
  },
  {
   "cell_type": "markdown",
   "metadata": {},
   "source": [
    "function (extract)|use\n",
    "-|-\n",
    "array|from an array object\n",
    "arange|vector of numbers equally distributed in an interval (step)\n",
    "linspace|vector of numbers equally distributed in an interval (number)\n",
    "zeros|returns a *ndarray* null\n",
    "zeros_like|returns a null *ndarray* with the same dimensions as another *ndarray*.\n",
    "ones|returns one *ndarray* unit\n",
    "ones_like|returns a unit *ndarray* with identical dimensions to another *ndarray*.\n",
    "eye|returns a null matrix with 1's on the first diagonal\n",
    "identity|return an identity matrix\n",
    "full|return a matrix with a uniform value"
   ]
  },
  {
   "cell_type": "markdown",
   "metadata": {},
   "source": [
    "**Explicit creation**"
   ]
  },
  {
   "cell_type": "code",
   "execution_count": null,
   "metadata": {},
   "outputs": [],
   "source": [
    "# an array\n",
    "\n",
    "arr1 = np.array([[1, 2, 3], [4, 5, 6]])\n",
    "print(arr1)"
   ]
  },
  {
   "cell_type": "code",
   "execution_count": null,
   "metadata": {},
   "outputs": [],
   "source": [
    "# an array\n",
    "\n",
    "print(arr1.ndim, arr1.shape, arr1.size, arr1.dtype)"
   ]
  },
  {
   "cell_type": "markdown",
   "metadata": {},
   "source": [
    "**np.arange function**"
   ]
  },
  {
   "cell_type": "code",
   "execution_count": null,
   "metadata": {},
   "outputs": [],
   "source": [
    "# arange\n",
    "\n",
    "array = np.arange(48)\n",
    "array"
   ]
  },
  {
   "cell_type": "code",
   "execution_count": null,
   "metadata": {},
   "outputs": [],
   "source": [
    "# ndim\n",
    "\n",
    "array.ndim"
   ]
  },
  {
   "cell_type": "code",
   "execution_count": null,
   "metadata": {},
   "outputs": [],
   "source": [
    "# shape\n",
    "\n",
    "array.shape"
   ]
  },
  {
   "cell_type": "markdown",
   "metadata": {},
   "source": [
    "The `reshape` method modifies the structure of an array without changing the number of elements.\n",
    "\n",
    "These methods, known as *reshaping*, are very important in Data Science, as we'll see with the **pandas** library."
   ]
  },
  {
   "cell_type": "code",
   "execution_count": null,
   "metadata": {},
   "outputs": [],
   "source": [
    "# reshape\n",
    "\n",
    "array.reshape(8, 6)"
   ]
  },
  {
   "cell_type": "markdown",
   "metadata": {},
   "source": [
    "<div class=\"alert alert-success\">\n",
    "    <h3><i class=\"fa fa-edit\"></i> Exercise 1 &starf;</h3>\n",
    "    <ul>\n",
    "        <li>Choose another dimension for this <code>ndarray</code> and test attributes such as <code>ndim</code>, <code>shape</code>, <code>size</code>.</li>\n",
    "        </ul>\n",
    "</div>"
   ]
  },
  {
   "cell_type": "code",
   "execution_count": null,
   "metadata": {},
   "outputs": [],
   "source": [
    "# %load notebook2/ex_01.py"
   ]
  },
  {
   "cell_type": "markdown",
   "metadata": {},
   "source": [
    "**np.linspace function**\n",
    "\n",
    "The `np.linspace` function is useful for plotting functions, for example. It generates a given number of equidistant values between two bounds."
   ]
  },
  {
   "cell_type": "code",
   "execution_count": null,
   "metadata": {},
   "outputs": [],
   "source": [
    "# linspace: 11 values between 0 and 5\n",
    "\n",
    "np.linspace(0, 5, 11)"
   ]
  },
  {
   "cell_type": "markdown",
   "metadata": {},
   "source": [
    "# 3. Accessing, selecting and modifying values"
   ]
  },
  {
   "cell_type": "code",
   "execution_count": null,
   "metadata": {},
   "outputs": [],
   "source": [
    "array = array.reshape(8, 6)\n",
    "array"
   ]
  },
  {
   "cell_type": "code",
   "execution_count": null,
   "metadata": {},
   "outputs": [],
   "source": [
    "# access to the first line\n",
    "\n",
    "array[0]"
   ]
  },
  {
   "cell_type": "code",
   "execution_count": null,
   "metadata": {},
   "outputs": [],
   "source": [
    "# access to the first column\n",
    "\n",
    "array[:, 0]"
   ]
  },
  {
   "cell_type": "code",
   "execution_count": null,
   "metadata": {},
   "outputs": [],
   "source": [
    "# access to a sub-matrix\n",
    "\n",
    "array[2:5, 2:4]"
   ]
  },
  {
   "cell_type": "code",
   "execution_count": null,
   "metadata": {},
   "outputs": [],
   "source": [
    "# selecting\n",
    "\n",
    "array[array > 10]"
   ]
  },
  {
   "cell_type": "code",
   "execution_count": null,
   "metadata": {},
   "outputs": [],
   "source": [
    "# modification of a sub-matrix\n",
    "\n",
    "array[2:5, 2:4] = -1\n",
    "array"
   ]
  },
  {
   "cell_type": "markdown",
   "metadata": {},
   "source": [
    "# 4. Broadcasting\n",
    "\n",
    "An array supports arithmetic operations with a scalar and operations with another array.\n",
    "\n",
    "Basic arithmetic operations are performed term by term: `*`, `+`, `-`, `/`, `**` (power), `%` (modulo).\n",
    "\n",
    "For operations with another array, NumPy uses the one in a dimension compatible with the operation."
   ]
  },
  {
   "cell_type": "code",
   "execution_count": null,
   "metadata": {},
   "outputs": [],
   "source": [
    "# vector 1\n",
    "\n",
    "array1 = np.arange(4)\n",
    "array1"
   ]
  },
  {
   "cell_type": "code",
   "execution_count": null,
   "metadata": {},
   "outputs": [],
   "source": [
    "# addition with a scalar\n",
    "\n",
    "array2 = array1 + 10\n",
    "array2"
   ]
  },
  {
   "cell_type": "code",
   "execution_count": null,
   "metadata": {},
   "outputs": [],
   "source": [
    "# multiplication with another vector\n",
    "\n",
    "array1 * array2"
   ]
  },
  {
   "cell_type": "code",
   "execution_count": null,
   "metadata": {},
   "outputs": [],
   "source": [
    "# 2 x 4 matrix\n",
    "\n",
    "array3 = np.arange(8).reshape(2, 4)\n",
    "array3"
   ]
  },
  {
   "cell_type": "code",
   "execution_count": null,
   "metadata": {},
   "outputs": [],
   "source": [
    "# addition matrix + vector (broadcast)\n",
    "\n",
    "array3 + array2"
   ]
  },
  {
   "cell_type": "markdown",
   "metadata": {},
   "source": [
    "# 5. Universal functions\n",
    "\n",
    "**NumPy** provides a number of functions for manipulating arrays:\n",
    "- logical functions: `np.all()`, `np.any()`, `np.where(condition, A, B)` for simple conditions\n",
    "- mathematical functions: `np.abs()`, `np.sqrt()`, `np.sin()`, `np.cos()`, `np.tan()`, `np.log()`, `np.exp()`, `np.floor()`\n",
    "- arithmetic functions: `np.sum()`, `np.cumsum()`, `np.min()`, `np.max()`, `np.sort()`, `np.argsort()`\n",
    "- statistical functions: `np.sum()`, `np.cumsum()`, `np.mean()`, `np.std()`, `np.var()`, `np.median()`, `np.percentile()`, `np.average()` : weighted average\n",
    "- matrix calculations: `@` or `.dot()`, `T` or `.transpose()`.\n",
    "\n",
    "Some of these functions can be used with the keyword `axis` to specify the dimension in which the reduction is to be performed."
   ]
  },
  {
   "cell_type": "code",
   "execution_count": null,
   "metadata": {},
   "outputs": [],
   "source": [
    "# array\n",
    "\n",
    "array"
   ]
  },
  {
   "cell_type": "code",
   "execution_count": null,
   "metadata": {},
   "outputs": [],
   "source": [
    "# sum of line\n",
    "\n",
    "array.sum(axis=0)"
   ]
  },
  {
   "cell_type": "code",
   "execution_count": null,
   "metadata": {},
   "outputs": [],
   "source": [
    "# sum of columns\n",
    "\n",
    "array.sum(axis=1)"
   ]
  },
  {
   "cell_type": "code",
   "execution_count": null,
   "metadata": {},
   "outputs": [],
   "source": [
    "# total sum\n",
    "\n",
    "array.sum()"
   ]
  },
  {
   "cell_type": "markdown",
   "metadata": {},
   "source": [
    "# 6. Examples with images\n",
    "\n",
    "If you load an image with the pyplot module of the **matplotlib** library, you get an array on which you can perform manipulations."
   ]
  },
  {
   "cell_type": "code",
   "execution_count": null,
   "metadata": {},
   "outputs": [],
   "source": [
    "# import\n",
    "\n",
    "import matplotlib.pyplot as plt"
   ]
  },
  {
   "cell_type": "markdown",
   "metadata": {},
   "source": [
    "## 6.1 Paris image"
   ]
  },
  {
   "cell_type": "code",
   "execution_count": null,
   "metadata": {},
   "outputs": [],
   "source": [
    "# Paris\n",
    "\n",
    "image_paris = plt.imread(\"./images/tour-eiffel.png\")\n",
    "plt.imshow(image_paris);"
   ]
  },
  {
   "cell_type": "markdown",
   "metadata": {},
   "source": [
    "The `image_paris` object is a n array."
   ]
  },
  {
   "cell_type": "code",
   "execution_count": null,
   "metadata": {},
   "outputs": [],
   "source": [
    "# type\n",
    "\n",
    "type(image_paris)"
   ]
  },
  {
   "cell_type": "markdown",
   "metadata": {},
   "source": [
    "The `image_paris` is an array of 3 dimensions."
   ]
  },
  {
   "cell_type": "code",
   "execution_count": null,
   "metadata": {},
   "outputs": [],
   "source": [
    "# ndim\n",
    "\n",
    "image_paris.ndim"
   ]
  },
  {
   "cell_type": "code",
   "execution_count": null,
   "metadata": {},
   "outputs": [],
   "source": [
    "# shape\n",
    "\n",
    "image_paris.shape"
   ]
  },
  {
   "cell_type": "markdown",
   "metadata": {},
   "source": [
    "The 3 dimensions represent:\n",
    "- image height in pixels, here 694\n",
    "- image width in pixels, here 1024\n",
    "- the 3 primary colors: red, green, blue (RGB):\n",
    "    - `image_paris[:,:,0]` represents primary color values <span style=\"color:red;font-weight:bold;\">red</span>,\n",
    "    - `image_paris[:,:,1]` represents primary color values <span style=\"color:green;font-weight:bold;\">green</span>,\n",
    "    - `image_paris[:,:,2]` represents primary color values <span style=\"color:blue;font-weight:bold;\">blue</span>."
   ]
  },
  {
   "cell_type": "code",
   "execution_count": null,
   "metadata": {},
   "outputs": [],
   "source": [
    "# top left pixel\n",
    "\n",
    "image_paris[0, 0]"
   ]
  },
  {
   "cell_type": "markdown",
   "metadata": {},
   "source": [
    "For images, values are either floating numbers between 0.0 and 1.0, or integers between 0 and 255 (corresponding to 00 and FF in hexadecimal).\n",
    "\n",
    "To display an image with the values of each primary color in an image, simply set the values of the other 2 complementary colors to 0."
   ]
  },
  {
   "cell_type": "code",
   "execution_count": null,
   "metadata": {},
   "outputs": [],
   "source": [
    "# coulor of a single pixel\n",
    "\n",
    "arr = np.full((1, 1, 3), image_paris[0, 0])\n",
    "plt.imshow(arr);"
   ]
  },
  {
   "cell_type": "markdown",
   "metadata": {},
   "source": [
    "<div class=\"alert alert-info\">\n",
    "    <h3><i class=\"fa fa-info-circle\"></i> Tips</h3>\n",
    "    <p><b>matplotlib</b> always returns an object. A semi-colon <code>;</code>added at the end of <b>matplotlib</b> statement prevents it to be printed (only in notebooks).</p>\n",
    "</div>"
   ]
  },
  {
   "cell_type": "markdown",
   "metadata": {},
   "source": [
    "<div class=\"alert alert-success\">\n",
    "    <h3><i class=\"fa fa-edit\"></i> Exercise 2 &starf;</h3>\n",
    "    <ul>\n",
    "        <li>Display the bottom right pixel.</li>\n",
    "        </ul>\n",
    "</div>"
   ]
  },
  {
   "cell_type": "code",
   "execution_count": null,
   "metadata": {},
   "outputs": [],
   "source": [
    "# %load notebook2/ex_02.py"
   ]
  },
  {
   "cell_type": "markdown",
   "metadata": {},
   "source": [
    "<div class=\"alert alert-success\">\n",
    "    <h3><i class=\"fa fa-edit\"></i> Exercise 3 &starf;&starf;</h3>\n",
    "    <ul>\n",
    "        <li>Extract the Eiffel Tower from the image</li>\n",
    "        <li>Hint: look at the coordinates of the picture and collect a sub-matrix.</li>\n",
    "    </ul>\n",
    "</div>"
   ]
  },
  {
   "cell_type": "code",
   "execution_count": null,
   "metadata": {},
   "outputs": [],
   "source": [
    "# %load notebook2/ex_03.py"
   ]
  },
  {
   "cell_type": "markdown",
   "metadata": {},
   "source": [
    "## 6.2 Mondrian image"
   ]
  },
  {
   "cell_type": "code",
   "execution_count": null,
   "metadata": {},
   "outputs": [],
   "source": [
    "# Mondrian\n",
    "\n",
    "image_mondrian = plt.imread(\"./images/mondrian-1504681_1280.png\")\n",
    "plt.imshow(image_mondrian);"
   ]
  },
  {
   "cell_type": "code",
   "execution_count": null,
   "metadata": {},
   "outputs": [],
   "source": [
    "# shape\n",
    "\n",
    "image_mondrian.shape"
   ]
  },
  {
   "cell_type": "markdown",
   "metadata": {},
   "source": [
    "<div class=\"alert alert-success\">\n",
    "    <h3><i class=\"fa fa-edit\"></i> Exercise 4 &starf;&starf;</h3>\n",
    "    <ul>\n",
    "        <li>Using at each time the <code>copy()</code> method, display the image corresponding to each primary color: <span style='color:blue;font-weight:bold;'>blue</span>, <span style='color:green;font-weight:bold;'>green</span> and <span style='color:red;font-weight:bold;'>red</span>, in that order.</li>\n",
    "        <li>At each time, you will need to set to 0 the other channels</li>\n",
    "        <li>Visual check:\n",
    "            <ul>\n",
    "                <li>blue = blue or white in the initial image</li>\n",
    "                <li>green = yellow or white in the initial image</li>\n",
    "                <li>red = red, yellow or white in the initial image</li>\n",
    "            </ul>\n",
    "        </li>\n",
    "        <li><em>Nota bene</em> yellow = red + green and white = red + green + blue in additive synthesis.</li>\n",
    "        </ul>\n",
    "</div>"
   ]
  },
  {
   "cell_type": "code",
   "execution_count": null,
   "metadata": {},
   "outputs": [],
   "source": [
    "# %load notebook2/ex_04.py"
   ]
  },
  {
   "cell_type": "markdown",
   "metadata": {},
   "source": [
    "<div class=\"alert alert-success\">\n",
    "    <h3><i class=\"fa fa-edit\"></i> Exercise 5 &starf;&starf;</h3>\n",
    "    <p>Switch the image to approximate grayscale:</p>\n",
    "    <ol>\n",
    "        <li>Copy the image to a new variable.</li>\n",
    "        <li>Calculate the average, minimum (darker) or maximum (lighter) of the 3 primary colors on the third dimension (<code>axis=2</code>).</li>\n",
    "        <li>Assign calculated values to the three levels of red, green and blue.</li>\n",
    "        <li>Display the new approximate grayscale images.</li>\n",
    "    </ol>\n",
    "</div>"
   ]
  },
  {
   "cell_type": "code",
   "execution_count": null,
   "metadata": {},
   "outputs": [],
   "source": [
    "# %load notebook2/ex_05.py"
   ]
  },
  {
   "cell_type": "markdown",
   "metadata": {},
   "source": [
    "In fact, grayscale is performed using a weighted average: $Y=0.2989 \\times R + 0.5870 \\times G + 0.1140 \\times B$"
   ]
  },
  {
   "cell_type": "markdown",
   "metadata": {},
   "source": [
    "<div class=\"alert alert-success\">\n",
    "    <h3><i class=\"fa fa-edit\"></i> Exercise 6 &starf;&starf;&starf;</h3>\n",
    "    <p>Switch the image to grayscale by using the appropriate formula.</p>\n",
    "</div>"
   ]
  },
  {
   "cell_type": "code",
   "execution_count": null,
   "metadata": {},
   "outputs": [],
   "source": [
    "# %load notebook2/ex_06.py"
   ]
  },
  {
   "cell_type": "markdown",
   "metadata": {},
   "source": [
    "## 6.3 Other images"
   ]
  },
  {
   "cell_type": "markdown",
   "metadata": {},
   "source": [
    "<div class=\"alert alert-success\">\n",
    "    <h3><i class=\"fa fa-edit\"></i> Exercise 7 &starf;&starf;</h3>\n",
    "    <ul>\n",
    "        <li>Load image \"./images/guess1.jpg\" (resp. \"./images/guess2.jpg\") and display it.</li>\n",
    "        <li>In this picture green and blue pixels (resp. red and green) have been randomly changed.</li>\n",
    "        <li>Apply a simple transformation to improve the picture and guess what it represents.</li>\n",
    "        </ul>\n",
    "</div>"
   ]
  },
  {
   "cell_type": "code",
   "execution_count": null,
   "metadata": {},
   "outputs": [],
   "source": [
    "# %load notebook2/ex_07.py"
   ]
  },
  {
   "cell_type": "markdown",
   "metadata": {},
   "source": [
    "<div class=\"alert alert-success\">\n",
    "    <h3><i class=\"fa fa-edit\"></i> Exercise 8 &starf;</h3>\n",
    "    <ul>\n",
    "        <li>Collect a picture of your own and try to apply some of the methods we have studied.</li>\n",
    "        </ul>\n",
    "</div>"
   ]
  },
  {
   "cell_type": "markdown",
   "metadata": {},
   "source": [
    "# 7. Saving and loading arrays\n",
    "\n",
    "We use:\n",
    "- `np.save('my_array',my_array)` to save an array\n",
    "- `np.load('mon_array.npy')` to load an array\n",
    "- `np.savez('ziparray.npz', x=my_array, y=mpn_array2)` to zip-save several arrays\n",
    "- `np.savetxt('textfile.txt', mon_array, delimiter=';')` to save an array in a text file\n",
    "- `np.loadtxt('textfile.txt', delimiter=';')` to load an array from a text file"
   ]
  },
  {
   "cell_type": "markdown",
   "metadata": {},
   "source": [
    "<div class=\"alert alert-warning\">\n",
    "    <h3><i class=\"fa fa-book\"></i> Documentation</h3>\n",
    "    <ul>\n",
    "        <li><strong>NumPy</strong> : <a href=\"https://numpy.org/doc/stable/index.html\">https://numpy.org/doc/stable/index.html</a></li>\n",
    "    </ul>\n",
    "</div>"
   ]
  },
  {
   "cell_type": "markdown",
   "metadata": {},
   "source": [
    "<div class=\"alert alert-danger\">\n",
    "    <h3><i class=\"fa fa-plus-square\"></i>  PART 2</h3>\n",
    "</div>"
   ]
  },
  {
   "cell_type": "markdown",
   "metadata": {},
   "source": [
    "![image](./images/pandas2.png)\n",
    "\n",
    "# 1. Introduction to pandas\n",
    "\n",
    "1. Series and DataFrame\n",
    "2. Accessing to data"
   ]
  },
  {
   "cell_type": "code",
   "execution_count": null,
   "metadata": {},
   "outputs": [],
   "source": [
    "# imports\n",
    "\n",
    "import lxml  # for read_html()\n",
    "import pandas as pd  # import pandas and name the module 'pd'\n",
    "\n",
    "# display options\n",
    "pd.set_option(\"display.min_rows\", 16)\n",
    "pd.set_option(\"display.max_columns\", 30)"
   ]
  },
  {
   "cell_type": "markdown",
   "metadata": {},
   "source": [
    "## 1.1 Presentation of the dataset\n",
    "\n",
    "This session uses the data available on the US Social Security web site: https://www.ssa.gov/oact/babynames/limits.html\n",
    "\n",
    "We will use the national dataset `names.zip`.\n",
    "\n",
    "### Read me provided by SSA:\n",
    "\n",
    "> For each year of birth YYYY after 1879, we created a comma-delimited file called yobYYYY.txt. Each record in the individual annual files has the format \"name,sex,number\", where name is 2 to 15 characters, sex is M (male) or F (female) and \"number\" is the number of occurrences of the name. Each file is sorted first on sex and then on number of occurrences in descending order. When there is a tie on the number of occurrences, names are listed in alphabetical order. (...)\n",
    "> To safeguard privacy, we restrict our list of names to those with at least 5 occurrences."
   ]
  },
  {
   "cell_type": "markdown",
   "metadata": {},
   "source": [
    "## 1.2 Loading a single file\n",
    "\n",
    "**pandas** is equiped with the `read_csv()` function which enables to load CSV files.\n",
    "\n",
    "In order to understand how to use the `read_csv()` function, we can use the `?` operator."
   ]
  },
  {
   "cell_type": "code",
   "execution_count": null,
   "metadata": {},
   "outputs": [],
   "source": [
    "# pd.read_csv?"
   ]
  },
  {
   "cell_type": "markdown",
   "metadata": {},
   "source": [
    "Reading a file with **pandas** is performed with a single statement and the appropriate arguments, here:\n",
    "- file path\n",
    "- column names"
   ]
  },
  {
   "cell_type": "code",
   "execution_count": null,
   "metadata": {},
   "outputs": [],
   "source": [
    "# loading the 2023 file\n",
    "\n",
    "df2023 = pd.read_csv('data/names/yob2023.txt', names=['name', 'gender', 'births'])\n",
    "df2023"
   ]
  },
  {
   "cell_type": "markdown",
   "metadata": {},
   "source": [
    "The result is a `DataFrame` object which is assigned to a variable.\n",
    "This `DataFrame` object has 31.915 rows and 3 columns.\n",
    "\n",
    "There are many other functions which aim is to import data according to different formats. One can type `pd.read` and  then press the `Tab` key. Jupyter displays a list of available functions starting with `read`. One can select the appropriate function by using the up and down arrows. Press `Esc` to exit the list."
   ]
  },
  {
   "cell_type": "code",
   "execution_count": null,
   "metadata": {},
   "outputs": [],
   "source": [
    "# pd.read # put the cursor just after pd.read, press Tab key and Esc to exit from the list"
   ]
  },
  {
   "cell_type": "markdown",
   "metadata": {},
   "source": [
    "function (extract) | usage\n",
    "-|-\n",
    "read_clipboard | read data from memory\n",
    "read_csv | read data from a CSV file (Comma-Separated Value)\n",
    "read_excel | read data from an Excel workbook\n",
    "read_html | read data from an HTML file (search for < table > tags)\n",
    "read_json | read data from a JSON file (JavaScript Object Notation)\n",
    "read_pickle | read data from a pickled object\n",
    "read_sql | read data from an SQL query or table\n",
    "read_table | read data from general delimited file"
   ]
  },
  {
   "cell_type": "markdown",
   "metadata": {},
   "source": [
    "All of these functions contains a large number of options - through keywords arguments with default values - and which enable to adapt the behavior of the function to the real data to be processed.\n",
    "\n",
    "<div class=\"alert alert-warning\">\n",
    "    <h3><i class=\"fa fa-book\"></i> Further reading</h3>\n",
    "    <p>For most of <code>read_xxx()</code> functions, a <code>to_xxx()</code> method exists and export the <code>DataFrame</code> object to the appropriate format, see: <a href='https://pandas.pydata.org/pandas-docs/stable/user_guide/io.html'>IO tools</a></p>\n",
    "</div>"
   ]
  },
  {
   "cell_type": "markdown",
   "metadata": {},
   "source": [
    "## 1.3 Webscraping HTML tables\n",
    "\n",
    "The pandas `read_html()` function enables to perform the webscraping of HTML tables. It returns a list of `DataFrames` for each table found in the page. This function requires the **lxml** package to be installed.\n",
    "\n",
    "We can try with the geonames Country Codes page: https://www.geonames.org/countries/"
   ]
  },
  {
   "cell_type": "code",
   "execution_count": null,
   "metadata": {},
   "outputs": [],
   "source": [
    "# webscraping HTML tables\n",
    "# var = pd.read_html('https://www.geonames.org/countries/')\n",
    "var = pd.read_html('data/GeoNames.html')\n",
    "\n",
    "# get the shape of each collected DataFrame\n",
    "[df.shape for df in var]"
   ]
  },
  {
   "cell_type": "code",
   "execution_count": null,
   "metadata": {},
   "outputs": [],
   "source": [
    "# access to a specific DataFrame of interest\n",
    "var[1]"
   ]
  },
  {
   "cell_type": "markdown",
   "metadata": {},
   "source": [
    "## 1.4 Loading all files\n",
    "\n",
    "We are going to import all data from all files and not a single one.\n",
    "\n",
    "This is done with a small script that is out of scope for the moment. It has to loop on all files in order to build a large `DataFrame`which includes a fourth column with each year.\n",
    "\n",
    "We are only interessed in the result of the script."
   ]
  },
  {
   "cell_type": "code",
   "execution_count": null,
   "metadata": {},
   "outputs": [],
   "source": [
    "# Import all data in a single DataFrame\n",
    "\n",
    "dfs = []  # list of DataFrames for each year\n",
    "\n",
    "for year in range(1880, 2024):\n",
    "    filename = f'data/names/yob{year}.txt'  # build the filename from the year\n",
    "    csv = pd.read_csv(filename, names=['name', 'gender', 'births'])  # load the file as a new DataFrame\n",
    "    csv['year'] = year  # add a column with the year to the new DataFrame\n",
    "    dfs.append(csv)  # append the DataFrame to the list\n",
    "\n",
    "df = pd.concat(dfs, ignore_index=True)  # build a single DataFrame from all DataFrames\n",
    "df = df[['year', 'name', 'gender', 'births']]  # reorder columns of the global DataFrame\n",
    "df.to_pickle('names.pkl')  # save the DataFrame to the pickle format"
   ]
  },
  {
   "cell_type": "code",
   "execution_count": null,
   "metadata": {},
   "outputs": [],
   "source": [
    "# the whole data\n",
    "df"
   ]
  },
  {
   "cell_type": "markdown",
   "metadata": {},
   "source": [
    "The result is a large `DataFrame` with 2.117.219 rows and 4 columns. One can access to each column individually which is called a `Series`."
   ]
  },
  {
   "cell_type": "markdown",
   "metadata": {},
   "source": [
    "<div class=\"alert alert-warning\" role=\"alert\">\n",
    "    <h3><i class=\"fa fa-question-circle\"></i> Question &starf;</h3>\n",
    "    <p>Compute manually how many years do we have in this dataset?</p>\n",
    "</div>"
   ]
  },
  {
   "cell_type": "markdown",
   "metadata": {},
   "source": [
    "# 2. Series and DataFrame\n",
    "\n",
    "Originally, the **pandas** name comes from **PAN**(el) + **DA**(taframe) + **S**(eries) where panels, dataframes and series are the 3-D, 2-D and 1-D objects. Panels have been removed from the library and are now replaced by multi-index dataframes.\n",
    "\n",
    "## 2.1 Series, 1-D objects\n",
    "\n",
    "One can access to each column of a `DataFrame` using the square bracket operator `[]` and the label of the column.\n",
    "\n",
    "The obtained object is an instance of Series. it is a 1 dimensionnal structure along with an index.\n",
    "\n",
    "This **pandas** class relies on the `numpy.ndarray` structure. All methods available for `ndarray` are more or less available for `Series`.\n",
    "\n",
    "The `Series` object holds an index that is identical to the one of the `DataFrame`. It has a name that is the label of the column of the `DataFrame` object. In fact, it is a view of the `DataFrame`: all modificatons on the `Series` object will be reported on the `DataFrame` object.\n",
    "\n",
    "### 2.1.1 Common Series attributes\n",
    "\n",
    "attribute|result\n",
    "-|-\n",
    "s.name|name of s\n",
    "s.values|values of s\n",
    "s.index|index of s\n",
    "s.shape|dimension of s\n",
    "s.size|number of elements of s\n",
    "s.dtype|type of elements of s\n",
    "s.empty|True if s is empty, False otherwise"
   ]
  },
  {
   "cell_type": "code",
   "execution_count": null,
   "metadata": {},
   "outputs": [],
   "source": [
    "# Series from the 'births' column\n",
    "s = df[\"births\"]\n",
    "s"
   ]
  },
  {
   "cell_type": "code",
   "execution_count": null,
   "metadata": {},
   "outputs": [],
   "source": [
    "# type of object s\n",
    "type(s)"
   ]
  },
  {
   "cell_type": "code",
   "execution_count": null,
   "metadata": {},
   "outputs": [],
   "source": [
    "# 'name' attribute of s is the label of the column\n",
    "s.name"
   ]
  },
  {
   "cell_type": "code",
   "execution_count": null,
   "metadata": {},
   "outputs": [],
   "source": [
    "# 'values' attribute of s\n",
    "# it is a 1-D numpy ndarray\n",
    "s.values"
   ]
  },
  {
   "cell_type": "code",
   "execution_count": null,
   "metadata": {},
   "outputs": [],
   "source": [
    "type(s.values)"
   ]
  },
  {
   "cell_type": "code",
   "execution_count": null,
   "metadata": {},
   "outputs": [],
   "source": [
    "# 'index' attribute of s\n",
    "# cf. range type of Python\n",
    "s.index"
   ]
  },
  {
   "cell_type": "code",
   "execution_count": null,
   "metadata": {},
   "outputs": [],
   "source": [
    "# 'shape' attribute of s\n",
    "s.shape"
   ]
  },
  {
   "cell_type": "code",
   "execution_count": null,
   "metadata": {},
   "outputs": [],
   "source": [
    "# 'size' attribute of s\n",
    "s.size"
   ]
  },
  {
   "cell_type": "code",
   "execution_count": null,
   "metadata": {},
   "outputs": [],
   "source": [
    "# 'dtype' attribute of s\n",
    "s.dtype"
   ]
  },
  {
   "cell_type": "markdown",
   "metadata": {},
   "source": [
    "### 2.1.2 Common Series methods\n",
    "\n",
    "`Series` objects have several common methods:\n",
    "\n",
    "method|result\n",
    "-|-\n",
    "s.head()|first elements of s\n",
    "s.tail()|last elements of s\n",
    "s.nunique()|number of unique elements of s\n",
    "s.value_counts()|number of occurrences of unique elements of s\n",
    "s.unique()|ndarray with unique elements of s\n",
    "\n",
    "The `Series` class defines many attributes or methods in the `pandas` module. We will explore some of them."
   ]
  },
  {
   "cell_type": "code",
   "execution_count": null,
   "metadata": {},
   "outputs": [],
   "source": [
    "# first elements, by default 5\n",
    "s.head(10)"
   ]
  },
  {
   "cell_type": "code",
   "execution_count": null,
   "metadata": {},
   "outputs": [],
   "source": [
    "# last elements, by default 5\n",
    "s.tail()"
   ]
  },
  {
   "cell_type": "code",
   "execution_count": null,
   "metadata": {},
   "outputs": [],
   "source": [
    "# number of unique values\n",
    "df['name'].nunique()"
   ]
  },
  {
   "cell_type": "code",
   "execution_count": null,
   "metadata": {},
   "outputs": [],
   "source": [
    "# number of unique values\n",
    "df['gender'].nunique()"
   ]
  },
  {
   "cell_type": "code",
   "execution_count": null,
   "metadata": {},
   "outputs": [],
   "source": [
    "# number of unique values\n",
    "df['year'].nunique()"
   ]
  },
  {
   "cell_type": "code",
   "execution_count": null,
   "metadata": {},
   "outputs": [],
   "source": [
    "# value counts\n",
    "df['births'].value_counts()"
   ]
  },
  {
   "cell_type": "markdown",
   "metadata": {},
   "source": [
    "**Observation**\n",
    "\n",
    "The object returned by the `value_counts()` method is also a `Series` object. In **pandas**, many operations on a `Series` or  a `DataFrame` object return another `Series` or `DataFrame` object. This design principle contributes to the power of the library.\n",
    "\n",
    "By default, the `Series` object is organized so that the values are sorted in the reverse order."
   ]
  },
  {
   "cell_type": "code",
   "execution_count": null,
   "metadata": {},
   "outputs": [],
   "source": [
    "# value counts\n",
    "s2 = df['births'].value_counts()\n",
    "type(s2)"
   ]
  },
  {
   "cell_type": "code",
   "execution_count": null,
   "metadata": {},
   "outputs": [],
   "source": [
    "# 'index' attribute of s2\n",
    "s2.index"
   ]
  },
  {
   "cell_type": "code",
   "execution_count": null,
   "metadata": {},
   "outputs": [],
   "source": [
    "# to get the most frequent value\n",
    "s2.index[0]"
   ]
  },
  {
   "cell_type": "code",
   "execution_count": null,
   "metadata": {},
   "outputs": [],
   "source": [
    "# 'values' attribute of s2\n",
    "s2.values"
   ]
  },
  {
   "cell_type": "code",
   "execution_count": null,
   "metadata": {},
   "outputs": [],
   "source": [
    "# to get the count of the most frequent value\n",
    "s2.values[0]"
   ]
  },
  {
   "cell_type": "markdown",
   "metadata": {},
   "source": [
    "<div class=\"alert alert-success\">\n",
    "<h3><i class=\"fa fa-edit\"></i>  Exercise 9 &starf;</h3>\n",
    "<ul>\n",
    "<li>What is the value counts of genders. How can we interpret the result?</li>\n",
    "<li>What are the top 16 value counts of names. How can we interpret the result?</li>\n",
    "<li>What are the 10 years for which we have the most distinct names + gender? What is the finding?</li>\n",
    "</ul>\n",
    "</div>"
   ]
  },
  {
   "cell_type": "code",
   "execution_count": null,
   "metadata": {},
   "outputs": [],
   "source": [
    "# %load notebook2/ex_09.py"
   ]
  },
  {
   "cell_type": "markdown",
   "metadata": {},
   "source": [
    "### 2.1.3 Vectorial operations with Series\n",
    "\n",
    "All vectorial operations for `numpy.ndarray` are available for `Series` objects:\n",
    "\n",
    "- logical:\n",
    "    - element wize between 2 `Series` objects: `&` (AND), `|` (OR), `~` (NOT)\n",
    "    - within values of a single `Series` object: `any()` (OR), `all()` (AND)\n",
    "- usual mathematical functions: e.g.,  `abs()`, `sqrt()`, `sign()`, `floor()`, `rint()`\n",
    "- vectorial computation with a scalar value, a list of values with the `isin()` method, or another `Series` object\n",
    "- comparison with a scalar value or another `Series` object\n",
    "- usual statistical functions: e.g., `sum()`, `min()`, `max()`, `mean()`, `median()`, `std()`, `var()`, `cumsum()`, `cumprod()`, `cummin()`, `cummax()`, `idxmin()`, `idxmax()`\n",
    "- advanced mathematical functions: e.g., trigonometric, logarithm, exponential"
   ]
  },
  {
   "cell_type": "code",
   "execution_count": null,
   "metadata": {},
   "outputs": [],
   "source": [
    "# series of births\n",
    "s = df[\"births\"]\n",
    "s"
   ]
  },
  {
   "cell_type": "code",
   "execution_count": null,
   "metadata": {},
   "outputs": [],
   "source": [
    "# sum of s\n",
    "s.sum()"
   ]
  },
  {
   "cell_type": "code",
   "execution_count": null,
   "metadata": {},
   "outputs": [],
   "source": [
    "# min of s\n",
    "s.min()"
   ]
  },
  {
   "cell_type": "code",
   "execution_count": null,
   "metadata": {},
   "outputs": [],
   "source": [
    "# max of s\n",
    "s.max()"
   ]
  },
  {
   "cell_type": "code",
   "execution_count": null,
   "metadata": {},
   "outputs": [],
   "source": [
    "# s times 3\n",
    "s * 3"
   ]
  },
  {
   "cell_type": "code",
   "execution_count": null,
   "metadata": {},
   "outputs": [],
   "source": [
    "# s equals 5\n",
    "s == 5"
   ]
  },
  {
   "cell_type": "code",
   "execution_count": null,
   "metadata": {},
   "outputs": [],
   "source": [
    "# s is in [0, 1, 2, 3, 4, 5, 6, 7, 8, 9]?\n",
    "s.isin(range(10))"
   ]
  },
  {
   "cell_type": "code",
   "execution_count": null,
   "metadata": {},
   "outputs": [],
   "source": [
    "# are they rows in which number of births equal year?\n",
    "(df[\"births\"] == df[\"year\"]).any()"
   ]
  },
  {
   "cell_type": "code",
   "execution_count": null,
   "metadata": {},
   "outputs": [],
   "source": [
    "# cumsum of s\n",
    "s.cumsum()"
   ]
  },
  {
   "cell_type": "markdown",
   "metadata": {},
   "source": [
    "### 2.1.4 Operations on Series objects containing strings\n",
    "\n",
    "The `str` operator enables to deal with `Series` objects holding strings in order to get a new `Series` object.\n",
    "\n",
    "Thanks to the `str` operator, most of Python operators and functions dedicated to strings are available for `Series` object holding strings: `[]`, `len()`, `startswith()`, `contains()`, `endswith()`, `split()`, `lower()`, `upper()`, `capitalize()`, `title()`, ...\n",
    "\n",
    "These methods return a new `Series` object containing the result of the function applied to each element."
   ]
  },
  {
   "cell_type": "code",
   "execution_count": null,
   "metadata": {},
   "outputs": [],
   "source": [
    "# length of 5 first names\n",
    "df[\"name\"].str.len().head()"
   ]
  },
  {
   "cell_type": "markdown",
   "metadata": {},
   "source": [
    "**Observation**: starting with `head()` would have been more efficient, since the length is only computed on the 5 first names."
   ]
  },
  {
   "cell_type": "code",
   "execution_count": null,
   "metadata": {},
   "outputs": [],
   "source": [
    "# length of 5 first names\n",
    "df[\"name\"].head().str.len()"
   ]
  },
  {
   "cell_type": "markdown",
   "metadata": {},
   "source": [
    "<div class=\"alert alert-info\">\n",
    "<h3><i class=\"fa fa-info-circle\"></i> Jupyter hint</h3>\n",
    "    <p>We can check it with the magic command <code>%timeit</code> which enables to compute the efficiency of a statement.</p>\n",
    "</div>"
   ]
  },
  {
   "cell_type": "code",
   "execution_count": null,
   "metadata": {},
   "outputs": [],
   "source": [
    "%timeit df[\"name\"].str.len().head()"
   ]
  },
  {
   "cell_type": "code",
   "execution_count": null,
   "metadata": {},
   "outputs": [],
   "source": [
    "%timeit df[\"name\"].head().str.len()"
   ]
  },
  {
   "cell_type": "markdown",
   "metadata": {},
   "source": [
    "<div class=\"alert alert-warning\" role=\"alert\">\n",
    "    <h3><i class=\"fa fa-question-circle\"></i> Online question &starf; &starf;</h3>\n",
    "    <p>Which one is the fastest? Guess why?</p>\n",
    "    <ol>\n",
    "        <li><b>Python</b>: <code>sum(list(range(10000000)))</code></li>\n",
    "        <li><b>Numpy</b>: <code>np.arange(10000000).sum()</code> (import numpy as np first)</li>\n",
    "    </ol>\n",
    "</div>"
   ]
  },
  {
   "cell_type": "markdown",
   "metadata": {},
   "source": [
    "<div class=\"alert alert-info\">\n",
    "<h3><i class=\"fa fa-info-circle\"></i> Magic commands in Jupyter</h3><br />\n",
    "    A magic command in Jupyter starts with a <code>%</code>.<br />\n",
    "    There are many magic commands, we list a few of them :\n",
    "    <ul>\n",
    "        <li><code>%lsmagic</code>: list all magic commands</li>\n",
    "        <li><code>%who</code> and <code>%whos</code>: list all variables of global scope</li>\n",
    "        <li><code>%load</code>: load a script from a file</li>\n",
    "        <li><code>%timeit</code>: uses the Python timeit module which runs a statement 100,000 times (by default) and then provides the mean of the fastest three times.</li>\n",
    "        <li><code>%%time</code>: will give you information about a single run of the code in your cell</li>\n",
    "    </ul>\n",
    "    <p>Do not confuse magic command and the <code>%</code> operator (remainder between 2 numbers)</p>\n",
    "</div>"
   ]
  },
  {
   "cell_type": "code",
   "execution_count": null,
   "metadata": {},
   "outputs": [],
   "source": [
    "# all magic\n",
    "%lsmagic"
   ]
  },
  {
   "cell_type": "code",
   "execution_count": null,
   "metadata": {},
   "outputs": [],
   "source": [
    "# all variables\n",
    "%whos"
   ]
  },
  {
   "cell_type": "code",
   "execution_count": null,
   "metadata": {},
   "outputs": [],
   "source": [
    "%%time\n",
    "# compute the time for the whole cell\n",
    "len([i * i for i in range(10000000)])"
   ]
  },
  {
   "cell_type": "markdown",
   "metadata": {},
   "source": [
    "<div class=\"alert alert-success\">\n",
    "<h3><i class=\"fa fa-edit\"></i> Exercise 10 &starf;</h3>\n",
    "<ul>\n",
    "<li>Compute the minimum and the maximum length of names</li>\n",
    "<li>Give the value counts of names length</li>\n",
    "</ul>\n",
    "</div>"
   ]
  },
  {
   "cell_type": "code",
   "execution_count": null,
   "metadata": {},
   "outputs": [],
   "source": [
    "# %load notebook2/ex_10.py"
   ]
  },
  {
   "cell_type": "markdown",
   "metadata": {},
   "source": [
    "### 2.1.5 Creating manually a Series object"
   ]
  },
  {
   "cell_type": "code",
   "execution_count": null,
   "metadata": {},
   "outputs": [],
   "source": [
    "s = pd.Series([12, 25, 27, 32], name=\"age\")\n",
    "s"
   ]
  },
  {
   "cell_type": "markdown",
   "metadata": {},
   "source": [
    "## 2.2 DataFrame, 2-D objects\n",
    "\n",
    "A `DataFrame` object is a table of data as we encounter frequently in many information systems: CSV or TSV file, Excel sheet, R data.frame, table of a data base...\n",
    "\n",
    "Generally, a table is compound of a number of homogeneous records or rows. Each line represents a specific record and the columns stand for the features of each records.\n",
    "\n",
    "The objects that may be included in a `DataFrame` might be of any kind:\n",
    "- booleans: `bool`\n",
    "- integers: `int64`\n",
    "- floating number: `float64`\n",
    "- date objects: `datetime`, `timestamp`\n",
    "- strings and any objects: `object` (the more general object)\n",
    "\n",
    "\n",
    "*Nota bene*\n",
    "\n",
    "> **pandas** tries to use the most adapted type according to the data in each column\n",
    "> If the type of a column is `object`, it may contains other objects than strings.\n",
    "\n",
    "### 2.2.1 Common DataFrame attributes\n",
    "\n",
    "attribute|result\n",
    "-|-\n",
    "df.shape|dimensions of df\n",
    "df.size|number of elements of df\n",
    "df.values|values of df\n",
    "df.index|index of df\n",
    "df.index.is_unique|if index of df is unique\n",
    "df.columns|columns of df\n",
    "df.dtypes|types of columns of df\n",
    "df.empty|True if df is empty, False otherwise"
   ]
  },
  {
   "cell_type": "code",
   "execution_count": null,
   "metadata": {},
   "outputs": [],
   "source": [
    "# type of object df\n",
    "type(df)"
   ]
  },
  {
   "cell_type": "code",
   "execution_count": null,
   "metadata": {},
   "outputs": [],
   "source": [
    "# dimensions of df\n",
    "df.shape"
   ]
  },
  {
   "cell_type": "code",
   "execution_count": null,
   "metadata": {},
   "outputs": [],
   "source": [
    "# number of rows of df\n",
    "len(df)"
   ]
  },
  {
   "cell_type": "code",
   "execution_count": null,
   "metadata": {},
   "outputs": [],
   "source": [
    "# total number of elements of df\n",
    "df.size"
   ]
  },
  {
   "cell_type": "code",
   "execution_count": null,
   "metadata": {},
   "outputs": [],
   "source": [
    "# values of df\n",
    "# it is a 2-D numpy ndarray\n",
    "df.values"
   ]
  },
  {
   "cell_type": "code",
   "execution_count": null,
   "metadata": {},
   "outputs": [],
   "source": [
    "# first line of values of df\n",
    "# numpy accessor\n",
    "df.values[0]"
   ]
  },
  {
   "cell_type": "code",
   "execution_count": null,
   "metadata": {},
   "outputs": [],
   "source": [
    "# first column of values of df\n",
    "# numpy accessor\n",
    "df.values[:, 0]"
   ]
  },
  {
   "cell_type": "code",
   "execution_count": null,
   "metadata": {},
   "outputs": [],
   "source": [
    "# index of df\n",
    "df.index"
   ]
  },
  {
   "cell_type": "code",
   "execution_count": null,
   "metadata": {},
   "outputs": [],
   "source": [
    "# index of df is unique\n",
    "df.index.is_unique"
   ]
  },
  {
   "cell_type": "code",
   "execution_count": null,
   "metadata": {},
   "outputs": [],
   "source": [
    "# columns of df\n",
    "df.columns"
   ]
  },
  {
   "cell_type": "code",
   "execution_count": null,
   "metadata": {},
   "outputs": [],
   "source": [
    "# dtypes of columns of df\n",
    "df.dtypes"
   ]
  },
  {
   "cell_type": "markdown",
   "metadata": {},
   "source": [
    "### 2.2.2 Common DataFrame methods\n",
    "\n",
    "`DataFrame` objects have several common methods:\n",
    "\n",
    "method|result\n",
    "-|-\n",
    "df.head()|first rows of df\n",
    "df.tail()|last rows of df\n",
    "df.info()|information on df\n",
    "df.count()|number of non NA elements in each column\n",
    "df.nunique()|number of unique elements in each column\n",
    "df.transpose or df.T()|transposition of df\n",
    "\n",
    "The `DataFrame` class defines many attributes or methods in the `pandas` module. We will explore some of them."
   ]
  },
  {
   "cell_type": "code",
   "execution_count": null,
   "metadata": {},
   "outputs": [],
   "source": [
    "# first rows, by default 5\n",
    "df.head()"
   ]
  },
  {
   "cell_type": "code",
   "execution_count": null,
   "metadata": {},
   "outputs": [],
   "source": [
    "# last rows, by default 5\n",
    "df.tail()"
   ]
  },
  {
   "cell_type": "code",
   "execution_count": null,
   "metadata": {},
   "outputs": [],
   "source": [
    "# information on df\n",
    "df.info()"
   ]
  },
  {
   "cell_type": "code",
   "execution_count": null,
   "metadata": {},
   "outputs": [],
   "source": [
    "# count\n",
    "df.count()"
   ]
  },
  {
   "cell_type": "code",
   "execution_count": null,
   "metadata": {},
   "outputs": [],
   "source": [
    "# nunique\n",
    "df.nunique()"
   ]
  },
  {
   "cell_type": "code",
   "execution_count": null,
   "metadata": {},
   "outputs": [],
   "source": [
    "# transposition of df\n",
    "df_t = df.head(100).T # or df.head(100).transpose()\n",
    "df_t"
   ]
  },
  {
   "cell_type": "code",
   "execution_count": null,
   "metadata": {},
   "outputs": [],
   "source": [
    "# index of a transposed df is its columns\n",
    "df_t.index"
   ]
  },
  {
   "cell_type": "code",
   "execution_count": null,
   "metadata": {},
   "outputs": [],
   "source": [
    "# columns of a transposed df are its index\n",
    "df_t.columns"
   ]
  },
  {
   "cell_type": "code",
   "execution_count": null,
   "metadata": {},
   "outputs": [],
   "source": [
    "# first lines in a column\n",
    "df.head(3).T"
   ]
  },
  {
   "cell_type": "markdown",
   "metadata": {},
   "source": [
    "<div class=\"alert alert-info\">\n",
    "<h3><i class=\"fa fa-info-circle\"></i> Attribute notation for <code>DataFrame</code> columns</h3>\n",
    "<p>When the label of a column does not contains space, or other special characters, and does not overlap with a <code>DataFrame</code> object attribute or method, it is possible to use it as an attribute to get the column.</p>\n",
    "<p>For instance: <code>df.gender</code></p>\n",
    "<p>As it does not work systematically, we do not recommend using this notation. It is explained here, since it can be used in code found on the internet. in fact, this attribute notation is also used in <b>pandas</b> <i>method chaining</i></p>\n",
    "</div>"
   ]
  },
  {
   "cell_type": "code",
   "execution_count": null,
   "metadata": {},
   "outputs": [],
   "source": [
    "# column name as an attribute\n",
    "df.gender"
   ]
  },
  {
   "cell_type": "markdown",
   "metadata": {},
   "source": [
    "It is possible to modify the index of a `DataFrame` object by using the `set_index()` method with a column of the `DataFrame` object."
   ]
  },
  {
   "cell_type": "code",
   "execution_count": null,
   "metadata": {},
   "outputs": [],
   "source": [
    "# year 2023\n",
    "df2023"
   ]
  },
  {
   "cell_type": "code",
   "execution_count": null,
   "metadata": {},
   "outputs": [],
   "source": [
    "# the name column is used as an index\n",
    "name2023 = df2023.set_index(\"name\")\n",
    "name2023"
   ]
  },
  {
   "cell_type": "code",
   "execution_count": null,
   "metadata": {},
   "outputs": [],
   "source": [
    "# accessing to a column\n",
    "name2023[\"births\"]"
   ]
  },
  {
   "cell_type": "code",
   "execution_count": null,
   "metadata": {},
   "outputs": [],
   "source": [
    "# index of min\n",
    "name2023[\"births\"].idxmin()"
   ]
  },
  {
   "cell_type": "code",
   "execution_count": null,
   "metadata": {},
   "outputs": [],
   "source": [
    "# index of max\n",
    "name2023[\"births\"].idxmax()"
   ]
  },
  {
   "cell_type": "code",
   "execution_count": null,
   "metadata": {},
   "outputs": [],
   "source": [
    "# index of the new DataFrame object\n",
    "name2023.index"
   ]
  },
  {
   "cell_type": "code",
   "execution_count": null,
   "metadata": {},
   "outputs": [],
   "source": [
    "# name of the index of the new DataFrame object\n",
    "name2023.index.name"
   ]
  },
  {
   "cell_type": "code",
   "execution_count": null,
   "metadata": {},
   "outputs": [],
   "source": [
    "# the index of the new DataFrame object is not unique\n",
    "name2023.index.is_unique"
   ]
  },
  {
   "cell_type": "markdown",
   "metadata": {},
   "source": [
    "<div class=\"alert alert-success\">\n",
    "<h3><i class=\"fa fa-edit\"></i> Exercise 11 &starf;</h3>\n",
    "<ul>\n",
    "    <li>Why is the index not unique?</li>\n",
    "    <li>Limit the <code>name2023</code> DataFrame object to the first 17,532 rows and check that the index is unique.</li>\n",
    "    <li>If it returns <code>False</code> (<b>pandas</b> bug), compare <code>len(set(name2023.index))</code> with <code>len(name2023.index)</code>.</li>\n",
    "</ul>\n",
    "</div>"
   ]
  },
  {
   "cell_type": "code",
   "execution_count": null,
   "metadata": {},
   "outputs": [],
   "source": [
    "# %load notebook2/ex_11.py"
   ]
  },
  {
   "cell_type": "markdown",
   "metadata": {},
   "source": [
    "### 2.2.3 Vectorial operations with DataFrame\n",
    "\n",
    "Usual statistical functions available for `Series` objects are also available for `DataFrame` objects: e.g., `sum()`, `min()`, `max()`, `mean()`, `median()`, `std()`, `var()`, `cumsum()`, `cumprod()`, `cummin()`, `cummax()`, `idxmin()`, `idxmax()`.\n",
    "\n",
    "- `f(axis=0)` invokes a function `f` to each <b>column</b> of a `DataFrame` object and returns a <b>row-like</b> result.\n",
    "- `f(axis=1)` invokes a function `f` to each <b>row</b> of a `DataFrame` object and returns a <b>column-like</b> result."
   ]
  },
  {
   "cell_type": "code",
   "execution_count": null,
   "metadata": {},
   "outputs": [],
   "source": [
    "# max of columns\n",
    "name2023.max()"
   ]
  },
  {
   "cell_type": "markdown",
   "metadata": {},
   "source": [
    "### 2.2.4 Creating manually a DataFrame object"
   ]
  },
  {
   "cell_type": "code",
   "execution_count": null,
   "metadata": {},
   "outputs": [],
   "source": [
    "# dict of lists\n",
    "\n",
    "df2 = pd.DataFrame({\"name\": [\"Emma\", \"Lucas\", \"Noah\", \"Olivia\"],\n",
    "                   \"age\": [12, 25, 27, 32]})\n",
    "df2"
   ]
  },
  {
   "cell_type": "code",
   "execution_count": null,
   "metadata": {},
   "outputs": [],
   "source": [
    "# list of dicts\n",
    "\n",
    "df2 = pd.DataFrame([{\"name\": \"Emma\", \"age\": 12},\n",
    "                   {\"name\": \"Lucas\", \"age\": 25},\n",
    "                   {\"name\": \"Noah\", \"age\": 27},\n",
    "                   {\"name\": \"Olivia\", \"age\": 32}])\n",
    "df2"
   ]
  },
  {
   "cell_type": "markdown",
   "metadata": {},
   "source": [
    "# 3. Accessing to data\n",
    "\n",
    "Observation about the vocabulary:\n",
    "- Objects of type `Series` and `DataFrame` have index which might be integer (by default) or more generally labels such as strings. When the index is unique, these objects behave like a dictionary which is accessed with a key.\n",
    "- These objects are also based on `numpy.ndarray` vectors or tables which can be accessed by position, i.e. by an integer (starting at 0). Therefore these objects may also behave like an ordered sequence of 1 or 2 dimensions which is accessed with a position.\n",
    "\n",
    "The notation used for ordered sequences in `Python`, and `ndarray` in `numpy`, has been re-used for index of `Series` and `DataFrame`,with a slightly difference:\n",
    "- When 2 labels are indicated, the second label is included in the selection, contrary to standard Python and **numpy** slicing.\n",
    "- When 2 labels are indicated, the notation works only if the index is unique."
   ]
  },
  {
   "cell_type": "markdown",
   "metadata": {},
   "source": [
    "## 3.1 Accessing to data from Series\n",
    "\n",
    "Several operators enable to access to data from Series.\n",
    "- `.loc[]`: selection with a label\n",
    "    - `s.loc[i]`: selection of a single label\n",
    "    - `s.loc[[i, j, k]]`: selection of several labels (also called *fancy indexing*)\n",
    "    - `s.loc[i:j]`, `s[i:j:k]`: selection of a slice (warning `j` is included)\n",
    "    - `s.loc[mask]`: selection from a boolean mask sharing the very same index than the `Series` object, `True` = selection, `False` = non selection\n",
    "- `.iloc[]`: same but reserved to positions (&#9888; for slices like `[i:j]`, `j` is excluded)\n",
    "\n",
    "When the selection corresponds to a single value, it returns a scalar value.\n",
    "\n",
    "When the selection corresponds to several values, it returns a `Series` object.\n",
    "\n",
    "To access to a single value, one can also use:\n",
    "- `.at[]` access to a single value, for index,\n",
    "- `.iat[]` idem, for positions."
   ]
  },
  {
   "cell_type": "code",
   "execution_count": null,
   "metadata": {},
   "outputs": [],
   "source": [
    "# selection of a column\n",
    "s = name2023[\"births\"]\n",
    "s"
   ]
  },
  {
   "cell_type": "markdown",
   "metadata": {},
   "source": [
    "### 3.1.1 Selection in Series by label or position"
   ]
  },
  {
   "cell_type": "code",
   "execution_count": null,
   "metadata": {},
   "outputs": [],
   "source": [
    "# selection by label\n",
    "s.loc[\"Olivia\"]"
   ]
  },
  {
   "cell_type": "code",
   "execution_count": null,
   "metadata": {},
   "outputs": [],
   "source": [
    "# selection by position\n",
    "s.iloc[0]"
   ]
  },
  {
   "cell_type": "code",
   "execution_count": null,
   "metadata": {},
   "outputs": [],
   "source": [
    "# selection by a list of labels\n",
    "s.loc[[\"Olivia\", \"Sophia\", \"Mia\"]]"
   ]
  },
  {
   "cell_type": "code",
   "execution_count": null,
   "metadata": {},
   "outputs": [],
   "source": [
    "# selection by a list of positions\n",
    "s.iloc[[0, 4, 7]]"
   ]
  },
  {
   "cell_type": "code",
   "execution_count": null,
   "metadata": {},
   "outputs": [],
   "source": [
    "# selection by a slice of index\n",
    "# Warning label \"Mia\" is included\n",
    "s.loc[\"Olivia\":\"Mia\"]"
   ]
  },
  {
   "cell_type": "code",
   "execution_count": null,
   "metadata": {},
   "outputs": [],
   "source": [
    "# selection by a slice of positions\n",
    "# Warning position 6 is excluded\n",
    "s.iloc[0:8]"
   ]
  },
  {
   "cell_type": "markdown",
   "metadata": {},
   "source": [
    "### 3.1.2 Selection in Series with a boolean mask\n",
    "\n",
    "It is possible to perform a selection in `Series` object with a boolean mask, i.e. a boolean Series objects sharing the same index than the initial `Series`.\n",
    "\n",
    "The easiest way is to build a boolean `Series` object from the `Series` object itself.\n",
    "\n",
    "It is possible to combine boolean masks using logicial operations between boolean objects of type `Series`:\n",
    "\n",
    "- AND is `&`\n",
    "- OR is `|`\n",
    "- NOT is `~`"
   ]
  },
  {
   "cell_type": "code",
   "execution_count": null,
   "metadata": {},
   "outputs": [],
   "source": [
    "# all names\n",
    "s = df[\"name\"]\n",
    "s"
   ]
  },
  {
   "cell_type": "code",
   "execution_count": null,
   "metadata": {},
   "outputs": [],
   "source": [
    "# boolean vector according if the name starts with an \"A\"\n",
    "mask = s.str.startswith(\"A\")\n",
    "mask"
   ]
  },
  {
   "cell_type": "code",
   "execution_count": null,
   "metadata": {},
   "outputs": [],
   "source": [
    "# selection from a boolean mask\n",
    "s2 = s.loc[mask]  # or s[mask]\n",
    "s2"
   ]
  },
  {
   "cell_type": "code",
   "execution_count": null,
   "metadata": {},
   "outputs": [],
   "source": [
    "# names starting with \"Nath\"\n",
    "s.loc[s.str.startswith(\"Nath\")]"
   ]
  },
  {
   "cell_type": "markdown",
   "metadata": {},
   "source": [
    "<div class=\"alert alert-warning\" role=\"alert\">\n",
    "    <h3><i class=\"fa fa-question-circle\"></i> Online question</h3>\n",
    "    <ul>\n",
    "        <li>Try the selection with other name prefixes: e.g., Chris, Fran, Isa, Rob, Sam.</li>\n",
    "    </ul>\n",
    "</div>"
   ]
  },
  {
   "cell_type": "markdown",
   "metadata": {},
   "source": [
    "<div class=\"alert alert-success\">\n",
    "<h3><i class=\"fa fa-edit\"></i> Exercise 12 &starf;&starf;</h3>\n",
    "<ul>\n",
    "<li>Which names start with a \"Z\"?</li>\n",
    "<li>Which names end with a \"z\"?</li>\n",
    "<li>Which names start with a \"Z\" or end with a \"z\"?</li>\n",
    "<li>Which names start with a \"Z\" and end with a \"z\"?</li>\n",
    "</ul>\n",
    "</div>"
   ]
  },
  {
   "cell_type": "code",
   "execution_count": null,
   "metadata": {},
   "outputs": [],
   "source": [
    "# %load notebook2/ex_12.py"
   ]
  },
  {
   "cell_type": "code",
   "execution_count": null,
   "metadata": {},
   "outputs": [],
   "source": [
    "# names that contain 2 \"z\" separated by at least one character\n",
    "s.loc[s.str.contains(\"z.+z\")].unique()"
   ]
  },
  {
   "cell_type": "markdown",
   "metadata": {},
   "source": [
    "<div class=\"alert alert-info\">\n",
    "    <h3><i class=\"fa fa-info-circle\"></i> Tips</h3>\n",
    "    <p>Regular expressions, or regex, enable to capture paterns in strings. In this kind of expressions, some characters have a special meaning to perform matching:</p>\n",
    "    <ul>\n",
    "        <li><code>.</code>: matches any character</li>\n",
    "        <li><code>*</code>: matches 0 or more repetitions of the preceding expression</li>\n",
    "        <li><code>+</code>: matches 1 or more repetitions of the preceding expression</li>\n",
    "        <li><code>?</code>: matches 0 or 1 repetition of the preceding expression</li>\n",
    "        <li><code>^</code>: matches the start of the string</li>\n",
    "        <li><code>$</code>: matches the end of the string</li>\n",
    "        <li>Prefix any of those special characters with a backslash <code>\\</code> so that they are considered as standard characters</li>\n",
    "    </ul>\n",
    "    <p>The string method  <code>contains()</code> tackles by default with regular expressions. Use the <code>regex=False</code> option to search for literals.</p>\n",
    "</div>"
   ]
  },
  {
   "cell_type": "markdown",
   "metadata": {},
   "source": [
    "<div class=\"alert alert-warning\" role=\"alert\">\n",
    "    <h3><i class=\"fa fa-question-circle\"></i> Online question  &starf; &starf;</h3>\n",
    "    <P>Try the selection with 2 following z, with 2 z seperated by exactly 1 letter, with 2 z separated by any number of letters (possibly 0).</P>\n",
    "</div>"
   ]
  },
  {
   "cell_type": "markdown",
   "metadata": {},
   "source": [
    "<div class=\"alert alert-warning\">\n",
    "<h3><i class=\"fa fa-book\"></i> Further reading</h3>\n",
    "<ul>\n",
    "    <li>Regular expressions are useful when dealing with textual information.</li>\n",
    "    <li>For more information on regular expressions in Python, see: <a href='https://docs.python.org/3/library/re.html'>re — Regular expression operations</a></li>\n",
    "</ul>\n",
    "</div>"
   ]
  },
  {
   "cell_type": "markdown",
   "metadata": {},
   "source": [
    "## 3.2 Accessing to data from DataFrame\n",
    "\n",
    "Same operators enable to access to data from `DataFrame`.\n",
    "- `[]`: selection of column(s)\n",
    "    - `df[c]`: selection of a single column by label\n",
    "    - `df[[c, d, e]]`: selection of several columns by labels (*fancy indexing*)\n",
    "- `.loc[row_indexor, column_indexor]`: selection of rows and columns by index, when `column_indexor` is not defined all columns are returned\n",
    "    - The `row_indexor` can be:\n",
    "        - `i`: selection of a single line by index\n",
    "        - `[i, j, k]`: selection of several lines by index (also called *fancy indexing*)\n",
    "        - `i:j`: selection of a slice of index (warning, j is included)\n",
    "        - `mask`: selection with a boolean mask\n",
    "    - The `column_indexor` can be:\n",
    "        - `c`: selection of a single column by label\n",
    "        - `[c, d, e]`: selection of several columns by labels (also called *fancy indexing*)\n",
    "        - `c:d`: selection of a slice of columns by labels (warning, d is included)\n",
    "- `.iloc[row_indexor, column_indexor]`: same but reserved to positions (&#9888; for slices like `[i:j]`, `j` is excluded)\n",
    "\n",
    "When the selection corresponds to a single value, it returns a scalar value.\n",
    "\n",
    "When the selection corresponds to a part of column or of a row, it returns a `Series` object. When it is a subpart of a column, its index is a subpart of the index of the initial `DataFrame`. When it is a subpart of a row, its index is a subpart of the columns of the initial `DataFrame`.\n",
    "\n",
    "When the selection corresponds to several rows and several columns, it returns a `DataFrame` object, which index is is a subpart of the index of the initial `DataFrame` and the columns a subpart of the columns of the initial `DataFrame`.\n",
    "\n",
    "To access to a single value, one can also use:\n",
    "- `.at[x, y]` access to a single value, for index,\n",
    "- `.iat[x, y]` idem, for positions."
   ]
  },
  {
   "cell_type": "markdown",
   "metadata": {},
   "source": [
    "### 3.2.1 Selecting columns in DataFrame\n",
    "\n",
    "When selecting a single column, we obtain a `Series` object which shares the same index than the `DataFrame`.\n",
    "\n",
    "When selecting several columns, we obtain a new `DataFrame`: subset of the original one and sharing the same index with as many rows.\n",
    "\n",
    "This last technique enables also to reorder the columns of a `DataFrame`."
   ]
  },
  {
   "cell_type": "code",
   "execution_count": null,
   "metadata": {},
   "outputs": [],
   "source": [
    "# selection of columns by labels\n",
    "df[[\"name\", \"gender\"]]"
   ]
  },
  {
   "cell_type": "markdown",
   "metadata": {},
   "source": [
    "**With the `.loc[]` operator**\n",
    "- the first argument selects rows; to select all rows one can put a column `:`\n",
    "- the second argument selects columns (optionnal)"
   ]
  },
  {
   "cell_type": "code",
   "execution_count": null,
   "metadata": {},
   "outputs": [],
   "source": [
    "# selection of columns by labels using .loc\n",
    "# the : alone stands for all rows from start to end\n",
    "df.loc[:, [\"name\", \"gender\"]]"
   ]
  },
  {
   "cell_type": "markdown",
   "metadata": {},
   "source": [
    "**With the `.iloc[]` operator**\n",
    "- the first argument selects rows; to select all rows one can put a column `:`\n",
    "- the second argument selects columns (optionnal)"
   ]
  },
  {
   "cell_type": "code",
   "execution_count": null,
   "metadata": {},
   "outputs": [],
   "source": [
    "# selection of columns by slice of positions using .iloc\n",
    "# the : alone stands for all rows from start to end\n",
    "df.iloc[:, 1:3]"
   ]
  },
  {
   "cell_type": "markdown",
   "metadata": {},
   "source": [
    "### 3.2.2 Selecting rows in DataFrame\n",
    "\n",
    "When selecting a single row, we obtain a `Series` object which index corresponds to the columns of the `DataFrame`.\n",
    "\n",
    "When selecting several rows, we obtain a new `DataFrame`: subset of the original one and sharing the index with as many columns.\n",
    "\n",
    "**With the `.loc[]` operator**"
   ]
  },
  {
   "cell_type": "code",
   "execution_count": null,
   "metadata": {},
   "outputs": [],
   "source": [
    "# selection of a row\n",
    "row = name2023.loc[\"Emma\"]\n",
    "row"
   ]
  },
  {
   "cell_type": "code",
   "execution_count": null,
   "metadata": {},
   "outputs": [],
   "source": [
    "# row is indeed a Series object\n",
    "type(row)"
   ]
  },
  {
   "cell_type": "code",
   "execution_count": null,
   "metadata": {},
   "outputs": [],
   "source": [
    "# test equality of DataFrame columns and row index\n",
    "(name2023.columns == row.index).all()"
   ]
  },
  {
   "cell_type": "code",
   "execution_count": null,
   "metadata": {},
   "outputs": [],
   "source": [
    "# selection of several rows\n",
    "name2023.loc[\"Olivia\":\"Isabella\"]"
   ]
  },
  {
   "cell_type": "markdown",
   "metadata": {},
   "source": [
    "**With the `.iloc[]` operator**"
   ]
  },
  {
   "cell_type": "code",
   "execution_count": null,
   "metadata": {},
   "outputs": [],
   "source": [
    "# selection of the last row\n",
    "row = name2023.iloc[-1]\n",
    "row"
   ]
  },
  {
   "cell_type": "markdown",
   "metadata": {},
   "source": [
    "### 3.2.3 Selecting rows and columns in DataFrame\n",
    "\n",
    "When selecting a single row, we obtain a `Series` object which index is a subset of the columns of the `DataFrame` object.\n",
    "\n",
    "When selecting several rows, we obtain a new `DataFrame`: subset of the original one.\n",
    "\n",
    "**With the `.loc[]` operator**"
   ]
  },
  {
   "cell_type": "code",
   "execution_count": null,
   "metadata": {},
   "outputs": [],
   "source": [
    "# selection of a single row and several columns\n",
    "name2023.loc[\"Olivia\", \"gender\":\"births\"]"
   ]
  },
  {
   "cell_type": "code",
   "execution_count": null,
   "metadata": {},
   "outputs": [],
   "source": [
    "# selection of several rows and columns\n",
    "name2023.loc[\"Olivia\":\"Isabella\", \"gender\":\"births\"]"
   ]
  },
  {
   "cell_type": "markdown",
   "metadata": {},
   "source": [
    "**With the `.iloc[]` operator**"
   ]
  },
  {
   "cell_type": "code",
   "execution_count": null,
   "metadata": {},
   "outputs": [],
   "source": [
    "# selection of several rows and columns\n",
    "df.iloc[[0, -1], 1:3]"
   ]
  },
  {
   "cell_type": "markdown",
   "metadata": {},
   "source": [
    "**Selection when the index is not unique**"
   ]
  },
  {
   "cell_type": "code",
   "execution_count": null,
   "metadata": {},
   "outputs": [],
   "source": [
    "name = df.set_index(\"name\")\n",
    "name"
   ]
  },
  {
   "cell_type": "code",
   "execution_count": null,
   "metadata": {},
   "outputs": [],
   "source": [
    "# selection of a single index\n",
    "name.loc[\"Olivia\"]"
   ]
  },
  {
   "cell_type": "code",
   "execution_count": null,
   "metadata": {},
   "outputs": [],
   "source": [
    "# index is not unique\n",
    "name.index.is_unique"
   ]
  },
  {
   "cell_type": "code",
   "execution_count": null,
   "metadata": {},
   "outputs": [],
   "source": [
    "# selection of a several index\n",
    "# multiple selection when the index is not unique does not work\n",
    "name.loc[\"Olivia\":\"Mia\"]"
   ]
  },
  {
   "cell_type": "markdown",
   "metadata": {},
   "source": [
    "### 3.2.4 Selection in DataFrame with a boolean mask\n",
    "\n",
    "It is possible to select in `DataFrame` object with a boolean mask sharing the same index than the `DataFrame`.\n",
    "\n",
    "The easiest way is to build a boolean `Series` object from one or several columns of the initial `DataFrame` object.\n",
    "\n",
    "It is possible to combine boolean masks using logicial operations between boolean objects of type `Series`:\n",
    "\n",
    "- AND is `&`\n",
    "- OR is `|`\n",
    "- NOT is `~`"
   ]
  },
  {
   "cell_type": "code",
   "execution_count": null,
   "metadata": {},
   "outputs": [],
   "source": [
    "# selection with name equals Emma\n",
    "mask = (df[\"name\"] == \"Emma\")\n",
    "mask"
   ]
  },
  {
   "cell_type": "code",
   "execution_count": null,
   "metadata": {},
   "outputs": [],
   "source": [
    "# selection with name equals Emma\n",
    "df.loc[mask]"
   ]
  },
  {
   "cell_type": "code",
   "execution_count": null,
   "metadata": {},
   "outputs": [],
   "source": [
    "# names used at least 1000 times in a year\n",
    "df.loc[df[\"births\"] >= 1000]"
   ]
  },
  {
   "cell_type": "code",
   "execution_count": null,
   "metadata": {},
   "outputs": [],
   "source": [
    "# female names used at least 1000 times in a year\n",
    "df.loc[(df[\"gender\"] == \"F\") & (df[\"births\"] >= 1000)]"
   ]
  },
  {
   "cell_type": "markdown",
   "metadata": {},
   "source": [
    "<div class=\"alert alert-success\">\n",
    "<h3><i class=\"fa fa-edit\"></i> Exercise 13 &starf;&starf;&starf;</h3>\n",
    "<ul>\n",
    "    <li>Print years, names and births of all names with only 2 letters.</li>\n",
    "    <li>How many names do we have?</li>\n",
    "    <li>Give the list of such names in alphabetical order.</li>\n",
    "    <li>How many births of persons with names with only 2 letters?</li>\n",
    "    <li>How many years where the number of births for a name is exactly 1000?</li>\n",
    "    <li>Are there any years for which the number of births for a name is equal to the year?.</li>\n",
    "    <li>Give the list of such names in alphabetical order.</li>\n",
    "    <li>Tips: for those exercises find the condition part of the question and implement it as a <code>row_indexor</code>, then find the output part and implement it as a <code>column_indexor</code>, plus possibly an aggregation function.\n",
    "</ul>\n",
    "</div>"
   ]
  },
  {
   "cell_type": "markdown",
   "metadata": {},
   "source": [
    "<div class=\"alert alert-info\">\n",
    "    <h3><i class=\"fa fa-info-circle\"></i> Tips</h3>\n",
    "    <ul>\n",
    "    <li>In a statement of the type <code>df.loc[row_indexer, column_indexer]</code></li>\n",
    "    <ul>\n",
    "    <li>Conditions for selectng rows are performed through the <code>row_indexer</code>: logical expression</li>\n",
    "    <li>Output variables are identified through the <code>column_indexer</code>: single label or list of labels</li>\n",
    "    </ul>\n",
    "    <li>An aggregation method can be applyied on the result: <code>df.loc[row_indexer, column].aggfunc()</code></li>\n",
    "    <ul>\n",
    "    <li>Often <code>column_indexer</code> is the name of a single column, here <code>column</code></li>\n",
    "    <li>The result is a <code>Series</code> object on which an aggregation method is applyied, here <code>aggfunc()</code></li>\n",
    "    </ul>\n",
    "    </ul>\n",
    "</div>"
   ]
  },
  {
   "cell_type": "code",
   "execution_count": null,
   "metadata": {},
   "outputs": [],
   "source": [
    "# %load notebook2/ex_13.py"
   ]
  },
  {
   "cell_type": "markdown",
   "metadata": {},
   "source": [
    "## 3.3 Testing data\n",
    "\n",
    "The SSA web site explains:\n",
    "- To safeguard privacy, we restrict our list of names to those with at least 5 occurrences.\n",
    "- Name is 2 to 15 characters\n",
    "\n",
    "We will check these points."
   ]
  },
  {
   "cell_type": "markdown",
   "metadata": {},
   "source": [
    "<div class=\"alert alert-success\">\n",
    "<h3><i class=\"fa fa-edit\"></i> Exercise 14 &starf;</h3>\n",
    "    <p>Using logical operator:</p>\n",
    "<ul>\n",
    "    <li>Check that all births are at least 5</li>\n",
    "    <li>Check that all names have betwen 2 and 15 characters</li>\n",
    "</ul>\n",
    "</div>"
   ]
  },
  {
   "cell_type": "code",
   "execution_count": null,
   "metadata": {},
   "outputs": [],
   "source": [
    "# %load notebook2/ex_14.py"
   ]
  },
  {
   "cell_type": "markdown",
   "metadata": {},
   "source": [
    "## 3.4 Extra exercises"
   ]
  },
  {
   "cell_type": "markdown",
   "metadata": {},
   "source": [
    "<div class=\"alert alert-success\">\n",
    "<h3><i class=\"fa fa-edit\"></i> Exercise 15 &starf;&starf;</h3>\n",
    "<ul>\n",
    "    <li>Select births which are over 5000</li>\n",
    "    <li>Which years are multiple of 10?</li>\n",
    "    <li>Which names start with \"Y\" and ends with \"y\"?</li>\n",
    "    <li>How many names start with \"X\" and do not end with \"a\"?</li>\n",
    "    <li>Which names contain all vowels in the alphabetical order (a, e, i, o, u)? Tips: use a regular expression.</li>\n",
    "</ul>\n",
    "</div>"
   ]
  },
  {
   "cell_type": "code",
   "execution_count": null,
   "metadata": {},
   "outputs": [],
   "source": [
    "# %load notebook2/ex_15.py"
   ]
  },
  {
   "cell_type": "markdown",
   "metadata": {},
   "source": [
    "# Summary\n",
    "\n",
    "The **pandas** module is an open source library providing high-performance, easy-to-use data structures and data analysis tools for the Python programming language.\n",
    "\n",
    "It introduces 1-dimensional `Series` objects and 2-dimentional `DataFrame` objects to manipulate data.\n",
    "\n",
    "`Series` objects offer dictionary-like along the index and vector-like accessing to data. They might contains booleans, numbers, time objects and strings and provide appropriate operators according to their type of data.\n",
    "\n",
    "`DataFrame` objects offer dictionary-like along the index and the columns and also matrix-like accessing to data.\n",
    "\n",
    "The `.loc[]` operator enables to select data using labels or boolean operations.\n",
    "\n",
    "The `.iloc[]` operator enables to select data using positions."
   ]
  }
 ],
 "metadata": {
  "kernelspec": {
   "display_name": "Python 3 (ipykernel)",
   "language": "python",
   "name": "python3"
  },
  "language_info": {
   "codemirror_mode": {
    "name": "ipython",
    "version": 3
   },
   "file_extension": ".py",
   "mimetype": "text/x-python",
   "name": "python",
   "nbconvert_exporter": "python",
   "pygments_lexer": "ipython3",
   "version": "3.10.9"
  }
 },
 "nbformat": 4,
 "nbformat_minor": 4
}
