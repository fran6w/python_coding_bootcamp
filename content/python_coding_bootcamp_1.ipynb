{
 "cells": [
  {
   "cell_type": "markdown",
   "metadata": {},
   "source": [
    "# Python coding bootcamp - Notebook 1\n",
    "\n",
    "![Python](images/Python-Logo.png)\n",
    "\n",
    "# Setup\n",
    "\n",
    "# Quick tour of Python\n",
    "\n",
    "0. Jupyter Notebook\n",
    "1. Key Concepts of the Python Language\n",
    "2. Built-in Data Types\n",
    "3. Control Flow Statements\n",
    "4. Input and output\n",
    "5. Functions\n",
    "6. Classes and instances\n",
    "7. Modules\n",
    "8. Glimpse of the standard library\n",
    "\n",
    "&#169; 2024 Francis WOLINSKI"
   ]
  },
  {
   "cell_type": "markdown",
   "metadata": {
    "tags": []
   },
   "source": [
    "### How to use Jupyter and Python?\n",
    "\n",
    "- You can use the **JupyterLite** version of this course: https://fran6w.github.io/python_coding_bootcamp.\n",
    "- You can also connect to **Google Colab**: https://colab.research.google.com/ upload the notebook, and you need to connect your **Google Drive** to read the data, see below.\n",
    "- You can also use your own Python distribution (from e.g., **Python** https://www.python.org/ , **Anaconda** https://www.anaconda.com/ ) and the **jupyterlab** module, but you might have to install by yourself the necessary packages.\n",
    "\n",
    "We will use Python 3, version 3.10+."
   ]
  },
  {
   "cell_type": "markdown",
   "metadata": {},
   "source": [
    "<h4><i class=\"fa fa-google\"></i>  Tips for Google Colab</h4>\n",
    "\n",
    "For **Google Colab**, you will need to connect to your **Google Drive**:\n",
    "\n",
    "```python\n",
    "# connect to Google Drive\n",
    "from google.colab import drive\n",
    "drive.mount('/content/drive')\n",
    "```\n",
    "And then, upload the data to **Google Drive**, e.g. if you upload a file named \"file.txt\" in a folder named \"data\", then you can access to it from **Google Colab**:\n",
    "\n",
    "```python\n",
    "# access to the file \"file.txt\" uploaded in a folder named \"data\" from Google Drive\n",
    "open(\"drive/data/file.txt\")\n",
    "```\n",
    "\n",
    "&#9888; This means that in the prepared notebooks, you will need to add the string <code>\"drive/\"</code> in front of all file or folder references."
   ]
  },
  {
   "cell_type": "markdown",
   "metadata": {},
   "source": [
    "<div class=\"alert alert-danger\">\n",
    "    <h3><i class=\"fa fa-plus-square\"></i>  PART 1</h3>\n",
    "</div>"
   ]
  },
  {
   "cell_type": "markdown",
   "metadata": {},
   "source": [
    "# 0. Jupyter Notebook\n",
    "\n",
    "Jupyter standed initially for **Julia**, **Python** and **R** languages, the first 3 languages which supported this IDE (Interactive Development Environment).\n",
    "\n",
    "Jupyter notebook is a multimedia rich interactive coding environment with an application menu.\n",
    "\n",
    "Jupyter notebook can run in a standard web browser (locally on your laptop or in the cloud with for instance Google Colab), and also in desktop applications such as JupyterLab Desktop.\n",
    "\n",
    "Jupyter notebooks are made up of cells of 2 types:\n",
    "- **Markdown** cells with rich text\n",
    "- Code cells for **Python** (and other languages) with rich output when executed."
   ]
  },
  {
   "cell_type": "markdown",
   "metadata": {},
   "source": [
    "### This is a Markdown cell\n",
    "\n",
    "- It can display rich text\n",
    "    - in *italics*\n",
    "    - or **bold**\n",
    "- also HTML code\n",
    "    - such as colorized texts <span style=\"color:#E85245;font-weight:bold\">SKEMA</span>\n",
    "    - and entity elements &#128151;\n",
    "- as well as multimedia\n",
    "    - images\n",
    "    - graphics\n",
    "    - videos\n",
    "- and also mathematical formula with $\\LaTeX$\n",
    "    - such as $(a + b)^2 = a^2 + 2ab + b^2$\n",
    "    - or again $\\displaystyle \\sum_{n=1}^{+\\infty} \\frac{1}{2^{n}} = 1$"
   ]
  },
  {
   "cell_type": "markdown",
   "metadata": {},
   "source": [
    "### Below, this is a Python code cell"
   ]
  },
  {
   "cell_type": "code",
   "execution_count": null,
   "metadata": {
    "tags": []
   },
   "outputs": [],
   "source": [
    "# this is a Python code cell\n",
    "# it can display Python code\n",
    "# also execute the code\n",
    "# and display the output when executed\n",
    "\n",
    "from math import factorial\n",
    "\n",
    "n = 100\n",
    "print(f\"{n}! = {factorial(n)}\")"
   ]
  },
  {
   "cell_type": "code",
   "execution_count": null,
   "metadata": {
    "tags": []
   },
   "outputs": [],
   "source": [
    "from IPython.display import YouTubeVideo\n",
    "\n",
    "YouTubeVideo('inN8seMm7UI', width=800, height=600)"
   ]
  },
  {
   "cell_type": "markdown",
   "metadata": {},
   "source": [
    "<div class=\"alert alert-warning\">\n",
    "    <h3><i class=\"fa fa-book\"></i> Further reading</h3>\n",
    "    <ul>\n",
    "        <li><a href=\"https://www.markdownguide.org/\">The Markdown Guide</a></li>\n",
    "        <li><a href=\"https://www.datacamp.com/tutorial/tutorial-jupyter-notebook\">The Jupyter Notebook</a></li>\n",
    "        <li><a href=\"https://www.datacamp.com/tutorial/tutorial-google-colab-for-data-scientists\">Google Colab Tutorial for Data Scientists</a></li>\n",
    "        <li><a href=\"https://docs.jupyter.org/en/latest/\">The Jupyter Project</a></li>\n",
    "        <li><a href=\"https://jupyterlab.readthedocs.io/en/latest/\">JupyterLab Documentation</a></li>\n",
    "    </ul>\n",
    "</div>"
   ]
  },
  {
   "cell_type": "markdown",
   "metadata": {},
   "source": [
    "# 1. Key Concepts of the Python Language\n",
    "\n",
    "## 1.1 Interpreter\n",
    "\n",
    "Python is an interpreted language. Statements are processed by the interpreter line by line.\n",
    "\n",
    "When an expression is valid, it is evaluated and a result is printed.\n",
    "\n",
    "Python is case sensitive. The interpreter distinguishes identifiers (see below) with different cases, e.g., `abc`, `ABC`, `Abc`.\n",
    "\n",
    "In the code, comments are materialized by a hash `#`. All characters placed on the right of a hash are not interpreted, unless the hash is within a string literal (see below). The language does not support multi-lines comments."
   ]
  },
  {
   "cell_type": "markdown",
   "metadata": {},
   "source": [
    "<div class=\"alert alert-warning\" role=\"alert\">\n",
    "    <h3><i class=\"fa fa-question-circle\"></i> Question &starf;</h3>\n",
    "    <p>How many different Python identifiers is it possible to make with the 4 letters <code>abcd</code> in the same order, with lower or upper cases?</p>\n",
    "</div>"
   ]
  },
  {
   "cell_type": "markdown",
   "metadata": {},
   "source": [
    "## 1.2 Built-in Data Types\n",
    "\n",
    "The Python language defines built-in elementary types, such as *booleans*, *integers*, *floats*, and also built-in data structure objects, such as *lists*, *tuples*, *strings*, *dictionaries*, *sets*, which intend to represent collections of objects.\n",
    "\n",
    "A built-in object might be represented with a literal, i.e. as a sequence of characters which is directly recognized by the interpreter.\n",
    "\n",
    "Objects can also be represented by an identifier, i.e. as a sequence of characters which refers to an object after being assigned to it and considered as a variable. Assignment of a variable is performed by using the equal character `=`.  Multiple assignments are also supported by using coma `,` between variables and values.\n",
    "\n",
    "Python is a dynamically typed language: a variable can be successively assigned to objects of different types. Moreover, data structure objects can contain objects of different types.\n",
    "\n",
    "Circa 30 identifiers are reserved keywords in Python. They cannot be used for naming variables, functions or classes (see below)."
   ]
  },
  {
   "cell_type": "markdown",
   "metadata": {},
   "source": [
    "## 1.3 Control Flow Statements\n",
    "\n",
    "The Python language defines some control flow statements, such as conditional or loop, which enable to manage precisely the execution of code."
   ]
  },
  {
   "cell_type": "markdown",
   "metadata": {},
   "source": [
    "## 1.4 Functions\n",
    "\n",
    "The Python language also defines built-in functions. A function is a block of code which only runs when it is called.\n",
    "\n",
    "A function might define some arguments which have to be passed to it when the call is performed. The language offers a variety of kinds of argument (positionnal, keyword, default value, variable-length) which empower the definition of functions.\n",
    "\n",
    "The language enables to implement user-defined functions: either named functions or lambda."
   ]
  },
  {
   "cell_type": "markdown",
   "metadata": {},
   "source": [
    "## 1.5 Classes and Instances\n",
    "\n",
    "In Python, any object is an instance of some class (or type).\n",
    "\n",
    "The class defines the structure of its instances (i.e. their attributes or instance variables, which can refer to any object) and their behavior (i.e. some methods i.e. kind of functions). Access to the instance variables or execution of methods is performed by using the attribute notation materialized by a dot `.`.\n",
    "\n",
    "Built-in types are implemented as classes. The language enables to implement user-defined classes.\n",
    "\n",
    "Python manages class inheritance where a class may benefit from the structure and behavior defined by its superclass and to specialize some behavior."
   ]
  },
  {
   "cell_type": "markdown",
   "metadata": {},
   "source": [
    "## 1.6 Modules\n",
    "\n",
    "In Python, a module is a file, or a set of files, which contains statements that are executed when the module is imported. A module can contain executable statements as well as function or class definitions, which will be available whenever the module has been imported.\n",
    "\n",
    "The Python language implements a comprehensive collection of modules. They offer a wide range of facilities. This collection is completed by a huge library of open source modules available on `PyPI`. It can also be extended by user-defined modules.\n",
    "\n",
    "A modules defines implicitely a namespace. It enables to access to the objects, functions and classes that the module defines. One can access to them by using the module name and the attribute notation."
   ]
  },
  {
   "cell_type": "markdown",
   "metadata": {},
   "source": [
    "## 1.7 Software Engineering\n",
    "\n",
    "Functions, classes and modules are useful software engineering concepts which improve:\n",
    "- **reusability** of code: write once, run everywhere\n",
    "- **readibility** of code: do not enter into details of implementation when it is not necessary\n",
    "- **maintainability** of code: debugging, improving efficiency or extending functionalities are localized"
   ]
  },
  {
   "cell_type": "markdown",
   "metadata": {},
   "source": [
    "<div class=\"alert alert-warning\">\n",
    "    <h3><i class=\"fa fa-book\"></i> Further reading</h3>\n",
    "    <ul>\n",
    "        <li><a href=\"https://docs.python.org/3.10/reference/index.html\">Python Documentation</a></li>\n",
    "    </ul>\n",
    "</div>"
   ]
  },
  {
   "cell_type": "markdown",
   "metadata": {},
   "source": [
    "# 2. Built-in Data Types\n",
    "\n",
    "Python provides a wide range of built-in types. We present only a subset of this very rich collection and their main features.\n",
    "\n",
    "Type | Description\n",
    "- | -\n",
    "NoneType | absence of value\n",
    "bool | booleans\n",
    "int | integers\n",
    "float | floating point numbers\n",
    "list | mutable sequences\n",
    "tuple | immutable sequences\n",
    "range | immutable sequences of int\n",
    "str | immutable sequences of Unicode characters\n",
    "dict | mutable mapping structures\n",
    "set | unordered collection of distinct objects\n",
    "function | function\n",
    "module | module\n",
    "\n",
    "The built-in function `type()` enables to get the type of an ony object and the built-in function `print()` enables to display a string representation of any object."
   ]
  },
  {
   "cell_type": "markdown",
   "metadata": {},
   "source": [
    "## 2.1 None type\n",
    "\n",
    "`None` is the sole instance of the `NoneType` class. This object enables to handle the absence of value in Python.\n",
    "\n",
    "This object is used when there is a need to use a variable without assigning an initial value."
   ]
  },
  {
   "cell_type": "code",
   "execution_count": null,
   "metadata": {},
   "outputs": [],
   "source": [
    "# NoneType\n",
    "a = None  # the value None is assigned to the variable a\n",
    "print(a)  # displays the variable"
   ]
  },
  {
   "cell_type": "code",
   "execution_count": null,
   "metadata": {},
   "outputs": [],
   "source": [
    "# type of an object\n",
    "type(a)"
   ]
  },
  {
   "cell_type": "markdown",
   "metadata": {},
   "source": [
    "<div class=\"alert alert-info\">\n",
    "    <h3><i class=\"fa fa-info-circle\"></i>  Tips</h3>\n",
    "    <p>A use case of <code>None</code> when looking for an element in a list:</p>\n",
    "    <ol>\n",
    "        <li>Assign the <code>result</code> variable to <code>None</code></li>\n",
    "        <li>Assign the <code>result</code> variable to the corresponding element if found in the list</li>\n",
    "        <li>The <code>result</code> variable is either assigned to <code>None</code> or to an element of the list.</li>\n",
    "    </ol>\n",
    "</div>"
   ]
  },
  {
   "cell_type": "markdown",
   "metadata": {},
   "source": [
    "## 2.2 Booleans\n",
    "\n",
    "Booleans represent logical values which enable to perform boolean algebra operations.\n",
    "\n",
    "The `bool` type has 2 instances:\n",
    "- `True`: **TRUE** logical value\n",
    "- `False`: **FALSE** logical value\n",
    "\n",
    "Logical operations are:\n",
    "- x `and` y: logical **AND** of x and y\n",
    "- x `or` y: logical **OR** of x and y\n",
    "- `not` x: logical **NOT** of x"
   ]
  },
  {
   "cell_type": "markdown",
   "metadata": {},
   "source": [
    "Truth table for `and`:\n",
    "\n",
    "x and y | y = True | y = False\n",
    "- | - | -\n",
    "**x = True** | True | False\n",
    "**x = False** | False | False"
   ]
  },
  {
   "cell_type": "markdown",
   "metadata": {},
   "source": [
    "Truth table for `or`:\n",
    "\n",
    "x or y | y = True | y = False\n",
    "- | - | -\n",
    "**x = True** | True | True\n",
    "**x = False** | True | False"
   ]
  },
  {
   "cell_type": "markdown",
   "metadata": {},
   "source": [
    "Truth table for `not`:\n",
    "\n",
    "not x | .\n",
    "- | -\n",
    "**x = True** | False\n",
    "**x = False** | True"
   ]
  },
  {
   "cell_type": "code",
   "execution_count": null,
   "metadata": {},
   "outputs": [],
   "source": [
    "# logical operations with booleans\n",
    "a = True\n",
    "b = False\n",
    "print(a and b, a or b, not a, not b)"
   ]
  },
  {
   "cell_type": "code",
   "execution_count": null,
   "metadata": {},
   "outputs": [],
   "source": [
    "# type of an object\n",
    "type(a)"
   ]
  },
  {
   "cell_type": "markdown",
   "metadata": {},
   "source": [
    "The `bool()` function casts any object to a kind of a bool."
   ]
  },
  {
   "cell_type": "code",
   "execution_count": null,
   "metadata": {},
   "outputs": [],
   "source": [
    "# bool of any object\n",
    "bool(10)"
   ]
  },
  {
   "cell_type": "markdown",
   "metadata": {},
   "source": [
    "<div class=\"alert alert-info\">\n",
    "    <h3><i class=\"fa fa-info-circle\"></i>  Tips</h3>\n",
    "    <ul>\n",
    "        <li>A few objects are considered as <code>False</code> such as zeros and empty collections.</li>\n",
    "        <li>All other objects are considered as <code>True</code>.</li>\n",
    "        <li>Booleans are implemented as integers: <code>True</code> stands for <code>1</code> and <code>False</code> for <code>0</code>.</li>\n",
    "        <li>The Python interpreter performs a <i>lazy evaluation</i> of the second argument of the logical operations <code>and</code> and <code>or</code>:\n",
    "            <ul>\n",
    "                <li>x <code>and</code> y: if x is <code>False</code>, y is not evaluated</li>\n",
    "                <li>x <code>or</code> y: if x is <code>True</code>, y is not evaluated</li>\n",
    "            </ul>\n",
    "    </ul>\n",
    "</div>"
   ]
  },
  {
   "cell_type": "markdown",
   "metadata": {},
   "source": [
    "<div class=\"alert alert-warning\" role=\"alert\">\n",
    "    <h3><i class=\"fa fa-question-circle\"></i> Question &starf;&starf;</h3>\n",
    "    <ul>\n",
    "        <li>Suppose that <code>x</code> is a time consuming operation returning a bool and <code>y</code> is very quick to compute returning also a bool, what is the best order to compute the logical AND of <code>x</code> and <code>y</code>?</li>\n",
    "        <ol>\n",
    "            <li><code>x and y</code></li>\n",
    "            <li><code>y and x</code></li>\n",
    "            <li><code>x and y</code> and <code>y and x</code> will be equivalent in time execution</li>\n",
    "        </ol>\n",
    "        <br />\n",
    "        <li>And for the logical OR of <code>x</code> and <code>y</code>?</li>\n",
    "    </ul>\n",
    "</div>"
   ]
  },
  {
   "cell_type": "markdown",
   "metadata": {},
   "source": [
    "In a notebook, one can use the question mark to get information on any object, function or class."
   ]
  },
  {
   "cell_type": "code",
   "execution_count": null,
   "metadata": {},
   "outputs": [],
   "source": [
    "# use of question park in a notebook\n",
    "\n",
    "bool?"
   ]
  },
  {
   "cell_type": "markdown",
   "metadata": {},
   "source": [
    "## 2.3 Integers and floating point numbers\n",
    "\n",
    "\n",
    "The `int` type represents positive or negative integers.\n",
    "\n",
    "The `float` type represents positive or negative floating point numbers.\n",
    "\n",
    "Common arithmetic operations are available. Python manages standard priority between operations which can be tuned by using parenthesis `()`.\n",
    "\n",
    "Operation | Result\n",
    "-|-\n",
    "x + y     | sum of x and y\n",
    "x - y     | difference of x and y\n",
    "x * y     | product of x and y\n",
    "x / y     | quotient of x and y (*)\n",
    "x // y    | floored quotient of x and y\n",
    "x % y     | remainder of x / y\n",
    "-x        | x negated\n",
    "abs(x)    | absolute value of x\n",
    "x ** y or pow(x, y) | x to the power y"
   ]
  },
  {
   "cell_type": "code",
   "execution_count": null,
   "metadata": {},
   "outputs": [],
   "source": [
    "# simple example\n",
    "1 + 1"
   ]
  },
  {
   "cell_type": "markdown",
   "metadata": {},
   "source": [
    "<div class=\"alert alert-success\">\n",
    "    <h3><i class=\"fa fa-edit\"></i> Exercise 1 &starf;</h3>\n",
    "    <p>Compute how many seconds there are</p>\n",
    "    <ul>\n",
    "        <li>in a day</li>\n",
    "        <li>in a standard year</li>\n",
    "    </ul>\n",
    "</div>"
   ]
  },
  {
   "cell_type": "code",
   "execution_count": null,
   "metadata": {},
   "outputs": [],
   "source": [
    "# %load notebook1/ex_01.py"
   ]
  },
  {
   "cell_type": "code",
   "execution_count": null,
   "metadata": {},
   "outputs": [],
   "source": [
    "# priority between operators\n",
    "print(1 + 2 - 3 * 4 / 6)"
   ]
  },
  {
   "cell_type": "code",
   "execution_count": null,
   "metadata": {},
   "outputs": [],
   "source": [
    "# integers only\n",
    "print(1 + 2 - 3 * 4 // 6)"
   ]
  },
  {
   "cell_type": "markdown",
   "metadata": {},
   "source": [
    "<div class=\"alert alert-warning\" role=\"alert\">\n",
    "    <h3><i class=\"fa fa-question-circle\"></i> Question &starf;</h3>\n",
    "    <p>Which one is true?</p>\n",
    "    <ol>\n",
    "        <li><code>1 + (2 * 3)</code> same as <code>1 + 2 * 3</code>?</li>\n",
    "        <li><code>(1 + 2) * 3</code> same as <code>1 + 2 * 3</code>?</li>\n",
    "    </ol>\n",
    "</div>"
   ]
  },
  {
   "cell_type": "markdown",
   "metadata": {},
   "source": [
    "<div class=\"alert alert-danger\">\n",
    "    <h3><i class=\"fa fa-exclamation-triangle\"></i> Warning</h3>\n",
    "    <ul>\n",
    "        <li>in Python 2: <code>3 / 2 → 1</code></li>\n",
    "        <li>in Python 3: <code>3 / 2 → 1.5</code> and <code>3 // 2 → 1</code></li>\n",
    "    </ul>\n",
    "</div>"
   ]
  },
  {
   "cell_type": "code",
   "execution_count": null,
   "metadata": {},
   "outputs": [],
   "source": [
    "# division with remainder\n",
    "a, b = 20, 7\n",
    "q = a // b  # quotient\n",
    "r = a % b  # remainder\n",
    "print(q, r)\n",
    "print(b * q + r)"
   ]
  },
  {
   "cell_type": "markdown",
   "metadata": {},
   "source": [
    "<div class=\"alert alert-warning\" role=\"alert\">\n",
    "    <h3><i class=\"fa fa-question-circle\"></i> Question &starf;&starf;</h3>\n",
    "    <ul>\n",
    "        <li>What is the other name for the division with remainder?</li>\n",
    "        <li> a = b &times; q + r</li>\n",
    "    </ul>\n",
    "</div>"
   ]
  },
  {
   "cell_type": "markdown",
   "metadata": {},
   "source": [
    "<div class=\"alert alert-info\">\n",
    "    <h3><i class=\"fa fa-info-circle\"></i>  Tips</h3>\n",
    "    <ul>\n",
    "        <li>Zeros <code>0</code> and <code>0.0</code> are considered as <code>False</code>.</li>\n",
    "        <li>Floating point numbers support the standard floating point with the scientific notation using <code>e</code> followed by a power of <code>10</code>: e.g., <code>314e-2</code></li>\n",
    "        <li>Numeric literals support a notation where the underscore <code>_</code> may be used to improve readability; for instance, grouping decimal numbers by thousands: e.g., <code>1_000</code>, <code>1_000_000.0</code></li>\n",
    "        <li>When mixing <code>int</code> and <code>float</code> in an arithmetic operation, the result is cast to a <code>float</code>.</li>\n",
    "        <li>Python deals with <b>integers with arbitrary precision</b> and <b>floating point numbers with limited precison</b>.</li>\n",
    "        <li>In Python 3, <code>/</code> denotes the standard division and <code>//</code> denotes the integer division, whereas in Python 2, <code>/</code> denotes the integer division.</li>\n",
    "        <li>Many operations and mathematical functions exist in Python, either in the language itself, or in the <code>math</code> module, or again in the <code>scipy</code> and <code>numpy</code> modules (see later).</li>\n",
    "    </ul>\n",
    "</div>"
   ]
  },
  {
   "cell_type": "markdown",
   "metadata": {},
   "source": [
    "#### Comparison\n",
    "\n",
    "Python defines comparison operators between objects. They return booleans.\n",
    "\n",
    "Operator | Meaning\n",
    "- | -\n",
    "&lt; |\tstrictly less than\n",
    "&lt;= | less than or equal\n",
    "&gt; |\tstrictly greater than\n",
    "&gt;= | greater than or equal\n",
    "== | equal\n",
    "!= | not equal\n",
    "is | object identity\n",
    "is not | negated object identity"
   ]
  },
  {
   "cell_type": "code",
   "execution_count": null,
   "metadata": {},
   "outputs": [],
   "source": [
    "# multiple assignment and comparison\n",
    "a, b = 1, 2\n",
    "print(a < b)"
   ]
  },
  {
   "cell_type": "code",
   "execution_count": null,
   "metadata": {},
   "outputs": [],
   "source": [
    "# multiple assignment and comparison\n",
    "a, b = 1, 1\n",
    "(a < b) or (a > b)"
   ]
  },
  {
   "cell_type": "markdown",
   "metadata": {},
   "source": [
    "## 2.4 Data structures\n",
    "\n",
    "Python defines several convenient built-in data structures. We present here the most used data structures: `str`, `list`, `tuple`, `range`, `dict` and `set`.\n",
    "\n",
    "Some other data structures are also useful."
   ]
  },
  {
   "cell_type": "markdown",
   "metadata": {},
   "source": [
    "### 2.4.1 String\n",
    "\n",
    "An object of type `str` represents a string of characters (encoded in UTF-8 in Python 3).\n",
    "\n",
    "A string might be delimited by 4 different means:\n",
    "- 2 single quotes `'a string'`\n",
    "- 2 quotes `\"another string\"`\n",
    "- 2 triple single quotes `'''also a string'''`\n",
    "- 2 triple quotes `\"\"\"yet another string\"\"\"`\n",
    "\n",
    "When a string - delimited by 2 single quotes or 2 quotes - contains a special character (single quote, quote or backslash), the character should be escaped by being preceded by a backslash `\\`.\n",
    "\n",
    "Some special characters are also represented using a backslash:\n",
    "- line feed: `\\n`\n",
    "- carriage return: `\\r`\n",
    "- tabulation: `\\t`"
   ]
  },
  {
   "cell_type": "code",
   "execution_count": null,
   "metadata": {},
   "outputs": [],
   "source": [
    "# some strings\n",
    "s1 = 'this is a string'\n",
    "s2 = \"it's a string\"  # \\ not needed for the quote\n",
    "s3 = 'it\\'s a string again'  # \\ needed for the quote\n",
    "s4 = 'C:\\\\Users\\\\Guest\\\\'  # \\ needed for the backslashes\n",
    "s5 = '''Monday,\n",
    "Tuesday,\n",
    "Wednesday,\n",
    "Thursday,\n",
    "Friday,\n",
    "Saturday,\n",
    "Sunday'''\n",
    "print(s1)\n",
    "print(s2)\n",
    "print(s3)\n",
    "print(s4)\n",
    "print(s5)"
   ]
  },
  {
   "cell_type": "markdown",
   "metadata": {},
   "source": [
    "<div class=\"alert alert-info\">\n",
    "    <h3><i class=\"fa fa-info-circle\"></i>  Tips</h3>\n",
    "    <ul>\n",
    "        <li>Encodings: by default in Python 3 strings are encoded in <b>UTF-8</b> (unicode), other encodings exist and might be encountered (e.g., <b>ascii</b>, <b>latin-1</b>).</li>\n",
    "        <li>Unicode strings might also be represented with a <code>u</code> prefix, e.g. <code>u'some unicode string'</code></li>\n",
    "        <li>Raw strings are represented with a <code>r</code> prefix and do not interpret the backslash: e.g., <code>r'some \\raw\\ string'</code></li>\n",
    "    </ul>\n",
    "</div>"
   ]
  },
  {
   "cell_type": "markdown",
   "metadata": {},
   "source": [
    "#### String methods\n",
    "\n",
    "The `str` class provides many methods dedicated to string manipulation. We present only a few of them."
   ]
  },
  {
   "cell_type": "code",
   "execution_count": null,
   "metadata": {},
   "outputs": [],
   "source": [
    "# concatenation\n",
    "'1' + '2'"
   ]
  },
  {
   "cell_type": "code",
   "execution_count": null,
   "metadata": {},
   "outputs": [],
   "source": [
    "# lower case\n",
    "s = 'Python'\n",
    "s.lower()"
   ]
  },
  {
   "cell_type": "code",
   "execution_count": null,
   "metadata": {},
   "outputs": [],
   "source": [
    "# upper case\n",
    "s.upper()"
   ]
  },
  {
   "cell_type": "code",
   "execution_count": null,
   "metadata": {},
   "outputs": [],
   "source": [
    "# testing start\n",
    "s.startswith('P')"
   ]
  },
  {
   "cell_type": "code",
   "execution_count": null,
   "metadata": {},
   "outputs": [],
   "source": [
    "# testing end\n",
    "s.endswith('P')"
   ]
  },
  {
   "cell_type": "code",
   "execution_count": null,
   "metadata": {},
   "outputs": [],
   "source": [
    "# testing substring\n",
    "s.find('th')"
   ]
  },
  {
   "cell_type": "code",
   "execution_count": null,
   "metadata": {},
   "outputs": [],
   "source": [
    "# title\n",
    "s = 'I like the Python language!'\n",
    "s.title()"
   ]
  },
  {
   "cell_type": "markdown",
   "metadata": {},
   "source": [
    "Two important methods."
   ]
  },
  {
   "cell_type": "code",
   "execution_count": null,
   "metadata": {},
   "outputs": [],
   "source": [
    "# spliting string\n",
    "s = '123,456,789'\n",
    "s.split(',')"
   ]
  },
  {
   "cell_type": "code",
   "execution_count": null,
   "metadata": {},
   "outputs": [],
   "source": [
    "# joining strings\n",
    "abc = ['A', 'B', 'C']\n",
    "'-'.join(abc)"
   ]
  },
  {
   "cell_type": "markdown",
   "metadata": {},
   "source": [
    "<div class=\"alert alert-warning\">\n",
    "    <h3><i class=\"fa fa-question-circle\"></i> Question &starf;&starf;</h3>\n",
    "    <p>What is the result of <code>'-'.join('h.e.l.l.o'.split('.'))</code>?</p>\n",
    "    <ol>\n",
    "        <li><code>'hello'</code></li>\n",
    "        <li><code>'h-e-l-l-o'</code></li>\n",
    "    </ol>\n",
    "</div>"
   ]
  },
  {
   "cell_type": "markdown",
   "metadata": {},
   "source": [
    "Two convenient functions return ASCII code from a character and vice-versa."
   ]
  },
  {
   "cell_type": "code",
   "execution_count": null,
   "metadata": {},
   "outputs": [],
   "source": [
    "# character to ascii\n",
    "ord('A')"
   ]
  },
  {
   "cell_type": "code",
   "execution_count": null,
   "metadata": {},
   "outputs": [],
   "source": [
    "# ascii to character\n",
    "chr(64)"
   ]
  },
  {
   "cell_type": "markdown",
   "metadata": {},
   "source": [
    "The `str()` function casts any object to a kind of a str. This is performed by using the `__str__()` method of its class (see below)."
   ]
  },
  {
   "cell_type": "code",
   "execution_count": null,
   "metadata": {},
   "outputs": [],
   "source": [
    "# str of any object\n",
    "str(1 * 2 / 3)"
   ]
  },
  {
   "cell_type": "markdown",
   "metadata": {},
   "source": [
    "<div class=\"alert alert-warning\">\n",
    "<h3><i class=\"fa fa-book\"></i> Further reading</h3>\n",
    "    <p><a href=\"https://docs.python.org/3.7/library/stdtypes.html#string-methods\" target=\"_blank\">String Methods</a></p>\n",
    "</div>"
   ]
  },
  {
   "cell_type": "markdown",
   "metadata": {},
   "source": [
    "### 2.4.2 List\n",
    "\n",
    "An object of type `list` is an ordered mutable sequence. The empty list is `[]`.\n",
    "\n",
    "We will use the **solar system** as an example of list. Do not mix up *Jupiter* and *Jupyter* &#128512;\n",
    "\n",
    "![solar system](images/solar-system.png)"
   ]
  },
  {
   "cell_type": "code",
   "execution_count": null,
   "metadata": {},
   "outputs": [],
   "source": [
    "# creation of a list\n",
    "solar_system = ['Sun', 'Mercury', 'Venus']\n",
    "print(solar_system)"
   ]
  },
  {
   "cell_type": "code",
   "execution_count": null,
   "metadata": {},
   "outputs": [],
   "source": [
    "# type of an object\n",
    "type(solar_system)"
   ]
  },
  {
   "cell_type": "markdown",
   "metadata": {},
   "source": [
    "#### Extending lists"
   ]
  },
  {
   "cell_type": "code",
   "execution_count": null,
   "metadata": {},
   "outputs": [],
   "source": [
    "# adding a single element with the append() method\n",
    "solar_system.append('Earth')\n",
    "solar_system"
   ]
  },
  {
   "cell_type": "code",
   "execution_count": null,
   "metadata": {},
   "outputs": [],
   "source": [
    "# adding several elements with the extend() method\n",
    "solar_system.extend(['Mars', 'Jupiter', 'Saturn', 'Uranus', 'Neptune'])\n",
    "solar_system"
   ]
  },
  {
   "cell_type": "markdown",
   "metadata": {},
   "source": [
    "#### Useful built-in functions\n",
    "\n",
    "`len`, `min` and `max` are available for `list`, `tuple`, `range`, `str`, `dict` and `set` (see below).\n",
    "\n",
    "`sum` is available for `list`, `tuple`, `range` and `set` if elements are summable."
   ]
  },
  {
   "cell_type": "code",
   "execution_count": null,
   "metadata": {},
   "outputs": [],
   "source": [
    "# length\n",
    "len(solar_system)"
   ]
  },
  {
   "cell_type": "code",
   "execution_count": null,
   "metadata": {},
   "outputs": [],
   "source": [
    "# min\n",
    "min(solar_system)"
   ]
  },
  {
   "cell_type": "code",
   "execution_count": null,
   "metadata": {},
   "outputs": [],
   "source": [
    "# max\n",
    "max(solar_system)"
   ]
  },
  {
   "cell_type": "code",
   "execution_count": null,
   "metadata": {},
   "outputs": [],
   "source": [
    "# sum of numbers\n",
    "sum([1, 2, 3, 4])"
   ]
  },
  {
   "cell_type": "markdown",
   "metadata": {},
   "source": [
    "#### Testing elements\n",
    "\n",
    "Available for all sequences."
   ]
  },
  {
   "cell_type": "code",
   "execution_count": null,
   "metadata": {},
   "outputs": [],
   "source": [
    "# testing whether 'Mars' is in solar_system\n",
    "'Mars' in solar_system"
   ]
  },
  {
   "cell_type": "code",
   "execution_count": null,
   "metadata": {},
   "outputs": [],
   "source": [
    "# testing whether 'Moon' is not in solar_system\n",
    "'Moon' not in solar_system"
   ]
  },
  {
   "cell_type": "markdown",
   "metadata": {},
   "source": [
    "#### Difference between equality and identity"
   ]
  },
  {
   "cell_type": "code",
   "execution_count": null,
   "metadata": {},
   "outputs": [],
   "source": [
    "# to identical lists are equal\n",
    "mylist1 = [1, 2, 3]\n",
    "mylist2 = [1, 2, 3]\n",
    "mylist1 == mylist2"
   ]
  },
  {
   "cell_type": "code",
   "execution_count": null,
   "metadata": {},
   "outputs": [],
   "source": [
    "# to identical lists may not have object identity\n",
    "mylist1 is mylist2"
   ]
  },
  {
   "cell_type": "code",
   "execution_count": null,
   "metadata": {},
   "outputs": [],
   "source": [
    "# here, to identical lists have object identity\n",
    "mylist2 = [1, 2, 3]\n",
    "mylist3 = mylist2\n",
    "mylist2 is mylist3"
   ]
  },
  {
   "cell_type": "markdown",
   "metadata": {},
   "source": [
    "#### Accessing elements and slices\n",
    "\n",
    "The `[]` operator enables to access to or to modify a single element or to a slice of a sequence by position.\n",
    "\n",
    "In Python, by convention the first element is **starting at position 0** and the upper limit of the slice **is not included in the selection**.\n",
    "\n",
    "This works for list, but also for tuple, range and str (see below).\n",
    "\n",
    "Operator | Meaning\n",
    "- | -\n",
    "s[i] | access to the i-1 th element of s\n",
    "s[i:j] | slice of s from i to j-1\n",
    "s[i:j:k] | slice of s from i to j-1 with step k\n",
    "s[i:] or s[i:len(s)] | slice of s from i to len(s) - 1\n",
    "s[:j]  or s[0:j] | slice of s from 0 to j-1\n",
    "s[::-1] | reverse s"
   ]
  },
  {
   "cell_type": "code",
   "execution_count": null,
   "metadata": {},
   "outputs": [],
   "source": [
    "# using the [] operator\n",
    "solar_system = ['Sun', 'Mercury', 'Venus', 'Earth', 'Mars', 'Jupiter', 'Saturn', 'Uranus', 'Neptune']\n",
    "print(solar_system)"
   ]
  },
  {
   "cell_type": "code",
   "execution_count": null,
   "metadata": {},
   "outputs": [],
   "source": [
    "# element at position 0\n",
    "print(solar_system[0])"
   ]
  },
  {
   "cell_type": "code",
   "execution_count": null,
   "metadata": {},
   "outputs": [],
   "source": [
    "# inner planets\n",
    "print(solar_system[1:5])"
   ]
  },
  {
   "cell_type": "code",
   "execution_count": null,
   "metadata": {},
   "outputs": [],
   "source": [
    "# outer planets\n",
    "print(solar_system[5:])"
   ]
  },
  {
   "cell_type": "code",
   "execution_count": null,
   "metadata": {},
   "outputs": [],
   "source": [
    "# sun and visible planets\n",
    "print(solar_system[:7])"
   ]
  },
  {
   "cell_type": "markdown",
   "metadata": {},
   "source": [
    "Python implements the `copy()` function which is able to simply copy any object."
   ]
  },
  {
   "cell_type": "code",
   "execution_count": null,
   "metadata": {},
   "outputs": [],
   "source": [
    "# modify an element\n",
    "\n",
    "solar_system_2 = solar_system.copy()\n",
    "solar_system_2[4] = 'Planet-B'\n",
    "solar_system_2"
   ]
  },
  {
   "cell_type": "markdown",
   "metadata": {},
   "source": [
    "In fact there is no Planet-B :("
   ]
  },
  {
   "cell_type": "markdown",
   "metadata": {},
   "source": [
    "#### Concatenation\n",
    "\n",
    "Available for list, tuple and str."
   ]
  },
  {
   "cell_type": "code",
   "execution_count": null,
   "metadata": {},
   "outputs": [],
   "source": [
    "# concatenating solar_system with itself\n",
    "solar_system + solar_system"
   ]
  },
  {
   "cell_type": "code",
   "execution_count": null,
   "metadata": {},
   "outputs": [],
   "source": [
    "# concatenating solar_system with itself 3 times\n",
    "solar_system * 3  # or 3 * solar_system"
   ]
  },
  {
   "cell_type": "markdown",
   "metadata": {},
   "source": [
    "#### Sorting\n",
    "\n",
    "Available for list only."
   ]
  },
  {
   "cell_type": "code",
   "execution_count": null,
   "metadata": {},
   "outputs": [],
   "source": [
    "# sorting solar_system\n",
    "sorted(solar_system)  # returns a new object"
   ]
  },
  {
   "cell_type": "code",
   "execution_count": null,
   "metadata": {},
   "outputs": [],
   "source": [
    "# solar_system is still not sorted\n",
    "solar_system"
   ]
  },
  {
   "cell_type": "code",
   "execution_count": null,
   "metadata": {},
   "outputs": [],
   "source": [
    "# sorting solar_system in place\n",
    "# the sort() method returns None, and not the sorted list\n",
    "solar_system.sort()\n",
    "solar_system"
   ]
  },
  {
   "cell_type": "markdown",
   "metadata": {},
   "source": [
    "The `list()` function casts any sequence to a kind of a list. "
   ]
  },
  {
   "cell_type": "code",
   "execution_count": null,
   "metadata": {},
   "outputs": [],
   "source": [
    "# list from a string\n",
    "list('Python')"
   ]
  },
  {
   "cell_type": "markdown",
   "metadata": {},
   "source": [
    "<div class=\"alert alert-warning\" role=\"alert\">\n",
    "    <h3><i class=\"fa fa-question-circle\"></i> Question &starf;&starf;</h3>\n",
    "    <p>What is the result of <code>list('ab') * 4</code>?</p>\n",
    "    <ol>\n",
    "        <li><code>['a', 'b', 'a', 'b', 'a', 'b', 'a', 'b']</code></li>\n",
    "        <li><code>['ab', 'ab', 'ab', 'ab']</code></li>\n",
    "        <li>None of these</li>\n",
    "    </ol>\n",
    "</div>"
   ]
  },
  {
   "cell_type": "markdown",
   "metadata": {},
   "source": [
    "### 2.4.3 Tuple\n",
    "\n",
    "An object of type `tuple` is an ordered immutable sequence. The empty tuple is `()`."
   ]
  },
  {
   "cell_type": "code",
   "execution_count": null,
   "metadata": {},
   "outputs": [],
   "source": [
    "# creation of a tuple\n",
    "mytuple = (1, 2, 3)\n",
    "mytuple"
   ]
  },
  {
   "cell_type": "markdown",
   "metadata": {},
   "source": [
    "In some cases, parenthesis are not mandatory."
   ]
  },
  {
   "cell_type": "code",
   "execution_count": null,
   "metadata": {},
   "outputs": [],
   "source": [
    "# creation of a tuple\n",
    "mytuple = 1, 2, 3\n",
    "mytuple"
   ]
  },
  {
   "cell_type": "markdown",
   "metadata": {},
   "source": [
    "As a tuple is immutable, there are only a few methods for a tuple."
   ]
  },
  {
   "cell_type": "code",
   "execution_count": null,
   "metadata": {},
   "outputs": [],
   "source": [
    "# count\n",
    "tuple1 = (1, 2, 1)\n",
    "tuple1.count(1)"
   ]
  },
  {
   "cell_type": "markdown",
   "metadata": {},
   "source": [
    "The `tuple()` function casts any sequence to a kind of a tuple. "
   ]
  },
  {
   "cell_type": "code",
   "execution_count": null,
   "metadata": {},
   "outputs": [],
   "source": [
    "# list from a string\n",
    "tuple('Python')"
   ]
  },
  {
   "cell_type": "markdown",
   "metadata": {},
   "source": [
    "<div class=\"alert alert-warning\" role=\"alert\">\n",
    "    <h3><i class=\"fa fa-question-circle\"></i> Question &starf;&starf;&starf;</h3>\n",
    "    <p>Intuitively, which structure requires more memory footprint?</p>\n",
    "    <ol>\n",
    "        <li>A tuple, e.g. <code>(1, 2, 3)</code></li>\n",
    "        <li>A list, e.g. <code>[1, 2, 3]</code></li>\n",
    "        <li>Same memory footprint for both structures</li>\n",
    "    </ol>\n",
    "</div>"
   ]
  },
  {
   "cell_type": "markdown",
   "metadata": {},
   "source": [
    "<div class=\"alert alert-info\">\n",
    "    <h3><i class=\"fa fa-info-circle\"></i>  Tips</h3>\n",
    "    <ul>\n",
    "        <li>Since the parenthesis <code>()</code> may be used to represent a tuple and also to factorize some expression, a tuple with a single element should be noted with a coma: e.g. <code>(1,)</code></li>\n",
    "        <li>Compare <code>(1)</code> and <code>(1,)</code></li>\n",
    "        <li>Compare the type of <code>(1)</code> and the type of <code>(1,)</code></li>\n",
    "    </ul>\n",
    "</div>"
   ]
  },
  {
   "cell_type": "markdown",
   "metadata": {},
   "source": [
    "### 2.4.4 Range\n",
    "\n",
    "An object of type `range` is an ordered immutable sequence of integers. It is often used to build loops based on integers (see below).\n",
    "\n",
    "- `range(i)`: all integers starting at 0 until i - 1\n",
    "- `range(i, j)`: all integers starting at i until j - 1\n",
    "- `range(i, j, k)`: all integers starting at i until j - 1 with step k\n",
    "\n",
    "Creating range uses the same notation than the access operator `[]`."
   ]
  },
  {
   "cell_type": "code",
   "execution_count": null,
   "metadata": {},
   "outputs": [],
   "source": [
    "r1 = range(10)  # integers from 0 to 9\n",
    "r2 = range(1, 11)  # integers from 1 to 10\n",
    "r3 = range(0, 100, 2)  # even integers from 0 to 100 excluded\n",
    "print(list(r1))\n",
    "print(list(r2))\n",
    "print(list(r3))"
   ]
  },
  {
   "cell_type": "markdown",
   "metadata": {},
   "source": [
    "<div class=\"alert alert-success\">\n",
    "    <h3><i class=\"fa fa-edit\"></i> Exercise 2 &starf;</h3>\n",
    "    <p>Compute all odd integers between 0 and 20.</p>\n",
    "</div>"
   ]
  },
  {
   "cell_type": "code",
   "execution_count": null,
   "metadata": {},
   "outputs": [],
   "source": [
    "# %load notebook1/ex_02.py"
   ]
  },
  {
   "cell_type": "markdown",
   "metadata": {},
   "source": [
    "#### Accessing to elements with negative positions\n",
    "\n",
    "In Python the first position of a string of length `L` is `0` and the last position is `L - 1`.\n",
    "\n",
    "Python enables to access by using negative positions from `-L` to `-1`.\n",
    "\n",
    "P | y | t | h | o | n \n",
    "- | - | - | - | - | - \n",
    "0 | 1 | 2 | 3 | 4 | 5 \n",
    "-6 | -5 | -4 | -3 | -2 | -1 \n",
    "\n",
    "This notation is very handful; for instance, the last element of `s` can be accessed with `s[-1]`.\n",
    "\n",
    "This notation works also for other sequences: `list`, `tuple`, `range`."
   ]
  },
  {
   "cell_type": "code",
   "execution_count": null,
   "metadata": {},
   "outputs": [],
   "source": [
    "# slicing string\n",
    "s = 'Python'\n",
    "s[1:-1]"
   ]
  },
  {
   "cell_type": "code",
   "execution_count": null,
   "metadata": {},
   "outputs": [],
   "source": [
    "# reversing string\n",
    "s[::-1]  # s.reverse()"
   ]
  },
  {
   "cell_type": "markdown",
   "metadata": {},
   "source": [
    "### 2.4.5 Dict\n",
    "\n",
    "An object of type `dict` represents a mapping mutable object which associates keys (generally strings but not mandatory) to objects of any kind. The empty dict is `{}`.\n",
    "\n",
    "Accessing to value from a key is performed by using the `[]` operator.\n",
    "\n",
    "Removing a key is performed by using the `del` operator."
   ]
  },
  {
   "cell_type": "code",
   "execution_count": null,
   "metadata": {},
   "outputs": [],
   "source": [
    "# radius in km\n",
    "planets_size = {'Mercury': 2439.7, 'Venus': 6051.8, 'Earth': 6371.0, 'Mars': 3389.5,\n",
    "                'Jupiter': 69911.0, 'Saturn': 58232.0, 'Uranus': 25362.0, 'Neptune': 24622.0}\n",
    "planets_size['Mercury']"
   ]
  },
  {
   "cell_type": "code",
   "execution_count": null,
   "metadata": {},
   "outputs": [],
   "source": [
    "# get function\n",
    "planets_size.get('Mercury', 0)"
   ]
  },
  {
   "cell_type": "code",
   "execution_count": null,
   "metadata": {},
   "outputs": [],
   "source": [
    "# deleting a key\n",
    "del planets_size['Mercury']\n",
    "planets_size"
   ]
  },
  {
   "cell_type": "code",
   "execution_count": null,
   "metadata": {},
   "outputs": [],
   "source": [
    "# get function\n",
    "planets_size.get('Mercury', 0)"
   ]
  },
  {
   "cell_type": "markdown",
   "metadata": {},
   "source": [
    "The `dict()` function casts any mapping sequence to a kind of a dict."
   ]
  },
  {
   "cell_type": "code",
   "execution_count": null,
   "metadata": {},
   "outputs": [],
   "source": [
    "# dict from a mapping sequence\n",
    "planets_size = dict([('Mercury', 2439.7), ('Venus', 6051.8), ('Earth', 6371.0), ('Mars', 3389.5),\n",
    "                     ('Jupiter', 69911.0), ('Saturn', 58232.0), ('Uranus', 25362.0), ('Neptune', 24622.0)])\n",
    "print(planets_size)"
   ]
  },
  {
   "cell_type": "markdown",
   "metadata": {},
   "source": [
    "<div class=\"alert alert-info\">\n",
    "    <h3><i class=\"fa fa-info-circle\"></i>  Tips</h3>\n",
    "    <ul>\n",
    "        <li>The <code>zip()</code> function takes in arguments an arbitrary number of sequences and produces an iterable object with tuples of an element of each of the sequences in the same row.</li>\n",
    "    </ul>\n",
    "</div>"
   ]
  },
  {
   "cell_type": "code",
   "execution_count": null,
   "metadata": {},
   "outputs": [],
   "source": [
    "# dict from a zip\n",
    "planets_size = dict(zip(['Mercury', 'Venus', 'Earth', 'Mars', 'Jupiter', 'Saturn', 'Uranus', 'Neptune'],\n",
    "                        [2439.7, 6051.8, 6371.0, 3389.5, 69911.0, 58232.0, 25362.0, 24622.0]))\n",
    "print(planets_size)"
   ]
  },
  {
   "cell_type": "markdown",
   "metadata": {},
   "source": [
    "### 2.4.6 Set\n",
    "\n",
    "An object of type `set` represents an unordered colection of distinct elements (which need to be hashable, e.g. usable with the `hash()` built-in function)."
   ]
  },
  {
   "cell_type": "code",
   "execution_count": null,
   "metadata": {},
   "outputs": [],
   "source": [
    "# example\n",
    "s = set()\n",
    "s.add(1)\n",
    "s.add(2)\n",
    "s.add(2)\n",
    "s.add(3)\n",
    "s.add(3)\n",
    "s.add(3)\n",
    "s"
   ]
  },
  {
   "cell_type": "code",
   "execution_count": null,
   "metadata": {},
   "outputs": [],
   "source": [
    "# set form a list\n",
    "print([1, 2, 3, 1, 2, 3, 1])\n",
    "print(set([1, 2, 3, 1, 2, 3, 1]))"
   ]
  },
  {
   "cell_type": "markdown",
   "metadata": {},
   "source": [
    "The `set()` function casts any sequence to a kind of a set. "
   ]
  },
  {
   "cell_type": "code",
   "execution_count": null,
   "metadata": {},
   "outputs": [],
   "source": [
    "# set from a list\n",
    "set([1, 2, 2, 3, 3, 3])"
   ]
  },
  {
   "cell_type": "markdown",
   "metadata": {},
   "source": [
    "<div class=\"alert alert-info\">\n",
    "    <h3><i class=\"fa fa-info-circle\"></i>  Tips</h3>\n",
    "    <ul>\n",
    "        <li>The empty dictionary is denoted by <code>{}</code></li>\n",
    "        <li>The empty set is denoted by <code>set()</code></li>\n",
    "    </ul>\n",
    "</div>"
   ]
  },
  {
   "cell_type": "markdown",
   "metadata": {},
   "source": [
    "<div class=\"alert alert-success\">\n",
    "    <h3><i class=\"fa fa-edit\"></i> Exercise 3 &starf;</h3>\n",
    "    <ul>\n",
    "        <li>Print the length of list_1.</li>\n",
    "        <li>Modify the last value of list_1 with a company of your choice.</li>\n",
    "        <li>Build a new list with the last 3 values of list_1.</li>\n",
    "        <li>Using the function <code>sorted()</code> sort list_1. What is the finding?</li>\n",
    "        <li>Using the method <code>append()</code> add an integer of your choice to list_2.</li>\n",
    "        <li>Drop duplicates from this list.</li>\n",
    "        </ul>\n",
    "</div>"
   ]
  },
  {
   "cell_type": "code",
   "execution_count": null,
   "metadata": {},
   "outputs": [],
   "source": [
    "# list_1\n",
    "list_1 = ['Google', 'eBay', 'Amazon', 'spotify', 'Microsoft', 'nike', 'Apple', 'adidas', 'Meta']"
   ]
  },
  {
   "cell_type": "code",
   "execution_count": null,
   "metadata": {},
   "outputs": [],
   "source": [
    "# list_2\n",
    "list_2 = [1, 25, 14, 15, 1, 7, 6, 7, 8, 14, 6, 9, 10]"
   ]
  },
  {
   "cell_type": "code",
   "execution_count": null,
   "metadata": {},
   "outputs": [],
   "source": [
    "# %load notebook1/ex_03.py"
   ]
  },
  {
   "cell_type": "markdown",
   "metadata": {},
   "source": [
    "# Summary\n",
    "\n",
    "In Python, a variable is a name starting with a letter or `_` and containing letters, digits or `_`, e.g., `my_variable`, `my_variable2`. To assign a value to a variable, one can use the `=` operator possibly with several variables and values separated by comas, e.g. `a = 1` or `b, c = 2, 3`. Python is case sensitive.\n",
    "\n",
    "The Python language defines a few elementary data types:\n",
    " - **NoneType**: `None`\n",
    " - **bool**: `True` and `False`\n",
    " - **int**: e.g., `-1`, `0`, `1`, `2`\n",
    " - **float**: e.g., `0.0`, `3.14`, `1.1e+20`\n",
    "\n",
    "Python defines also several convenient data structures, such as:\n",
    " - **str**: e.g., `'hello world'`, `\"Python 3.10\"`, `'''Wednesday 13 September'''`, `\"\"\"My taylor is rich\"\"\"`\n",
    " - **list**: e.g., `[]`, `[1, 2, 3]`\n",
    " - **tuple**: e.g., `()`, `(1,)`, `(1, 2, 3)`\n",
    " - **range**: e.g., `range(10)`, `range(1, 11)`, `range(1, 100, 2)`\n",
    " - **dict**: e.g., `{}`, `{'Low': 20.0, 'Medium': 50.0, 'High': 80.0}`\n",
    " - **set**: e.g., `set()`, `{1, 2, 3, 4}`\n",
    " \n",
    " Accessing to or modifying elements of sequences is performed by using the `[]` operator. Indices start from `0` to `length - 1`, or in negative notation, from `- length` to `-1`.\n",
    " \n",
    " For sequences, the `[]` operator can be used for:\n",
    " - accessing to element at position i (starting at 0): `s[i]`\n",
    " - accessing to elements from position i (starting at 0) to position j-1: `s[i:j]`\n",
    " - modifying the value at position i (starting at 0): `s[i] = 0`\n",
    " - modifying the values from position i (starting at 0) to position j-1: `s[i:j] = 0`\n",
    " \n",
    " For a dict, accessing to or modifying a value of dict is performed by using the `[]` operator with the key:\n",
    " - accessing: `d['Low']`\n",
    " - modifying: `d['Low'] = 0.0`"
   ]
  },
  {
   "cell_type": "markdown",
   "metadata": {},
   "source": [
    "<div class=\"alert alert-danger\">\n",
    "    <h3><i class=\"fa fa-plus-square\"></i>  PART 2</h3>\n",
    "</div>"
   ]
  },
  {
   "cell_type": "markdown",
   "metadata": {},
   "source": [
    "# 3. Control Flow Statements\n",
    "\n",
    "## 3.1 The *if* statement\n",
    "\n",
    "The `if` statement followed by any object (which will be interpreted as `True` or `False`) enables to execute conditionnaly a piece of code.\n",
    "\n",
    "It might be followed by one or several `elif` for further conditions and an `else` by default. All these statements need a colon `:` character at the end of line.\n",
    "\n",
    "The conditionnal code should be indented by using a number of spaces (generally 4) or a tabulation. It is possible to nest several `if` statements which need appropriate identation."
   ]
  },
  {
   "cell_type": "code",
   "execution_count": null,
   "metadata": {},
   "outputs": [],
   "source": [
    "age = 19\n",
    "if age in range(10, 20):\n",
    "    print(\"teenager\")"
   ]
  },
  {
   "cell_type": "code",
   "execution_count": null,
   "metadata": {},
   "outputs": [],
   "source": [
    "if age < 18:\n",
    "    print(\"minor\")\n",
    "else:\n",
    "    print(\"adult\")"
   ]
  },
  {
   "cell_type": "code",
   "execution_count": null,
   "metadata": {},
   "outputs": [],
   "source": [
    "if age < 10:\n",
    "    print(\"child\")\n",
    "elif age < 20:\n",
    "    print(\"teenager\")\n",
    "else:\n",
    "    print(\"adult\")"
   ]
  },
  {
   "cell_type": "code",
   "execution_count": null,
   "metadata": {},
   "outputs": [],
   "source": [
    "# idem with nested statements\n",
    "if age < 20:\n",
    "    if age < 10:\n",
    "        print(\"child\")\n",
    "    else:\n",
    "        print(\"teenager\")\n",
    "else:\n",
    "    print(\"adult\")"
   ]
  },
  {
   "cell_type": "markdown",
   "metadata": {},
   "source": [
    "A one line if statement also exists (ternary conditional operator)."
   ]
  },
  {
   "cell_type": "code",
   "execution_count": null,
   "metadata": {},
   "outputs": [],
   "source": [
    "# one line if/else statement\n",
    "status = 'minor' if age < 18 else 'adult'\n",
    "print(status)"
   ]
  },
  {
   "cell_type": "markdown",
   "metadata": {},
   "source": [
    "<div class=\"alert alert-success\">\n",
    "    <h3><i class=\"fa fa-edit\"></i> Exercise 4 &starf;</h3>\n",
    "    <p>Take an integer, e.g. 10, if it is even divide it by 2, if it is odd add 1. Try with 10.</p>\n",
    "</div>"
   ]
  },
  {
   "cell_type": "code",
   "execution_count": null,
   "metadata": {},
   "outputs": [],
   "source": [
    "# %load notebook1/ex_04.py"
   ]
  },
  {
   "cell_type": "markdown",
   "metadata": {},
   "source": [
    "## 3.2 The *for* statement\n",
    "\n",
    "The `for` statement enables to loop the execution of a piece of code over a sequence object (or a generator).\n",
    "\n",
    "It is used along with the `in` keyword and a colon at the end of the line.\n",
    "\n",
    "Here again, the code in loop should be indented."
   ]
  },
  {
   "cell_type": "code",
   "execution_count": null,
   "metadata": {},
   "outputs": [],
   "source": [
    "# simple loop\n",
    "for i in range(10):\n",
    "    print(i * i)"
   ]
  },
  {
   "cell_type": "markdown",
   "metadata": {},
   "source": [
    "Python provides the `enumerate` function with enables to loop on a sequence along with an index (starting at 0).\n",
    "\n",
    "At each step, the `enumerate()` function produces a tuple with 2 values: the index and the element of the sequence."
   ]
  },
  {
   "cell_type": "code",
   "execution_count": null,
   "metadata": {},
   "outputs": [],
   "source": [
    "# enumerate function\n",
    "a = 'abcdefghij'\n",
    "print(a)\n",
    "for i, e in enumerate(a):\n",
    "    print(i, e)"
   ]
  },
  {
   "cell_type": "markdown",
   "metadata": {},
   "source": [
    "<div class=\"alert alert-success\">\n",
    "    <h3><i class=\"fa fa-edit\"></i> Exercise 5 &starf;&starf;</h3>\n",
    "    <p>Take a list of all alphabetical letters and print only those corresponding to positions that are multiple of 3 (starting at 0).</p>\n",
    "</div>"
   ]
  },
  {
   "cell_type": "code",
   "execution_count": null,
   "metadata": {},
   "outputs": [],
   "source": [
    "# %load notebook1/ex_05.py"
   ]
  },
  {
   "cell_type": "code",
   "execution_count": null,
   "metadata": {},
   "outputs": [],
   "source": [
    "# looping on dict items\n",
    "d = dict(zip(list('abcde'), [1, 2, 3, 4, 5]))\n",
    "print(d)\n",
    "for key, value in d.items():\n",
    "    print(key, value)"
   ]
  },
  {
   "cell_type": "markdown",
   "metadata": {},
   "source": [
    "### List comprehension\n",
    "\n",
    "Python provides a very powerful syntactic way of building lists by comprehension."
   ]
  },
  {
   "cell_type": "code",
   "execution_count": null,
   "metadata": {},
   "outputs": [],
   "source": [
    "# list comprehension with the squares of elements of l\n",
    "mylist = [1, 2, 3, 4, 5]\n",
    "[i * i for i in mylist]"
   ]
  },
  {
   "cell_type": "code",
   "execution_count": null,
   "metadata": {},
   "outputs": [],
   "source": [
    "# list comprehension with the squares of odd elements of l\n",
    "[i * i for i in mylist if i % 2 == 1]"
   ]
  },
  {
   "cell_type": "code",
   "execution_count": null,
   "metadata": {},
   "outputs": [],
   "source": [
    "# nested list comprehension\n",
    "[i * j for i in [0, 1, 2] for j in [1, 2, 3]]"
   ]
  },
  {
   "cell_type": "markdown",
   "metadata": {},
   "source": [
    "<div class=\"alert alert-success\">\n",
    "    <h3><i class=\"fa fa-edit\"></i> Exercice 6 &starf;</h3>\n",
    "    <ul>\n",
    "        <li>Take a list of temperatures in Celsius<code>[0, 10, 20, 35]</code>, and build a list of temperatures in Fahrenheit knowing that Fahrenheit = Celsius &times; <sup>9</sup>&frasl;<sub>5</sub> + 32</li>\n",
    "    </ul>\n",
    "</div>"
   ]
  },
  {
   "cell_type": "code",
   "execution_count": null,
   "metadata": {},
   "outputs": [],
   "source": [
    "# %load notebook1/ex_06.py"
   ]
  },
  {
   "cell_type": "markdown",
   "metadata": {},
   "source": [
    "<div class=\"alert alert-success\">\n",
    "    <h3><i class=\"fa fa-edit\"></i> Exercise 7 &starf;&starf;&starf;</h3>\n",
    "<ul>\n",
    "    <li>A very simple Caesar cipher.</li>\n",
    "    <li>Take a string and produce another string with all letters shifted by 1 letter, e.g., <code>Abcd</code> → <code>Bcde</code>.</li>\n",
    "    <li>Test with the string <code>\"Python\"</code>, which string is produced?</li>\n",
    "    <li>Hint: use the <code>ord()</code> and <code>chr()</code> functions.\n",
    "</ul>\n",
    "</div>"
   ]
  },
  {
   "cell_type": "code",
   "execution_count": null,
   "metadata": {},
   "outputs": [],
   "source": [
    "# %load notebook1/ex_07.py"
   ]
  },
  {
   "cell_type": "markdown",
   "metadata": {},
   "source": [
    "<div class=\"alert alert-info\">\n",
    "    <h3><i class=\"fa fa-info-circle\"></i>  Tips</h3>\n",
    "    <ul>\n",
    "        <li>dict comprehension is also available</li>\n",
    "        <li><code>{c: ord(c) for c in \"Python\"}</code> returns</li>\n",
    "        <li><code>{'P': 80, 'y': 121, 't': 116, 'h': 104, 'o': 111, 'n': 110}</code></li>\n",
    "    </ul>\n",
    "</div>"
   ]
  },
  {
   "cell_type": "markdown",
   "metadata": {
    "tags": []
   },
   "source": [
    "## 3.3 The *break*, *continue* and *pass* statements for loops\n",
    "\n",
    "The `break` statement breaks out any *for* or *while* loop.\n",
    "\n",
    "The `continue` statement interrupt the current loop and proceed to the next one.\n",
    "\n",
    "The `pass` statement does nothing and is used when a statement is syntactically needed."
   ]
  },
  {
   "cell_type": "code",
   "execution_count": null,
   "metadata": {},
   "outputs": [],
   "source": [
    "# example\n",
    "for i in range(10):\n",
    "    if i == 3:\n",
    "        continue\n",
    "    if i > 5:\n",
    "        break\n",
    "    print(i)"
   ]
  },
  {
   "cell_type": "markdown",
   "metadata": {},
   "source": [
    "<div class=\"alert alert-info\">\n",
    "    <h3><i class=\"fa fa-info-circle\"></i>  Tips</h3>\n",
    "    <ul>\n",
    "        <li>It is possible to visualize the execution of an algorithm on the web site: <a href=\"http://pythontutor.com/\">Python Tutor</a></li>\n",
    "        <li>Copy the code above and test.</li>\n",
    "    </ul>\n",
    "</div>"
   ]
  },
  {
   "cell_type": "markdown",
   "metadata": {},
   "source": [
    "## 3.4 The *while* statement (discretional)\n",
    "\n",
    "The `while` statement enables to loop the execution of a piece of code on a boolean condition. It is followed by a colon. The code in loop is executed while the condition is considered as `True`.\n",
    "\n",
    "Here again, the code in the loop should be indented."
   ]
  },
  {
   "cell_type": "code",
   "execution_count": null,
   "metadata": {},
   "outputs": [],
   "source": [
    "a = 0\n",
    "while a < 5:\n",
    "    print(a)\n",
    "    a += 1"
   ]
  },
  {
   "cell_type": "markdown",
   "metadata": {},
   "source": [
    "<div class=\"alert alert-success\">\n",
    "    <h3><i class=\"fa fa-edit\"></i> Exercise 8 &starf;&starf;&starf;</h3>\n",
    "    <ul>\n",
    "    <li>Take an integer, e.g. 100. Implement a loop where the number is divided by 2 if it is even and added 1 if it is odd. Stop when the number is equal to 1.</li>\n",
    "    <li>Print the result at each step.</li>\n",
    "    </ul>\n",
    "</div>"
   ]
  },
  {
   "cell_type": "code",
   "execution_count": null,
   "metadata": {},
   "outputs": [],
   "source": [
    "# %load notebook1/ex_08.py"
   ]
  },
  {
   "cell_type": "markdown",
   "metadata": {},
   "source": [
    "## 3.5 The *try* statement for exception handling (discretional)\n",
    "\n",
    "The `try` statement is used to handle exceptions, i.e. any errors generated during execution. It is followed by the `except` instruction, which handles error cases.\n",
    "\n",
    "It is possible to intercept different types of error:\n",
    "- `NameError`, `TypeError`, `ZeroDivisionError`, etc.\n",
    "- with the syntax: `except ZeroDivisionError:`.\n",
    "- you can also access the Python object that materializes the error: `except ZeroDivisionError as err:`\n",
    "\n",
    "A simple example (fine error management is quite complex):"
   ]
  },
  {
   "cell_type": "code",
   "execution_count": null,
   "metadata": {},
   "outputs": [],
   "source": [
    "# simple example of error management\n",
    "\n",
    "try:\n",
    "    1 / 0\n",
    "except ZeroDivisionError:\n",
    "    print(\"zero division\")"
   ]
  },
  {
   "cell_type": "markdown",
   "metadata": {},
   "source": [
    "## 3.5 The *with* statement for exception handling (discretional)\n",
    "\n",
    "This statement will be introduced in the 4.3 File and database section."
   ]
  },
  {
   "cell_type": "markdown",
   "metadata": {},
   "source": [
    "<div class=\"alert alert-warning\">\n",
    "    <h3><i class=\"fa fa-book\"></i> Further reading</h3>\n",
    "    <ul>\n",
    "        <li>The <code>try</code> statement specifies exception handlers, see <a href=\"https://docs.python.org/3.7/reference/compound_stmts.html#try\" target=\"_blank\">The try statement</a></li>\n",
    "        <li>The <code>with</code> statement handles context manager, see <a href=\"https://docs.python.org/3.7/reference/compound_stmts.html#with\" target=\"_blank\">The with statement</a></li>\n",
    "    </ul>\n",
    "</div>"
   ]
  },
  {
   "cell_type": "markdown",
   "metadata": {},
   "source": [
    "# 4. Input and output"
   ]
  },
  {
   "cell_type": "markdown",
   "metadata": {},
   "source": [
    "## 4.1 Formatting strings\n",
    "\n",
    "Several techniques enable to format strings. \n",
    "- i) using literal string interpolation or `f-strings` (Python 3.6+)\n",
    "- ii) using the `format()` method (Python 2.6+)\n",
    "- iii) using the `%` operator (old style in Python 2 and 3, to be avoided but found in many code found on the web)\n",
    "\n",
    "All these techniques are available in Python 3.7.\n",
    "\n",
    "\n",
    "**i) Literal string interpolation or `f-strings`**\n",
    "\n",
    "With `f-strings`, identifiers and statements put between curly brackets are replaced by their string representation."
   ]
  },
  {
   "cell_type": "code",
   "execution_count": null,
   "metadata": {},
   "outputs": [],
   "source": [
    "# f-string with variables\n",
    "name = 'Mary'\n",
    "age = 25\n",
    "f'{name} is {age} years old'"
   ]
  },
  {
   "cell_type": "code",
   "execution_count": null,
   "metadata": {},
   "outputs": [],
   "source": [
    "# f-string with statements\n",
    "f'1 + 2 = {1 + 2}'"
   ]
  },
  {
   "cell_type": "markdown",
   "metadata": {},
   "source": [
    "**ii) the `format()` method**\n",
    "\n",
    "With the `format()` method, curly brackets are replaced by the named or positional arguments."
   ]
  },
  {
   "cell_type": "code",
   "execution_count": null,
   "metadata": {},
   "outputs": [],
   "source": [
    "# format with named arguments\n",
    "'{name} is {age} years old'.format(name='Mary', age=25)"
   ]
  },
  {
   "cell_type": "code",
   "execution_count": null,
   "metadata": {},
   "outputs": [],
   "source": [
    "# format with positional arguments\n",
    "'{1} is {0} years old'.format(25, 'Mary')"
   ]
  },
  {
   "cell_type": "code",
   "execution_count": null,
   "metadata": {},
   "outputs": [],
   "source": [
    "# format with implicit positional arguments\n",
    "'{} is {} years old'.format('Mary', 25)"
   ]
  },
  {
   "cell_type": "markdown",
   "metadata": {},
   "source": [
    "**iii) the `%` operator**\n",
    "\n",
    "With the `%` operator, specifiers marked with `%` are replaced by the implicit positional arguments."
   ]
  },
  {
   "cell_type": "code",
   "execution_count": null,
   "metadata": {},
   "outputs": [],
   "source": [
    "# implicit positional arguments\n",
    "'%s is %d years old' % ('Mary', 25)"
   ]
  },
  {
   "cell_type": "markdown",
   "metadata": {},
   "source": [
    "<div class=\"alert alert-success\">\n",
    "    <h3><i class=\"fa fa-edit\"></i> Exercise 9 &starf;&starf;</h3>\n",
    "    <ul>\n",
    "        <li>In the chess game, the 8 columns are named from <code>a</code> to <code>h</code> and the 8 rows are numbered from <code>1</code> to <code>8</code>.</li>\n",
    "        <li>Print all the 64 cells of a chessboard from <code>a1</code> to <code>h8</code>.</li>\n",
    "    </ul>\n",
    "</div>"
   ]
  },
  {
   "cell_type": "code",
   "execution_count": null,
   "metadata": {},
   "outputs": [],
   "source": [
    "# %load notebook1/ex_09.py"
   ]
  },
  {
   "cell_type": "markdown",
   "metadata": {},
   "source": [
    "<div class=\"alert alert-warning\">\n",
    "    <h3><i class=\"fa fa-book\"></i> Further reading</h3>\n",
    "    <p>Format Specification Mini-Language for <code>f-string</code> and <code>format()</code></p>\n",
    "    <ul>\n",
    "        <li>Alignment</li>\n",
    "        <li>Padding</li>\n",
    "        <li>Numbers</li>\n",
    "        <li>...</li>\n",
    "        <li><a href=\"https://docs.python.org/3/library/string.html#formatspec\" target=\"_blank\">Format Specification Mini-Language</a></li>\n",
    "    </ul>\n",
    "</div>"
   ]
  },
  {
   "cell_type": "markdown",
   "metadata": {},
   "source": [
    "## 4.2 User terminal\n",
    "\n",
    "The `print()` function takes any number of arguments, plus 2 keywords arguments `sep` and `end`."
   ]
  },
  {
   "cell_type": "code",
   "execution_count": null,
   "metadata": {},
   "outputs": [],
   "source": [
    "# sep\n",
    "print(1, 2, 3, sep=';')"
   ]
  },
  {
   "cell_type": "code",
   "execution_count": null,
   "metadata": {},
   "outputs": [],
   "source": [
    "# end\n",
    "for i in range(10):\n",
    "    print(i, end=' ')"
   ]
  },
  {
   "cell_type": "markdown",
   "metadata": {},
   "source": [
    "The `input()` function waits for the user to input some data. (In Python 2, the equivalent of `input()` is `raw_input()`, since the data of `input()` are interpreted by Python)."
   ]
  },
  {
   "cell_type": "code",
   "execution_count": null,
   "metadata": {},
   "outputs": [],
   "source": [
    "# input number\n",
    "age = int(input('What is your age? '))\n",
    "age"
   ]
  },
  {
   "cell_type": "markdown",
   "metadata": {},
   "source": [
    "<div class=\"alert alert-success\">\n",
    "    <h3><i class=\"fa fa-edit\"></i> Exercise 10 &starf;</h3>\n",
    "    <p>Write a piece of code which asks for an age and print child, teenager or adult accordingly.</p>\n",
    "</div>"
   ]
  },
  {
   "cell_type": "code",
   "execution_count": null,
   "metadata": {},
   "outputs": [],
   "source": [
    "# %load notebook1/ex_10.py"
   ]
  },
  {
   "cell_type": "markdown",
   "metadata": {},
   "source": [
    "<div class=\"alert alert-success\">\n",
    "    <h3><i class=\"fa fa-edit\"></i> Exercise 11 &starf;&starf;</h3>\n",
    "    <ul>\n",
    "        <li>Write a piece of code which asks for an integer and then prints the multiplication table of this integer.</li>\n",
    "        <li>Example with table of 1:</li>\n",
    "        <ul>\n",
    "            <li>1 x 1 = 1</li>\n",
    "            <li>1 x 2 = 2</li>\n",
    "            <li>1 x 3 = 3</li>\n",
    "            <li>1 x 4 = 4</li>\n",
    "            <li>1 x 5 = 5</li>\n",
    "            <li>1 x 6 = 6</li>\n",
    "            <li>1 x 7 = 7</li>\n",
    "            <li>1 x 8 = 8</li>\n",
    "            <li>1 x 9 = 9</li>\n",
    "            <li>1 x 10 = 10</li>\n",
    "        </ul>\n",
    "    </ul>\n",
    "</div>"
   ]
  },
  {
   "cell_type": "code",
   "execution_count": null,
   "metadata": {},
   "outputs": [],
   "source": [
    "# %load notebook1/ex_11.py"
   ]
  },
  {
   "cell_type": "markdown",
   "metadata": {},
   "source": [
    "## 4.3 Files and databases\n",
    "\n",
    "### 4.3.1 Standard files\n",
    "\n",
    "The `open()` function enables to open textual and binary files in diverse modes (read, write, append). The function takes the name of the file, the open mode (`'rt'` by default), the encoding (UTF-8 by default). It is possible to provide another encoding, for instance `'latin-1'`."
   ]
  },
  {
   "cell_type": "markdown",
   "metadata": {},
   "source": [
    "Opening mode | Meaning\n",
    "- | -\n",
    "r | read (by default)\n",
    "w | create and write\n",
    "a | create and append\n",
    "t | text (by default)\n",
    "b | binary"
   ]
  },
  {
   "cell_type": "markdown",
   "metadata": {},
   "source": [
    "The function returns an object which enables to access to the file. After used, a file need to be closed in order to free it. The context manager defined by the `with` statement enables to free automatically any resource."
   ]
  },
  {
   "cell_type": "code",
   "execution_count": null,
   "metadata": {},
   "outputs": [],
   "source": [
    "# read an entire file\n",
    "with open(\"data/example.txt\") as f:\n",
    "    content = f.read()\n",
    "    print(content)"
   ]
  },
  {
   "cell_type": "code",
   "execution_count": null,
   "metadata": {},
   "outputs": [],
   "source": [
    "# read a file line by line\n",
    "with open(\"data/example.txt\") as f:\n",
    "    for line in f:\n",
    "        print(line)  # .rstrip(\"\\n\")"
   ]
  },
  {
   "cell_type": "code",
   "execution_count": null,
   "metadata": {},
   "outputs": [],
   "source": [
    "# create and write a file\n",
    "\n",
    "with open('data/data.txt', 'w') as f:\n",
    "    for idx, letter in enumerate(\"abcdefgh\"):\n",
    "        f.write(f'{idx} - {letter}\\n')"
   ]
  },
  {
   "cell_type": "code",
   "execution_count": null,
   "metadata": {},
   "outputs": [],
   "source": [
    "# create and write a file\n",
    "\n",
    "with open(\"data/data.txt\") as f:\n",
    "    content = f.read()\n",
    "    print(content)"
   ]
  },
  {
   "cell_type": "markdown",
   "metadata": {},
   "source": [
    "### 4.3.2 JSON files (discretional)\n",
    "\n",
    "The JSON (JavaScript Object Notation) format is useful to store and share data accross computer languages.\n",
    "\n",
    "The `json` module of the standard library manages such operations. (See modules in next paragraph)."
   ]
  },
  {
   "cell_type": "code",
   "execution_count": null,
   "metadata": {},
   "outputs": [],
   "source": [
    "# creatin and object\n",
    "data = {'language': 'Python', 'version': [3, 10]}\n",
    "data"
   ]
  },
  {
   "cell_type": "code",
   "execution_count": null,
   "metadata": {},
   "outputs": [],
   "source": [
    "# save it to json\n",
    "import json\n",
    "with open('example.json', 'w') as f:\n",
    "    json.dump(data, f)\n",
    "    \n",
    "# load it from json\n",
    "with open('example.json') as f:\n",
    "    data2 = json.load(f)\n",
    "\n",
    "print(data2 == data)"
   ]
  },
  {
   "cell_type": "markdown",
   "metadata": {},
   "source": [
    "### 4.3.3 Databases (discretional)\n",
    "\n",
    "Python is able to access to most of standard databases (e.g., SQLite, MySQL, PostgreSQL, DuckDB, SQLServer, Access, Oracle).\n",
    "\n",
    "There are several techniques to access to such databases:\n",
    "- using a dedicated module\n",
    "- using the ODBC (open data base connectivity) protocol and a driver\n",
    "- using the SQLAlchemy module + a dedicated module or an ODBC connexion"
   ]
  },
  {
   "cell_type": "code",
   "execution_count": null,
   "metadata": {},
   "outputs": [],
   "source": [
    "# example with SQLite and a dedicated module\n",
    "import os\n",
    "import sqlite3\n",
    "\n",
    "# remove 'test.db' file if exists\n",
    "if os.path.exists('test.db'):\n",
    "    os.remove('test.db')\n",
    "    \n",
    "# create and fill a small database\n",
    "with sqlite3.connect(\"test.db\") as db:\n",
    "    cursor = db.cursor()\n",
    "    cursor.execute('''CREATE TABLE clients\n",
    "                    (id integer, lastname text, firstname text)''')\n",
    "    cursor.execute('''INSERT INTO clients VALUES (1, 'Smith', 'John')''')\n",
    "    cursor.execute('''INSERT INTO clients VALUES (2, 'Doe', 'John')''')\n",
    "    cursor.execute('''INSERT INTO clients VALUES (3, 'Smith', 'Ann')''')\n",
    "    db.commit()\n",
    "    print(\"database created\")"
   ]
  },
  {
   "cell_type": "code",
   "execution_count": null,
   "metadata": {},
   "outputs": [],
   "source": [
    "# open and request the database\n",
    "with sqlite3.connect(\"test.db\") as db:\n",
    "    cursor = db.cursor()\n",
    "    cursor.execute('''SELECT * FROM clients WHERE lastname=?''', ('Smith',))\n",
    "    row = cursor.fetchone()\n",
    "    while row:\n",
    "        print(row)\n",
    "        row = cursor.fetchone()"
   ]
  },
  {
   "cell_type": "markdown",
   "metadata": {},
   "source": [
    "## 5. Functions\n",
    "\n",
    "### 5.1 Summary\n",
    "\n",
    "\n",
    "What is a function in Python:\n",
    "\n",
    "- **Reusable Code Blocks**: Functions are reusable blocks of code designed to perform a specific task, reducing redundancy and improving code organization.\n",
    "- **Definition and Invocation**: Defined using the `def` keyword followed by a function name and parentheses, and they are invoked by calling the function name with parentheses.\n",
    "- **Parameters and Arguments**: Functions can accept parameters, which allow them to receive input values (arguments) and operate on them.\n",
    "- **Return Values**: Functions can return values using the `return` statement, allowing the results of their computations to be used elsewhere in the program.\n",
    "- **Scope**: Functions have their own local scope, meaning variables defined within a function are not accessible outside of it unless returned or declared global.\n",
    "- **Higher-order Functions**: Functions in Python can be passed as arguments to other functions, returned as values, and assigned to variables, supporting functional programming paradigms.\n",
    "\n",
    "**Template of a function**\n",
    "\n",
    "```python\n",
    "# function definition\n",
    "def my_function(x, y, z=1):\n",
    "    \"\"\"This function return the sum of x and y multiplied by z.\n",
    "       By default z is 1.\"\"\"\n",
    "    \n",
    "    result = (x + y) * z\n",
    "    \n",
    "    return result\n",
    "\n",
    "# function call\n",
    "my_function(1, 2, 3) => ??? (9)\n",
    "\n",
    "```"
   ]
  },
  {
   "cell_type": "markdown",
   "metadata": {},
   "source": [
    "### 5.2 Build-in functions\n",
    "\n",
    "The Python language defines a number of build-in functions.\n",
    "\n",
    "We have already encountered some of them: `print()`, `type()`, `abs()`, `len()`, `min()`, `max()`, `sum()`, `sorted()`, `list()`, `tuple()`, `range()`, `ord()`, `chr()`, `str()`, `dict()`, `zip()`, `set()`. \n",
    "\n",
    "### 5.3 User-defined functions\n",
    "\n",
    "Instead of repeating the same statements many times, a user can define a function where the statements are written once, and then the function is called anytime.\n",
    "\n",
    "A function is defined by using the statement `def` followed by the name of the function, the arguments of the function and ending the line with a colon.\n",
    "\n",
    "The code of the function itself should be indented. It is possible to return a value by using the `return` statement, if not, the value `None` is returned by the function.\n",
    "\n",
    "Then the function can be called by using its name and providing some arguments between parenthesis.\n",
    "\n",
    "It is possible to define functions with an arbitrary number of arguments: e.g., the `print()` function.\n",
    "\n",
    "It is possible to define default values for some arguments which are used when the argument is not given."
   ]
  },
  {
   "cell_type": "code",
   "execution_count": null,
   "metadata": {},
   "outputs": [],
   "source": [
    "# example of repeated code\n",
    "\n",
    "temps = [0, 10, 20, 35]\n",
    "\n",
    "for c in temps:\n",
    "    f = c * 9 / 5 + 32  # converts Celsius to Fahrenheit\n",
    "    print(c, f)\n",
    "    \n",
    "print()\n",
    "\n",
    "for c in range(0, 50, 5):\n",
    "    f = c * 9 / 5 + 32  # converts Celsius to Fahrenheit\n",
    "    print(c, f)"
   ]
  },
  {
   "cell_type": "code",
   "execution_count": null,
   "metadata": {},
   "outputs": [],
   "source": [
    "# same with a function\n",
    "\n",
    "def celsius2fahrenheit(c):\n",
    "    \"\"\"converts Celsius to Fahrenheit\"\"\"\n",
    "    f = c * 9 / 5 + 32\n",
    "    return f"
   ]
  },
  {
   "cell_type": "code",
   "execution_count": null,
   "metadata": {},
   "outputs": [],
   "source": [
    "# test with 0\n",
    "celsius2fahrenheit(0)"
   ]
  },
  {
   "cell_type": "code",
   "execution_count": null,
   "metadata": {},
   "outputs": [],
   "source": [
    "# same code tan above with function call\n",
    "\n",
    "temps = [0, 10, 20, 35]\n",
    "\n",
    "for c in temps:\n",
    "    f = celsius2fahrenheit(c)\n",
    "    print(c, f)\n",
    "    \n",
    "print()\n",
    "\n",
    "for c in range(0, 50, 5):\n",
    "    print(c, celsius2fahrenheit(c))"
   ]
  },
  {
   "cell_type": "code",
   "execution_count": null,
   "metadata": {},
   "outputs": [],
   "source": [
    "# in list comprehension\n",
    "\n",
    "[celsius2fahrenheit(c) for c in temps]"
   ]
  },
  {
   "cell_type": "code",
   "execution_count": null,
   "metadata": {},
   "outputs": [],
   "source": [
    "# docstring of the function\n",
    "\n",
    "celsius2fahrenheit?"
   ]
  },
  {
   "cell_type": "code",
   "execution_count": null,
   "metadata": {},
   "outputs": [],
   "source": [
    "# function with default values\n",
    "\n",
    "def area(length=20, width=10):\n",
    "    return length * width"
   ]
  },
  {
   "cell_type": "code",
   "execution_count": null,
   "metadata": {},
   "outputs": [],
   "source": [
    "# all arguments are given\n",
    "area(30, 5)"
   ]
  },
  {
   "cell_type": "code",
   "execution_count": null,
   "metadata": {},
   "outputs": [],
   "source": [
    "# only first argument is given\n",
    "area(30)"
   ]
  },
  {
   "cell_type": "code",
   "execution_count": null,
   "metadata": {},
   "outputs": [],
   "source": [
    "# only second argument is given\n",
    "area(width=20)"
   ]
  },
  {
   "cell_type": "code",
   "execution_count": null,
   "metadata": {},
   "outputs": [],
   "source": [
    "# no argument is given\n",
    "area()"
   ]
  },
  {
   "cell_type": "markdown",
   "metadata": {},
   "source": [
    "### lambda and functional programming (discretional)\n",
    "\n",
    "The `lambda` statement enables to create anonymous functions which can be used punctually in a piece of code."
   ]
  },
  {
   "cell_type": "code",
   "execution_count": null,
   "metadata": {},
   "outputs": [],
   "source": [
    "# creation of a list of tuples\n",
    "# planets names\n",
    "# corresponding god names in greek\n",
    "# size\n",
    "planets = list(zip(['Mercury', 'Venus', 'Earth', 'Mars', 'Jupiter', 'Saturn', 'Uranus', 'Neptune'],\n",
    "                   ['Hermes', 'Aphrodite', 'Gaya', 'Ares', 'Zeus', 'Cronos', 'Ouranos', 'Poseidon'],\n",
    "                   [2439.7, 6051.8, 6371.0, 3389.5, 69911.0, 58232.0, 25362.0, 24622.0]))\n",
    "planets"
   ]
  },
  {
   "cell_type": "code",
   "execution_count": null,
   "metadata": {},
   "outputs": [],
   "source": [
    "# sorting a using the first element of tuples\n",
    "planets.sort(key=lambda x: x[0])\n",
    "planets"
   ]
  },
  {
   "cell_type": "code",
   "execution_count": null,
   "metadata": {},
   "outputs": [],
   "source": [
    "# sorting a using the second element of tuples\n",
    "planets.sort(key=lambda x: x[1])\n",
    "planets"
   ]
  },
  {
   "cell_type": "code",
   "execution_count": null,
   "metadata": {},
   "outputs": [],
   "source": [
    "# sorting a using the third element of tuples\n",
    "planets.sort(key=lambda x: x[2])\n",
    "planets"
   ]
  },
  {
   "cell_type": "markdown",
   "metadata": {},
   "source": [
    "<div class=\"alert alert-success\">\n",
    "    <h3><i class=\"fa fa-edit\"></i> Exercise 12 &starf;&starf;</h3>\n",
    "    <ul>\n",
    "        <li>Implement a standard function which computes the cube of a number. Test it with positive and negative numbers.</li>\n",
    "        <li>Modify the function so that de default value is 1. Test it with no argument.</li>\n",
    "    </ul>\n",
    "</div>"
   ]
  },
  {
   "cell_type": "code",
   "execution_count": null,
   "metadata": {},
   "outputs": [],
   "source": [
    "# %load notebook1/ex_12.py"
   ]
  },
  {
   "cell_type": "markdown",
   "metadata": {},
   "source": [
    "Python defines 2 built-in functions which enable functionnal programming:\n",
    "- `map(function, sequence)` provides an iterator with the application of the function on each element of the sequence\n",
    "- `filter(function, sequence)` provides an iterator with the sequence for which the function returns True"
   ]
  },
  {
   "cell_type": "code",
   "execution_count": null,
   "metadata": {},
   "outputs": [],
   "source": [
    "# map example\n",
    "for e in map(lambda x: x * x, range(10)):\n",
    "    print(e)"
   ]
  },
  {
   "cell_type": "code",
   "execution_count": null,
   "metadata": {},
   "outputs": [],
   "source": [
    "# filter example\n",
    "for e in filter(lambda x: x % 2 == 1, range(10)):\n",
    "    print(e)"
   ]
  },
  {
   "cell_type": "markdown",
   "metadata": {},
   "source": [
    "<div class=\"alert alert-success\">\n",
    "    <h3><i class=\"fa fa-edit\"></i> Exercise 13 &starf;&starf;</h3>\n",
    "    <ul>\n",
    "        <li>Take the loop defined in Exercise 7 of session 1 and implement it as a function which takes the integer as argument.</li>\n",
    "        <li>Run it with 1000.</li>\n",
    "        <li>Run it with all multiples of 100 until 1000 included.</li>\n",
    "    </ul>\n",
    "</div>"
   ]
  },
  {
   "cell_type": "code",
   "execution_count": null,
   "metadata": {},
   "outputs": [],
   "source": [
    "# %load notebook1/ex_13.py"
   ]
  },
  {
   "cell_type": "markdown",
   "metadata": {},
   "source": [
    "<div class=\"alert alert-success\">\n",
    "    <h3><i class=\"fa fa-edit\"></i> Exercise 14 &starf;&starf;&starf;</h3>\n",
    "    <ul>\n",
    "        <li>Implement by yourself a function <code>my_max()</code> which takes a sequence of numbers as input and returns the largest item and test it.</li>\n",
    "        <li>Add a print statement so as to understand how your code is running</li>\n",
    "    </ul>\n",
    "</div>"
   ]
  },
  {
   "cell_type": "code",
   "execution_count": null,
   "metadata": {},
   "outputs": [],
   "source": [
    "# %load notebook1/ex_14.py"
   ]
  },
  {
   "cell_type": "markdown",
   "metadata": {},
   "source": [
    "<div class=\"alert alert-info\">\n",
    "    <h3><i class=\"fa fa-info-circle\"></i>  Tips</h3><br />\n",
    "    Remember that <b>functions</b> improve:\n",
    "    <ul>\n",
    "        <li> <b>reusability</b> of code: write once, run everywhere</li>\n",
    "        <li> <b>readibility</b> of code: do not enter into details of implementation when it is not necessary</li>\n",
    "        <li> <b>maintainability</b> of code: debugging, improving efficiency or extending functionalities are localized</li>\n",
    "    </ul>\n",
    "</div>"
   ]
  },
  {
   "cell_type": "markdown",
   "metadata": {},
   "source": [
    "## 6. Classes and instances\n",
    "\n",
    "### 6.1 Summary\n",
    "\n",
    "What is a class in Python:\n",
    "- **Blueprint for Objects**: A Python class is a blueprint for creating objects (instances), encapsulating data and behavior associated with that data.\n",
    "- **Attributes and Methods**: It contains attributes (instance variables) and methods (functions) that define the properties and behaviors of the objects created from the class.\n",
    "- **Encapsulation**: Classes support encapsulation, allowing data and functions to be bundled together.\n",
    "- **Inheritance**: Classes can inherit attributes and methods from other classes, enabling code reuse and the creation of hierarchical class structures.\n",
    "- **Instantiation**: Objects are created from classes through instantiation, which involves calling the class as if it were a function.\n",
    "- **Method Invocation**: Methods of a class are invoked using the dot notation on an instance of the class, allowing objects to perform actions defined within the class."
   ]
  },
  {
   "cell_type": "markdown",
   "metadata": {},
   "source": [
    "**Template of a class**\n",
    "    \n",
    "```python\n",
    "# class definition\n",
    "class Person():\n",
    "    \"\"\"This class represents a person with a name and an age.\n",
    "    A person is able to say hello to a given name by giving his/her name and age.\"\"\"\n",
    "    \n",
    "    def __init__(self, string, number):\n",
    "        \"\"\"Initialization method.\n",
    "        Here, we store in the \"name\" instance variable the string passed when creating an instance,\n",
    "        and in the \"age\" instance variable the number passed.\"\"\"\n",
    "        \n",
    "        self.name = string\n",
    "        self.age = number\n",
    "        \n",
    "    def say_hello_to(self, string):\n",
    "        \"\"\"\"This method returns a string 'Hello ..., my name is ..., and I am ... years old!'\"\"\"\n",
    "        \n",
    "        return f\"Hello {string}, my name is {self.name}, and I am {self.age} years old!\"\n",
    "\n",
    "# instance creation, looks like a function call\n",
    "person1 = Person(\"Mike\", 20)\n",
    "\n",
    "# method invocation, using the dot notation\n",
    "person1.say_hello_to(\"Mary\") => ??? (\"Hello Mary, my name is Mike, and I am 20 years old!\")\n",
    "\n",
    "# with another object\n",
    "person2 = Person(\"Emma\", 30)\n",
    "person2.say_hello_to(\"Mike\") => ??? (\"Hello Mike, my name is Emma, and I am 30 years old!\")\n",
    "\n",
    "# the dot notation is a shortcut (or a syntactic sugar) for\n",
    "Person.say_hello_to(person1, \"Mary\") => ??? (\"Hello Mary, my name is Mike, and I am 20 years old!\")\n",
    "```"
   ]
  },
  {
   "cell_type": "markdown",
   "metadata": {},
   "source": [
    "### 6.2 Examples (discretional section)"
   ]
  },
  {
   "cell_type": "markdown",
   "metadata": {},
   "source": [
    "**Class Point**"
   ]
  },
  {
   "cell_type": "markdown",
   "metadata": {},
   "source": [
    "Let us define the `Point` class which represents points in 2 dimensions.\n",
    "\n",
    "An instance of `Point` has 2 instance variables `x` and `y` which represent the coordinates of the point.\n",
    "\n",
    "The class `Point` defines also few methods. "
   ]
  },
  {
   "cell_type": "code",
   "execution_count": null,
   "metadata": {},
   "outputs": [],
   "source": [
    "# small example : the Point class\n",
    "\n",
    "class Point :\n",
    "    \"\"\"Class Point in 2-D\"\"\"\n",
    "    \n",
    "    def __init__(self, x=0.0, y=0.0):\n",
    "        \"\"\"Initialize a point with x and y\"\"\"\n",
    "        self.x = x\n",
    "        self.y = y\n",
    "        \n",
    "    def __str__(self):\n",
    "        \"\"\"Print a point as (x, y)\"\"\"\n",
    "        return f\"({self.x}, {self.y})\"\n",
    "    \n",
    "    def is_diagonal(self):\n",
    "        \"\"\"Returns True if x == y\"\"\"\n",
    "        return self.x == self.y\n",
    "    \n",
    "    def transpose(self):\n",
    "        \"\"\"Returns a new Point(y, x)\"\"\"\n",
    "        return Point(self.y, self.x)\n",
    "    \n",
    "    def middle_with(self, autrePoint):\n",
    "        \"\"\"Returns a new point in the middle of 2 points\"\"\"\n",
    "        return Point((self.x + autrePoint.x) / 2, (self.y + autrePoint.y) / 2)\n",
    "    "
   ]
  },
  {
   "cell_type": "markdown",
   "metadata": {},
   "source": [
    "An instance of a class is created by calling its class as a function with the appropriate arguments."
   ]
  },
  {
   "cell_type": "code",
   "execution_count": null,
   "metadata": {},
   "outputs": [],
   "source": [
    "# instance creation\n",
    "\n",
    "p1 = Point()\n",
    "print(p1)"
   ]
  },
  {
   "cell_type": "code",
   "execution_count": null,
   "metadata": {},
   "outputs": [],
   "source": [
    "# accessing attribute\n",
    "\n",
    "p1.x"
   ]
  },
  {
   "cell_type": "code",
   "execution_count": null,
   "metadata": {},
   "outputs": [],
   "source": [
    "# accessing attribute\n",
    "\n",
    "p1.y"
   ]
  },
  {
   "cell_type": "code",
   "execution_count": null,
   "metadata": {},
   "outputs": [],
   "source": [
    "# executing method\n",
    "\n",
    "p1.is_diagonal()"
   ]
  },
  {
   "cell_type": "code",
   "execution_count": null,
   "metadata": {},
   "outputs": [],
   "source": [
    "# other instance\n",
    "\n",
    "p2 = Point(10, 6)\n",
    "p2.is_diagonal()"
   ]
  },
  {
   "cell_type": "code",
   "execution_count": null,
   "metadata": {},
   "outputs": [],
   "source": [
    "# transposing\n",
    "\n",
    "p3 = p2.transpose()\n",
    "print(p3)"
   ]
  },
  {
   "cell_type": "code",
   "execution_count": null,
   "metadata": {},
   "outputs": [],
   "source": [
    "# middle\n",
    "\n",
    "p4 = p2.middle_with(p3)\n",
    "print(p4)"
   ]
  },
  {
   "cell_type": "code",
   "execution_count": null,
   "metadata": {},
   "outputs": [],
   "source": [
    "# diagonal?\n",
    "\n",
    "p4.is_diagonal()"
   ]
  },
  {
   "cell_type": "markdown",
   "metadata": {},
   "source": [
    "<div class=\"alert alert-info\">\n",
    "    <h3><i class=\"fa fa-info-circle\"></i>  Tips</h3><br />\n",
    "    A method call such as <code>p1.is_diagonal()</code> is equivalent to <code>Point.is_diagonal(p1)</code>. In that case, the object <code>p1</code> is unified to the variable <code>self</code> of the method definition.\n",
    "    \n",
    "The dot notation is a mean to simplify method calls.\n",
    "</div>"
   ]
  },
  {
   "cell_type": "markdown",
   "metadata": {},
   "source": [
    "**Class Polygon**"
   ]
  },
  {
   "cell_type": "markdown",
   "metadata": {},
   "source": [
    "It is possible to create a new class `Polygon` which will reuse the `Point` class.\n",
    "\n",
    "A `Polygon` instance is compound of a list of `Point` instances.\n",
    "\n",
    "The `Polygon` class defines methods which enable to add some `Point` instances to the `Polygon` instance.\n",
    "\n",
    "Look at the chain of methods: `Polygon.add_polygon()` &#8594; `Polygon.add_points()` &#8594; `Polygon.add_point()` &#8594; `list.append()`"
   ]
  },
  {
   "cell_type": "code",
   "execution_count": null,
   "metadata": {},
   "outputs": [],
   "source": [
    "class Polygon:\n",
    "    \"\"\"Class Polygon as a collection of points\"\"\"\n",
    "    \n",
    "    names = {0:\"empty\", 1:\"point\", 2:\"segment\", 3:\"triangle\", 4:\"quadrilateral\", 5:\"pentagon\"}\n",
    "    \n",
    "    def __init__(self):\n",
    "        \"\"\"Initialize the list of points\"\"\"\n",
    "        self.points = []\n",
    "        \n",
    "        \n",
    "    def __str__(self):\n",
    "        \"\"\"Print a polygone as Poly[(x, y), ...]\"\"\"\n",
    "        return (f\"Poly[{', '.join([str(p) for p in self.points])}]\")\n",
    "    \n",
    "    \n",
    "    def add_point(self, point):\n",
    "        \"\"\"Add a point to the polygon if not exists\"\"\"\n",
    "        if point not in self.points: # ensure that all points are different\n",
    "            self.points.append(point)\n",
    "            \n",
    "            \n",
    "    def add_points(self, points):\n",
    "        \"\"\"Add several points to the polygon\"\"\"\n",
    "        for point in points:\n",
    "            self.add_point(point)\n",
    "            \n",
    "            \n",
    "    def add_polygon(self, polygon):\n",
    "        \"\"\"Add the points of another polygon to the polygon\"\"\"\n",
    "        self.add_points(polygon.points)\n",
    "        \n",
    "        \n",
    "    def name(self):\n",
    "        \"\"\"Returns the name of the polygon\"\"\"\n",
    "        nb = len(self.points)\n",
    "        return self.names.get(nb, \"polygon\")"
   ]
  },
  {
   "cell_type": "code",
   "execution_count": null,
   "metadata": {},
   "outputs": [],
   "source": [
    "# instance creation\n",
    "\n",
    "p = Polygon()\n",
    "print(p, p.name())"
   ]
  },
  {
   "cell_type": "code",
   "execution_count": null,
   "metadata": {},
   "outputs": [],
   "source": [
    "# adding points\n",
    "\n",
    "p.add_point(p1)\n",
    "p.add_point(p2)\n",
    "print(p, p.name())"
   ]
  },
  {
   "cell_type": "code",
   "execution_count": null,
   "metadata": {},
   "outputs": [],
   "source": [
    "# other instance\n",
    "\n",
    "q = Polygon()\n",
    "q.add_points([p2, p3, p4])\n",
    "print(q, q.name())"
   ]
  },
  {
   "cell_type": "code",
   "execution_count": null,
   "metadata": {},
   "outputs": [],
   "source": [
    "# adding polygons\n",
    "\n",
    "p.add_polygon(q)\n",
    "print(p, p.name())"
   ]
  },
  {
   "cell_type": "markdown",
   "metadata": {},
   "source": [
    "<div class=\"alert alert-success\">\n",
    "    <h3><i class=\"fa fa-edit\"></i> Exercise 15 &starf;&starf;</h3>\n",
    "    <ul>\n",
    "        <li>Add the <i>dunder method</i> <code>__mul__()</code> to the Point class for the multiplication of a point's coordinates by a number</li>\n",
    "    </ul>\n",
    "</div>"
   ]
  },
  {
   "cell_type": "code",
   "execution_count": null,
   "metadata": {},
   "outputs": [],
   "source": [
    "# %load notebook1/ex_15.py"
   ]
  },
  {
   "cell_type": "markdown",
   "metadata": {},
   "source": [
    "# 7. Modules\n",
    "\n",
    "Modules are extensions of the Python language. A module is made of one or several `.py` files which define objects, functions and classes.\n",
    "\n",
    "Different kinds of mudoles exist:\n",
    "- Modules of the Python standard library, i.e. `sys`, `sys`, `math`, `re`\n",
    "- Open sources modules, i.e. `numpy`, `scipy`, `matplotlib`, `pandas`\n",
    "- In-house modules implemented by anyone.\n",
    "\n",
    "The `import` statement followed by the name of a module (or its path separated by `.`) enables to import a module.\n",
    "\n",
    "By default, the namespace is the name of the module, i.e., any object, function or class defined by the module need to be prefixed by the name of the module. It is possible to change the name of a module when it is imported. It is possible to import directly some of all definitions of a module but warn collisions of names. It is also possible to import selectively few objects defined in a module.\n",
    "\n",
    "When a module is first imported, it is precompiled in a `.pyc` file which will be directly used for further calls, unless the code of the module has been changed and need to be compiled again."
   ]
  },
  {
   "cell_type": "code",
   "execution_count": null,
   "metadata": {},
   "outputs": [],
   "source": [
    "# example: this module = Python philosophy\n",
    "import this"
   ]
  },
  {
   "cell_type": "code",
   "execution_count": null,
   "metadata": {},
   "outputs": [],
   "source": [
    "# example\n",
    "import math\n",
    "math.pi"
   ]
  },
  {
   "cell_type": "code",
   "execution_count": null,
   "metadata": {},
   "outputs": [],
   "source": [
    "# example\n",
    "import math as m\n",
    "print(m.factorial(100))"
   ]
  },
  {
   "cell_type": "code",
   "execution_count": null,
   "metadata": {},
   "outputs": [],
   "source": [
    "# example\n",
    "from math import factorial as fact\n",
    "print(fact(200))"
   ]
  },
  {
   "cell_type": "markdown",
   "metadata": {},
   "source": [
    "<div class=\"alert alert-success\">\n",
    "    <h3><i class=\"fa fa-edit\"></i> Exercise 16 &starf;</h3>\n",
    "    <p>Define your own module. Take this code and save it in a file named <code>'hyp.py'</code>.</p>\n",
    "    <pre>\n",
    "# coding: utf-8\n",
    "from math import sqrt\n",
    "\n",
    "def hypothenuse(x, y):\n",
    "    return sqrt(x * x + y * y)\n",
    "    </pre>\n",
    "    <p>Then import the function and use it.</p>\n",
    "</div>"
   ]
  },
  {
   "cell_type": "code",
   "execution_count": null,
   "metadata": {},
   "outputs": [],
   "source": [
    "# %load notebook1/ex_16.py"
   ]
  },
  {
   "cell_type": "markdown",
   "metadata": {},
   "source": [
    "<div class=\"alert alert-warning\">\n",
    "<h3><i class=\"fa fa-book\"></i> Further reading</h3>\n",
    "    <p>In addition of DataCamp, you may find many Python exercises in the following website: <a href=\"https://www.w3resource.com/python-exercises/\" target=\"_blank\">Python exercises with solutions</a></p>\n",
    "</div>"
   ]
  },
  {
   "cell_type": "markdown",
   "metadata": {},
   "source": [
    "# 8. Glimpse of the standard library  (discretional section)\n",
    "\n",
    "This paragraph gives a very small glimpse of the standard library, since it contains more than 200 modules.\n",
    "\n",
    "Few modules and few features which are frequently encountered are listed here."
   ]
  },
  {
   "cell_type": "markdown",
   "metadata": {},
   "source": [
    "## 8.1 sys - System-specific parameters and functions\n",
    "\n",
    "This module provides access to some variables used or maintained by the interpreter and to functions that interact strongly with the interpreter.\n",
    "\n",
    "### sys.argv\n",
    "\n",
    "The list of command line arguments passed to a Python script. `sys.argv[0]` is the script name. Other arguments are available in `sys.argv[1]`, `sys.argv[2]`, etc.\n",
    "\n",
    "See https://docs.python.org/3/library/sys.html."
   ]
  },
  {
   "cell_type": "markdown",
   "metadata": {},
   "source": [
    "## 8.2 os - Miscellaneous operating system interfaces\n",
    "\n",
    "This module provides a portable way of using operating system dependent functionality.\n",
    "\n",
    "See https://docs.python.org/3/library/os.html.\n",
    "\n",
    "### os.listdir(path)\n",
    "\n",
    "Return a list containing the names of the entries in the directory given by path.\n",
    "\n",
    "### os.path - Common pathname manipulations\n",
    "\n",
    "This sub-module implements some useful functions on pathnames.\n",
    "\n",
    "See, https://docs.python.org/3/library/os.path.html#module-os.path.\n",
    "\n",
    "####  os.path.exists(path)\n",
    "\n",
    "Return True if path refers to an existing path or an open file descriptor.\n",
    "\n",
    "#### os.path.join(path, \\*paths)\n",
    "\n",
    "Join one or more path components intelligently."
   ]
  },
  {
   "cell_type": "markdown",
   "metadata": {},
   "source": [
    "## 8.3 glob - Unix style pathname pattern expansion\n",
    "\n",
    "The glob module finds all the pathnames matching a specified pattern according to the rules used by the Unix shell, although results are returned in arbitrary order.\n",
    "\n",
    "See, https://docs.python.org/3/library/glob.html\n",
    "\n",
    "#### glob.glob(path)\n",
    "\n",
    "Return a possibly-empty list of path names that match path (which may include the `*` wild character)."
   ]
  },
  {
   "cell_type": "markdown",
   "metadata": {},
   "source": [
    "## 8.4 re - Regular expression operations\n",
    "\n",
    "This module provides regular expression matching operations similar to those found in Perl.\n",
    "\n",
    "See, https://docs.python.org/3/library/re.html."
   ]
  },
  {
   "cell_type": "markdown",
   "metadata": {},
   "source": [
    "## 8.5 datetime - Basic date and time types\n",
    "\n",
    "This module supplies classes for manipulating dates and times in both simple and complex ways.\n",
    "\n",
    "See, https://docs.python.org/3/library/datetime.html.\n",
    "\n",
    "See also modules: time, pytz, dateutil, calendar, etc."
   ]
  },
  {
   "cell_type": "markdown",
   "metadata": {},
   "source": [
    "## 8.6 json - JSON encoder and decoder\n",
    "\n",
    "This module provides reading and writing facilities for the JSON format.\n",
    "\n",
    "See, https://docs.python.org/3/library/json.html."
   ]
  },
  {
   "cell_type": "markdown",
   "metadata": {},
   "source": [
    "## 8.7 pickle - Python object serialization\n",
    "\n",
    "This module implements binary protocols for serializing and de-serializing a Python object structure.\n",
    "\n",
    "See, https://docs.python.org/3/library/pickle.html."
   ]
  },
  {
   "cell_type": "markdown",
   "metadata": {},
   "source": [
    "## 8.8 collections - Container datatypes\n",
    "\n",
    "This module implements specialized container datatypes providing alternatives to Python’s general purpose built-in containers, dict, list, set, and tuple.\n",
    "\n",
    "See, https://docs.python.org/3/library/collections.html.\n",
    "\n",
    "### collections.defaultdict\n",
    "\n",
    "dict subclass that calls a factory function to supply missing values.\n",
    "\n",
    "### collections.Counter\n",
    "\n",
    "dict subclass for counting hashable objects."
   ]
  },
  {
   "cell_type": "markdown",
   "metadata": {},
   "source": [
    "## 8.9 urllib.request - Extensible library for opening URLs\n",
    "\n",
    "This module module defines functions and classes which help in opening URLs (mostly HTTP) in a complex world — basic and digest authentication, redirections, cookies and more.\n",
    "\n",
    "See, https://docs.python.org/3/library/urllib.request.html#module-urllib.request."
   ]
  },
  {
   "cell_type": "markdown",
   "metadata": {},
   "source": [
    "## 8.10 IPython - IPython: Productive Interactive Computing\n",
    "\n",
    "IPython provides a rich architecture for interactive computing (not in the standard library).\n",
    "\n",
    "See, https://ipython.org/.\n",
    "\n",
    "### IPython.display\n",
    "\n",
    "This sub-module provides a public API for display tools in IPython.\n",
    "\n",
    "See, https://ipython.readthedocs.io/en/stable/api/generated/IPython.display.html."
   ]
  },
  {
   "cell_type": "markdown",
   "metadata": {},
   "source": [
    "# Summary\n",
    "\n",
    "Python includes several control flow statements:\n",
    " - **if** statement along with (**elif** and **else**): enables to execute conditionnaly a piece of code \n",
    " - **for** statement along with (**in**): enables to loop over sequences (or generators)\n",
    " - **while** statement: enables to loop until a condition gets False\n",
    "\n",
    "Python includes input and output functionalities:\n",
    " - strings formatting using `f-strings` or the `format()` method with the `\"{}\"` notation\n",
    " - `print()` and `input()` functions\n",
    " - open() function for files reading or writing\n",
    " - database management\n",
    " \n",
    " Python implements functions:\n",
    " - `def` is used to define a function\n",
    " - positional arguments are mandatory\n",
    " - keywords arguments get a default value\n",
    " \n",
    "  Python implements classes:\n",
    " - `class` is used to define a class\n",
    " - a class is a data model which defines attributes (instance variables) and some behavior (methods). \n",
    " - instance creation is performed by using the class as a function\n",
    " - `def` is used to define a method within a class\n",
    " - an instance variable is accessed and a method is invoked by using the dot notation\n",
    " \n",
    " Python handles modules or packages\n",
    " - a module is an extension of the Python language\n",
    " - a module is activated by using the import statement\n",
    " - the Python Standard Library defines a number of useful modules\n",
    " - other modules can be found on https://pypi.org"
   ]
  }
 ],
 "metadata": {
  "kernelspec": {
   "display_name": "Python 3 (ipykernel)",
   "language": "python",
   "name": "python3"
  },
  "language_info": {
   "codemirror_mode": {
    "name": "ipython",
    "version": 3
   },
   "file_extension": ".py",
   "mimetype": "text/x-python",
   "name": "python",
   "nbconvert_exporter": "python",
   "pygments_lexer": "ipython3",
   "version": "3.10.9"
  }
 },
 "nbformat": 4,
 "nbformat_minor": 4
}
